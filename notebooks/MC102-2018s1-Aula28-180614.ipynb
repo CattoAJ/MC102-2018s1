{
 "cells": [
  {
   "cell_type": "code",
   "execution_count": 1,
   "metadata": {
    "ExecuteTime": {
     "end_time": "2018-04-26T01:12:04.093689Z",
     "start_time": "2018-04-26T01:12:04.090231Z"
    },
    "init_cell": true
   },
   "outputs": [],
   "source": [
    "from IPython.core.interactiveshell import InteractiveShell\n",
    "InteractiveShell.ast_node_interactivity = \"all\""
   ]
  },
  {
   "cell_type": "code",
   "execution_count": 2,
   "metadata": {},
   "outputs": [],
   "source": [
    "from time import perf_counter\n",
    "import random"
   ]
  },
  {
   "cell_type": "markdown",
   "metadata": {},
   "source": [
    "# Exercícios de revisão 1\n",
    "#### MC102-2018s1-Aula28-180614"
   ]
  },
  {
   "cell_type": "markdown",
   "metadata": {},
   "source": [
    "## 1. Função para calcular uma aproximação de $\\pi$.\n",
    "Escreva uma função chamada $myPi$ que retorne uma aproximação de $\\pi \\;(3.14159\\dots)$, usando a fórmula de Leibniz:\n",
    "\n",
    "$$1 - \\frac{1}{3} + \\frac{1}{5} - \\frac{1}{7} + \\dots = \\frac{\\pi}{4}$$\n",
    "\n",
    "Como referência, o valor aproximado de $\\pi$ usado por Python é..."
   ]
  },
  {
   "cell_type": "code",
   "execution_count": 3,
   "metadata": {},
   "outputs": [
    {
     "name": "stdout",
     "output_type": "stream",
     "text": [
      "3.141592653589793\n"
     ]
    }
   ],
   "source": [
    "import math\n",
    "print(math.pi)"
   ]
  },
  {
   "cell_type": "markdown",
   "metadata": {},
   "source": [
    "### 1.1 Discussão\n",
    "Este problema envolve o cálculo de uma soma parcial de uma sequência infinita.   \n",
    "\n",
    "$$s_n = t_0 + t_1 + \\dots + t_n$$\n",
    "\n",
    "Essa sequência pode ser expressa de forma recorrente como\n",
    "\n",
    "\\begin{align*}\n",
    "s_0 &= t_0           \\\\\n",
    "s_1 &= s_0 + t_1     \\\\\n",
    "    &\\vdots          \\\\\n",
    "s_n &= s_{n-1} + t_n \\\\\n",
    "\\end{align*}"
   ]
  },
  {
   "cell_type": "markdown",
   "metadata": {},
   "source": [
    "Numa implementação, nosso objetivo será calcular $s_n$ para $n$ suficientemente grande ou $t_n$ suficientemente pequeno de modo que $s_n$ possa ser considerada uma aproximação aceitável de $s_\\infty$."
   ]
  },
  {
   "cell_type": "markdown",
   "metadata": {},
   "source": [
    "Por sua vez, a sequência $t$ é dada por\n",
    "\n",
    "$$\n",
    "t = \\left\\{ \\frac{1}{1},  \\frac{-1}{3}, \\frac{1}{5}, \n",
    "            \\frac{-1}{7}, \\dots \\right\\}\n",
    "$$\n",
    "\n",
    "e pode ser expressa de forma direta ou recorrente."
   ]
  },
  {
   "cell_type": "markdown",
   "metadata": {},
   "source": [
    "Para desenvolver a expressão direta, o principal cuidado é notar que nos termos com índice par o numerador da fração é igual a $1$, enquanto que nos termos com índice ímpar ele é igual a $-1$. \n",
    "Isso nos leva a:\n",
    "$$\n",
    "t_i = \\frac{(-1)^i}{2i+1}\n",
    "$$"
   ]
  },
  {
   "cell_type": "markdown",
   "metadata": {},
   "source": [
    "A implementação direta normalmente será feita por um laço _while_ ou _for_.   \n",
    "Se escolhermos o laço _while_, a repetição será normalmente interrompida depois de um certo número de iterações ou quando os termos da sequência ficarem menores do que um valor $\\varepsilon$ pré-especificado.   \n",
    "Se escolhermos o laço _for_ a interrupção naturalmente acontecerá após um certo número de iterações."
   ]
  },
  {
   "cell_type": "markdown",
   "metadata": {},
   "source": [
    "#### 1.1.1 Implementação direta com um laço _while_"
   ]
  },
  {
   "cell_type": "code",
   "execution_count": 4,
   "metadata": {},
   "outputs": [
    {
     "name": "stdout",
     "output_type": "stream",
     "text": [
      "3.1415928535897395\n"
     ]
    }
   ],
   "source": [
    "def myPi(epsilon):\n",
    "    i = 0\n",
    "    t = 1.0   \n",
    "    s = t\n",
    "    while abs(t) > epsilon:\n",
    "        i += 1\n",
    "        t = (-1) ** i / (2 * i + 1)\n",
    "        s += t\n",
    "    return 4 * s\n",
    "\n",
    "print(myPi(1e-7))"
   ]
  },
  {
   "cell_type": "markdown",
   "metadata": {},
   "source": [
    "#### 1.1.2 Implementação direta com um laço _for_"
   ]
  },
  {
   "cell_type": "code",
   "execution_count": 5,
   "metadata": {},
   "outputs": [
    {
     "name": "stdout",
     "output_type": "stream",
     "text": [
      "3.1415925535897915\n"
     ]
    }
   ],
   "source": [
    "def myPi(n):\n",
    "    t = 0.0\n",
    "    s = t\n",
    "    for i in range(n):\n",
    "        t = (-1) ** i / (2 * i + 1)\n",
    "        s += t\n",
    "    return 4 * s\n",
    "\n",
    "print(myPi(10**7))"
   ]
  },
  {
   "cell_type": "markdown",
   "metadata": {},
   "source": [
    "Para desenvolver uma solução por recorrência, vamos primeiro expressar o numerador e o denominador da fração também como sequências, isto é\n",
    "\n",
    "$$\n",
    "t_i = \\frac{num_i}{den_i}\n",
    "$$\n",
    "\n",
    "onde $num = \\left\\{1, -1, 1, -1, \\dots \\right\\}$ e \n",
    "$den = \\left\\{1, 3, 5, 7, \\dots \\right\\}$.\n",
    "\n",
    "Com isso já é possível escrever as expressões recorrentes\n",
    "\n",
    "\\begin{align*}\n",
    "num_i &= -num_{i-1}    \\\\\n",
    "den_i &= den_{i-1} + 2 \\\\\n",
    "t_i   &= \\frac{num_i}{den_i}\n",
    "\\end{align*}\n",
    "\n",
    "e aproveitar do desenvolvimento anterior\n",
    "$$ s_i = s_{i-1} + t_i$$"
   ]
  },
  {
   "cell_type": "markdown",
   "metadata": {},
   "source": [
    "Nas implementações abaixo, as atribuições que precedem os laços, definem os valores iniciais $num_0, den_0, t_0$ e $s_0$ necessários na primeira iteração."
   ]
  },
  {
   "cell_type": "markdown",
   "metadata": {},
   "source": [
    "#### 1.1.3 Implementação recorrente com um laço _while_"
   ]
  },
  {
   "cell_type": "code",
   "execution_count": 6,
   "metadata": {},
   "outputs": [
    {
     "name": "stdout",
     "output_type": "stream",
     "text": [
      "3.1415946535856922\n"
     ]
    }
   ],
   "source": [
    "def myPi(epsilon):\n",
    "    num = 1\n",
    "    den = 1\n",
    "    t = num / den\n",
    "    s = t\n",
    "    while abs(t) > epsilon:\n",
    "        num *= -1\n",
    "        den += 2\n",
    "        t = num / den\n",
    "        s += t\n",
    "    return 4 * s\n",
    "\n",
    "print(myPi(1e-6))"
   ]
  },
  {
   "cell_type": "markdown",
   "metadata": {},
   "source": [
    "#### 1.1.4 Implementação recorrente com um laço _for_"
   ]
  },
  {
   "cell_type": "code",
   "execution_count": 7,
   "metadata": {},
   "outputs": [
    {
     "name": "stdout",
     "output_type": "stream",
     "text": [
      "3.1415927535897814\n"
     ]
    }
   ],
   "source": [
    "def myPi(num_termos):\n",
    "    num = 1\n",
    "    den = 1\n",
    "    t = num / den\n",
    "    s = t\n",
    "    for i in range(num_termos):\n",
    "        num *= -1\n",
    "        den += 2\n",
    "        t = num / den\n",
    "        s += t\n",
    "    return 4 * s\n",
    "\n",
    "print(myPi(10**7))"
   ]
  },
  {
   "cell_type": "markdown",
   "metadata": {},
   "source": [
    "## 2. Função para reconhecer se um triângulo é retângulo\n",
    "Escreva uma função $\\mathit {é\\_retângulo}$ que, dado o comprimento dos três lados de um triângulo, em qualquer ordem, determine se o triângulo é retângulo, \n",
    "retornando $\\mathit{True}$ caso ele o seja, ou $ \\mathit{False}$, caso contrário."
   ]
  },
  {
   "cell_type": "markdown",
   "metadata": {},
   "source": [
    "### 2.1 Discussão\n",
    "De acordo com o enunciado, \n",
    "os três valores dados correspondem aos lados de um triângulo, \n",
    "portanto não é preciso verificar a existência da figura.\n",
    "\n",
    "De acordo com o Teorema de Pitágoras, num triângulo retângulo a soma dos quadrados dos menores lados é igual ao quadrado do maior lado. \n",
    "\n",
    "Esta é a primeira dificuldade deste problema: os lados são dados em qualquer ordem. \n",
    "\n",
    "A segunda dificuldade está no fato de a aritmética de ponto flutuante quase nunca ser exata. Por isso não é seguro testar a igualdade de números de ponto flutuante. Para determinar se $x$ é “igual” a $y$ escreve-se algo como...\n",
    "```python\n",
    "if abs(x - y) < epsilon:     # se x é aproximadamente igual a y\n",
    "    ...\n",
    "```\n",
    "que permite avaliar se a diferença entre $x$ e $y$ está dentro de uma tolerância $\\varepsilon$ preestabelecida."
   ]
  },
  {
   "cell_type": "markdown",
   "metadata": {},
   "source": [
    "### 2.1 Solução direta\n",
    "\n",
    "Neste caso, identificamos a hipotenusa e ajustamos a fórmula do teorema de Pitágoras adequadamente."
   ]
  },
  {
   "cell_type": "code",
   "execution_count": 8,
   "metadata": {},
   "outputs": [
    {
     "data": {
      "text/plain": [
       "True"
      ]
     },
     "execution_count": 8,
     "metadata": {},
     "output_type": "execute_result"
    },
    {
     "data": {
      "text/plain": [
       "False"
      ]
     },
     "execution_count": 8,
     "metadata": {},
     "output_type": "execute_result"
    },
    {
     "data": {
      "text/plain": [
       "True"
      ]
     },
     "execution_count": 8,
     "metadata": {},
     "output_type": "execute_result"
    }
   ],
   "source": [
    "def é_retângulo(a, b, c):\n",
    "    if c > a and c > b:     # c é o maior lado?\n",
    "        return abs(a ** 2 + b ** 2 - c ** 2) < 0.001\n",
    "    elif a > b and a > c:   # a é o maior lado?\n",
    "        return abs(c ** 2 + b ** 2 - a ** 2) < 0.001\n",
    "    else:                   # então o maior lado é b\n",
    "        return abs(a ** 2 + c ** 2 - b ** 2) < 0.001\n",
    "\n",
    "é_retângulo(3, 5, 4.0)\n",
    "é_retângulo(3, 5, 4.001)\n",
    "é_retângulo(3, 5, 4.0001)"
   ]
  },
  {
   "cell_type": "markdown",
   "metadata": {},
   "source": [
    "### 2.1 Solução simples\n",
    "\n",
    "Neste caso, identificamos o maior lado e, se necessário, permutamos  dois parâmetros para que ele sempre seja $c$. \n",
    "Com isso, não é necessário ajustar a fórmula do teorema de Pitágoras."
   ]
  },
  {
   "cell_type": "code",
   "execution_count": 9,
   "metadata": {},
   "outputs": [
    {
     "data": {
      "text/plain": [
       "True"
      ]
     },
     "execution_count": 9,
     "metadata": {},
     "output_type": "execute_result"
    },
    {
     "data": {
      "text/plain": [
       "False"
      ]
     },
     "execution_count": 9,
     "metadata": {},
     "output_type": "execute_result"
    },
    {
     "data": {
      "text/plain": [
       "True"
      ]
     },
     "execution_count": 9,
     "metadata": {},
     "output_type": "execute_result"
    }
   ],
   "source": [
    "def é_retângulo(a, b, c):\n",
    "    if a > b and a > c:      # a é o maior lado: trocamos com c\n",
    "        a, c = c, a\n",
    "    elif b > a and b > c:    # b é o maior lado: trocamos com c\n",
    "        b, c = c, b        \n",
    "    return abs(a ** 2 + b ** 2 - c ** 2) < 0.001\n",
    "\n",
    "é_retângulo(3, 5, 4.0)\n",
    "é_retângulo(3, 5, 4.001)\n",
    "é_retângulo(3, 5, 4.0001)"
   ]
  },
  {
   "cell_type": "markdown",
   "metadata": {},
   "source": [
    "### 2.2 Solução usando uma lista\n",
    "\n",
    "Neste caso, criamos e ordenamos uma lista com os três parâmetros. Dessa forma, o maior lado sempre será o último item da lista. \n",
    "A atribuição converte a lista ordenada em uma tupla (no caso, expressa sem os parênteses, que são opcionais)."
   ]
  },
  {
   "cell_type": "code",
   "execution_count": 10,
   "metadata": {},
   "outputs": [
    {
     "data": {
      "text/plain": [
       "True"
      ]
     },
     "execution_count": 10,
     "metadata": {},
     "output_type": "execute_result"
    },
    {
     "data": {
      "text/plain": [
       "False"
      ]
     },
     "execution_count": 10,
     "metadata": {},
     "output_type": "execute_result"
    },
    {
     "data": {
      "text/plain": [
       "True"
      ]
     },
     "execution_count": 10,
     "metadata": {},
     "output_type": "execute_result"
    }
   ],
   "source": [
    "def é_retângulo(a, b, c):\n",
    "    a, b, c = sorted([a, b, c])\n",
    "    return abs(a ** 2 + b ** 2 - c ** 2) < 0.001\n",
    "\n",
    "é_retângulo(3, 5, 4.0)\n",
    "é_retângulo(3, 5, 4.001)\n",
    "é_retângulo(3, 5, 4.0001)"
   ]
  },
  {
   "cell_type": "markdown",
   "metadata": {},
   "source": [
    "## 3. Funções sobre listas\n",
    "Embora Python ofereça muitos métodos de lista, é muito instrutivo entender como eles são implementados. Implemente funções Python que retornem o mesmo resultado que os métodos abaixo."
   ]
  },
  {
   "cell_type": "markdown",
   "metadata": {},
   "source": [
    "### 3.1 count\n",
    "Conta e retorna quantas vezes um dado $objeto$ aparece em uma $lista$."
   ]
  },
  {
   "cell_type": "code",
   "execution_count": 11,
   "metadata": {},
   "outputs": [],
   "source": [
    "def my_count(objeto, lista):\n",
    "    n = 0\n",
    "    for item in lista:\n",
    "        if item == objeto:\n",
    "            n += 1\n",
    "    return n"
   ]
  },
  {
   "cell_type": "code",
   "execution_count": 12,
   "metadata": {},
   "outputs": [
    {
     "name": "stdout",
     "output_type": "stream",
     "text": [
      "467 ns ± 5.81 ns per loop (mean ± std. dev. of 7 runs, 1000000 loops each)\n"
     ]
    }
   ],
   "source": [
    "%%timeit lista = [1, 2, 1, 1, 3, 2, 1, 2, 3, 5]\n",
    "my_count(1, lista)"
   ]
  },
  {
   "cell_type": "markdown",
   "metadata": {},
   "source": [
    "Uma solução equivalente pode ser criada usando uma _list comprehension_.\n",
    "Esta solução será mais compacta mas menos eficiente devido ao custo da criação da lista adicional."
   ]
  },
  {
   "cell_type": "code",
   "execution_count": 13,
   "metadata": {},
   "outputs": [],
   "source": [
    "def my_count(objeto, lista):\n",
    "    return len([True for x in lista if x == objeto])"
   ]
  },
  {
   "cell_type": "code",
   "execution_count": 14,
   "metadata": {},
   "outputs": [
    {
     "name": "stdout",
     "output_type": "stream",
     "text": [
      "684 ns ± 11.5 ns per loop (mean ± std. dev. of 7 runs, 1000000 loops each)\n"
     ]
    }
   ],
   "source": [
    "%%timeit lista = [1, 2, 1, 1, 3, 2, 1, 2, 3, 5]\n",
    "my_count(1, lista)"
   ]
  },
  {
   "cell_type": "markdown",
   "metadata": {},
   "source": [
    "Também é possível criar uma solução recursiva, desde que a $lista$ também seja vista dessa forma.\n",
    "Por exemplo,\n",
    "$$lista = [\\,] \\enspace | \\enspace [item] + lista$$\n",
    "isto é, _uma lista é vazia_ ou é _uma lista com um único item seguida por uma lista_."
   ]
  },
  {
   "cell_type": "code",
   "execution_count": 15,
   "metadata": {},
   "outputs": [],
   "source": [
    "def my_count(objeto, lista):\n",
    "    if len(lista) == 0:\n",
    "        return 0\n",
    "    elif lista[0] == objeto:\n",
    "        return 1 + my_count(objeto, lista[1:])\n",
    "    else:\n",
    "        return my_count(objeto, lista[1:])"
   ]
  },
  {
   "cell_type": "code",
   "execution_count": 16,
   "metadata": {},
   "outputs": [
    {
     "name": "stdout",
     "output_type": "stream",
     "text": [
      "2.86 µs ± 162 ns per loop (mean ± std. dev. of 7 runs, 100000 loops each)\n"
     ]
    }
   ],
   "source": [
    "%%timeit lista = [1, 2, 1, 1, 3, 2, 1, 2, 3, 5]\n",
    "my_count(1, lista)"
   ]
  },
  {
   "cell_type": "markdown",
   "metadata": {},
   "source": [
    "Veja como o _overhead_ da chamada recursiva e a clonagem da lista comprometeram a eficiência da função.   \n",
    "Visando atenuar um pouco esse prejuízo, na implementação abaixo foi acrescentado um terceiro parâmetro (opcional) que dá a posição da lista em que a busca se encontra, evitando a clonagem da $lista$ nas sucessivas chamadas."
   ]
  },
  {
   "cell_type": "code",
   "execution_count": 17,
   "metadata": {},
   "outputs": [],
   "source": [
    "def my_count(objeto, lista, i=0):\n",
    "    if i >= len(lista):\n",
    "        return 0\n",
    "    elif lista[i] == objeto:\n",
    "        return 1 + my_count(objeto, lista, i+1)\n",
    "    else:\n",
    "        return my_count(objeto, lista, i+1)"
   ]
  },
  {
   "cell_type": "code",
   "execution_count": 18,
   "metadata": {},
   "outputs": [
    {
     "name": "stdout",
     "output_type": "stream",
     "text": [
      "2.19 µs ± 20.8 ns per loop (mean ± std. dev. of 7 runs, 100000 loops each)\n"
     ]
    }
   ],
   "source": [
    "%%timeit lista = [1, 2, 1, 1, 3, 2, 1, 2, 3, 5]\n",
    "my_count(1, lista)"
   ]
  },
  {
   "cell_type": "markdown",
   "metadata": {},
   "source": [
    "### 3.2 in\n",
    "Testar se em uma $lista$ existe pelo menos um item com valor igual ao de um dado $objeto$ e retornar $True$ ou $False$, conforme o resultado do teste."
   ]
  },
  {
   "cell_type": "code",
   "execution_count": 19,
   "metadata": {},
   "outputs": [],
   "source": [
    "def my_in(objeto, lista):\n",
    "    for item in lista:\n",
    "        if item == objeto:\n",
    "            return True\n",
    "    return False"
   ]
  },
  {
   "cell_type": "code",
   "execution_count": 20,
   "metadata": {},
   "outputs": [
    {
     "name": "stdout",
     "output_type": "stream",
     "text": [
      "11.2 ms ± 336 µs per loop (mean ± std. dev. of 7 runs, 100 loops each)\n"
     ]
    }
   ],
   "source": [
    "%%timeit lista = random.choices(range(1000), k=500)\n",
    "for i in range(1000): \n",
    "    x = my_in(i, lista)"
   ]
  },
  {
   "cell_type": "markdown",
   "metadata": {},
   "source": [
    "### 3.3 reverse\n",
    "Altera uma $lista$ dada, invertendo a ordem de seus itens, e retorna $None$."
   ]
  },
  {
   "cell_type": "markdown",
   "metadata": {},
   "source": [
    "#### 3.3.1 Solução iterativa\n",
    "Percorremos a lista até o meio, permutando os itens em posições simétricas em relação ao centro da lista."
   ]
  },
  {
   "cell_type": "code",
   "execution_count": 21,
   "metadata": {},
   "outputs": [
    {
     "name": "stdout",
     "output_type": "stream",
     "text": [
      "['a', 'g', 'r', 'a', 'm', 'a', ' ', 'é', ' ', 'a', 'm', 'a', 'r', 'g', ' ', 'a']\n",
      "['a', 'n', 'o', 't', 'a', 'r', 'a', 'm', ' ', 'a', 'd', ' ', 'a', 't', 'a', 'd', ' ', 'a', ' ', 'm', 'a', 'r', 'a', 't', 'o', 'n', 'a']\n",
      "[True, 3.14, 'abc', 1]\n"
     ]
    }
   ],
   "source": [
    "def my_reverse(lista):\n",
    "    for i in range(len(lista) // 2):\n",
    "        lista[i], lista[-1-i] = lista[-1-i], lista[i]\n",
    "\n",
    "teste = list('a grama é amarga')\n",
    "my_reverse(teste)\n",
    "print(teste)\n",
    "\n",
    "teste = list('anotaram a data da maratona')\n",
    "my_reverse(teste)\n",
    "print(teste)\n",
    "\n",
    "teste = [1, 'abc', 3.14, True]\n",
    "my_reverse(teste)\n",
    "print(teste)\n"
   ]
  },
  {
   "cell_type": "code",
   "execution_count": 22,
   "metadata": {},
   "outputs": [
    {
     "name": "stdout",
     "output_type": "stream",
     "text": [
      "5.13 µs ± 105 ns per loop (mean ± std. dev. of 7 runs, 100000 loops each)\n"
     ]
    }
   ],
   "source": [
    "%%timeit\n",
    "teste = list('a grama é amarga')\n",
    "my_reverse(teste)\n",
    "teste = list('anotaram a data da maratona')\n",
    "my_reverse(teste)\n",
    "teste = [1, 'abc', 3.14, True]\n",
    "my_reverse(teste)"
   ]
  },
  {
   "cell_type": "markdown",
   "metadata": {},
   "source": [
    "#### 3.3.2 Solução recursiva\n",
    "É possível desenvolver uma solução recursiva, desde que a $lista$ também seja vista dessa forma.\n",
    "Por exemplo,\n",
    "$$lista = [\\;] \\enspace \\vert \\enspace [item] \\enspace | \\enspace [item] + lista + [item]$$\n",
    "isto é, _uma lista é vazia_ ou é _uma lista com um único item_ ou é _uma lista com mais um item no início e outro no final_.\n",
    "\n",
    "A implementação abaixo identifica e ignora os casos-base (a $lista$ inversa é igual à original) e faz a chamada recursiva nos demais casos. O índice de controle do laço _for_ da solução iterativa aqui é transmitido pelo segundo parâmetro.    \n",
    "Isso permite evitar a clonagem da $lista$ nas sucessivas chamadas, que é uma das maiores causas de ineficiência em algoritmos recursivos.\n"
   ]
  },
  {
   "cell_type": "code",
   "execution_count": 23,
   "metadata": {},
   "outputs": [
    {
     "name": "stdout",
     "output_type": "stream",
     "text": [
      "['a', 'g', 'r', 'a', 'm', 'a', ' ', 'é', ' ', 'a', 'm', 'a', 'r', 'g', ' ', 'a']\n",
      "['a', 'n', 'o', 't', 'a', 'r', 'a', 'm', ' ', 'a', 'd', ' ', 'a', 't', 'a', 'd', ' ', 'a', ' ', 'm', 'a', 'r', 'a', 't', 'o', 'n', 'a']\n",
      "[True, 3.14, 'abc', 1]\n"
     ]
    }
   ],
   "source": [
    "def my_reverse(lista, i=0):\n",
    "    if i < len(lista) // 2:\n",
    "        lista[i], lista[-1-i] = lista[-1-i], lista[i]\n",
    "        my_reverse(lista, i+1)\n",
    "\n",
    "teste = list('a grama é amarga')\n",
    "my_reverse(teste)\n",
    "print(teste)\n",
    "\n",
    "teste = list('anotaram a data da maratona')\n",
    "my_reverse(teste)\n",
    "print(teste)\n",
    "\n",
    "teste = [1, 'abc', 3.14, True]\n",
    "my_reverse(teste)\n",
    "print(teste)"
   ]
  },
  {
   "cell_type": "code",
   "execution_count": 24,
   "metadata": {},
   "outputs": [
    {
     "name": "stdout",
     "output_type": "stream",
     "text": [
      "11.5 µs ± 2.66 µs per loop (mean ± std. dev. of 7 runs, 100000 loops each)\n"
     ]
    }
   ],
   "source": [
    "%%timeit\n",
    "teste = list('a grama é amarga')\n",
    "my_reverse(teste)\n",
    "teste = list('anotaram a data da maratona')\n",
    "my_reverse(teste)\n",
    "teste = [1, 'abc', 3.14, True]\n",
    "my_reverse(teste)"
   ]
  },
  {
   "cell_type": "markdown",
   "metadata": {},
   "source": [
    "### 3.4 index\n",
    "Retorna o índice do primeiro item de uma dada $lista$ com valor igual ao de um dado $objeto$ ou $None$ se ele não existir."
   ]
  },
  {
   "cell_type": "markdown",
   "metadata": {},
   "source": [
    "Uma solução direta usa um comando _for_ para percorrer a $lista$ e ao encontrar um item com valor igual ao de $objeto$ retorna seu índice."
   ]
  },
  {
   "cell_type": "code",
   "execution_count": 25,
   "metadata": {},
   "outputs": [
    {
     "name": "stdout",
     "output_type": "stream",
     "text": [
      "2 None\n"
     ]
    }
   ],
   "source": [
    "def my_index_1(objeto, lista):\n",
    "    for ix in range(len(lista)):\n",
    "        if lista[ix] == objeto:\n",
    "            return ix\n",
    "    return None\n",
    "\n",
    "l = [1, 'abc', 3.14, True]\n",
    "print(my_index_1(3.14, l), my_index_1(3.1416, l))"
   ]
  },
  {
   "cell_type": "markdown",
   "metadata": {},
   "source": [
    "Para evitar a manipulação direta do índice é possível usar $enumerate(lista)$ no lugar da $range$."
   ]
  },
  {
   "cell_type": "code",
   "execution_count": 26,
   "metadata": {},
   "outputs": [
    {
     "name": "stdout",
     "output_type": "stream",
     "text": [
      "2 None\n"
     ]
    }
   ],
   "source": [
    "def my_index_2(objeto, lista):\n",
    "    for ix, item in enumerate(lista):\n",
    "        if item == objeto:\n",
    "            return ix\n",
    "    return None\n",
    "\n",
    "lista = [1, 'abc', 3.14, True]\n",
    "print(my_index_2(3.14, lista), my_index_2(3.1416, lista))"
   ]
  },
  {
   "cell_type": "markdown",
   "metadata": {},
   "source": [
    "Neste caso, a solução com $enumerate$ é ligeiramente mais eficiente."
   ]
  },
  {
   "cell_type": "code",
   "execution_count": 27,
   "metadata": {},
   "outputs": [
    {
     "name": "stdout",
     "output_type": "stream",
     "text": [
      "29.9 ms ± 5.84 ms per loop (mean ± std. dev. of 7 runs, 10 loops each)\n"
     ]
    }
   ],
   "source": [
    "%%timeit lista = random.choices(range(1000), k=500)\n",
    "for i in range(1000): x = my_index_1(i, lista)"
   ]
  },
  {
   "cell_type": "code",
   "execution_count": 28,
   "metadata": {},
   "outputs": [
    {
     "name": "stdout",
     "output_type": "stream",
     "text": [
      "24.3 ms ± 5.29 ms per loop (mean ± std. dev. of 7 runs, 10 loops each)\n"
     ]
    }
   ],
   "source": [
    "%%timeit lista = random.choices(range(1000), k=500)\n",
    "for i in range(1000): x = my_index_2(i, lista)"
   ]
  },
  {
   "cell_type": "markdown",
   "metadata": {},
   "source": [
    "## 4. Arquivos de texto\n",
    "O arquivo-exemplo abaixo ($studentdata.txt$) contém uma linha para cada aluno de uma turma imaginária. \n",
    "O nome do aluno não contém espaços e é a primeira coisa em cada linha, seguido por algumas notas de provas. O número de notas pode variar de um aluno para outro.\n",
    "```\n",
    "josé 10 15 20 30 40 52\n",
    "antonio 23 16 19 22\n",
    "maria 8 22 17 14 32 17 24 21 2 9 11 17\n",
    "lúcia 12 28 21 45 26 10\n",
    "joão 14 32 25 16 89\n",
    "```\n",
    "Escreva um programa que leia o arquivo de texto $studentdata.txt$ e imprima os nomes de alunos que tenham pelo menos seis notas de provas."
   ]
  },
  {
   "cell_type": "code",
   "execution_count": 29,
   "metadata": {},
   "outputs": [
    {
     "name": "stdout",
     "output_type": "stream",
     "text": [
      "josé\n",
      "maria\n",
      "lúcia\n"
     ]
    }
   ],
   "source": [
    "dados = '../data/studentdata.txt'\n",
    "with open(dados) as arq:\n",
    "    linha = arq.readline()\n",
    "    while linha:\n",
    "        itens = linha.split()\n",
    "        if (len(itens) - 1 >= 6):\n",
    "            print(itens[0])\n",
    "        linha = arq.readline()"
   ]
  },
  {
   "cell_type": "markdown",
   "metadata": {},
   "source": [
    "## 5. Dicionários\n",
    "\n",
    "Escreva uma função que receba uma cadeia de caracteres e imprima uma tabela com as letras do alfabeto que ocorrem nessa cadeia, em ordem alfabética, junto com o número de vezes em que cada letra ocorre. \n",
    "\n",
    "Maiúsculas e minúsculas devem ser consideradas equivalentes e qualquer outro caractere deve ser ignorado."
   ]
  },
  {
   "cell_type": "markdown",
   "metadata": {},
   "source": [
    "### 5.1 Discussão\n",
    "Esta é uma aplicação típica para um _dicionário_.\n",
    "A cadeia de caracteres recebida deve ser convertida para minúsculas e depois examinada caractere a caractere, \n",
    "já ignorando os caracteres não-alfabéticos.\n",
    "\n",
    "A primeira ocorrência de uma letra causará sua inserção no dicionário com valor 1. Esse valor é incrementado a cada nova ocorrência da letra. \n",
    "\n",
    "Ao final, o dicionário deverá ser ordenado e exibido no seguinte formato\n",
    "```\n",
    "a 7\n",
    "c 3\n",
    "d 1\n",
    "```"
   ]
  },
  {
   "cell_type": "code",
   "execution_count": 30,
   "metadata": {},
   "outputs": [
    {
     "name": "stdout",
     "output_type": "stream",
     "text": [
      "a 7\n",
      "c 3\n",
      "d 1\n",
      "e 5\n",
      "i 3\n",
      "l 3\n",
      "m 3\n",
      "n 1\n",
      "r 1\n",
      "s 6\n",
      "t 3\n",
      "u 2\n"
     ]
    }
   ],
   "source": [
    "texto = 'Esta Cadeia 123 tEm letras MAIÚSCULAS e minúsculas.,:'\n",
    "qtd = dict()\n",
    "for letra in texto.lower():\n",
    "    if 'a' <= letra <= 'z':\n",
    "        if letra in qtd:\n",
    "            qtd[letra] += 1\n",
    "        else:\n",
    "            qtd[letra] = 1\n",
    "for letra in sorted(qtd):\n",
    "    print(letra, qtd[letra])"
   ]
  }
 ],
 "metadata": {
  "kernelspec": {
   "display_name": "Python 3",
   "language": "python",
   "name": "python3"
  },
  "language_info": {
   "codemirror_mode": {
    "name": "ipython",
    "version": 3
   },
   "file_extension": ".py",
   "mimetype": "text/x-python",
   "name": "python",
   "nbconvert_exporter": "python",
   "pygments_lexer": "ipython3",
   "version": "3.6.4"
  },
  "latex_envs": {
   "LaTeX_envs_menu_present": true,
   "autoclose": true,
   "autocomplete": true,
   "bibliofile": "biblio.bib",
   "cite_by": "apalike",
   "current_citInitial": 1,
   "eqLabelWithNumbers": true,
   "eqNumInitial": 1,
   "hotkeys": {
    "equation": "Ctrl-E",
    "itemize": "Ctrl-I"
   },
   "labels_anchors": false,
   "latex_user_defs": false,
   "report_style_numbering": false,
   "user_envs_cfg": false
  }
 },
 "nbformat": 4,
 "nbformat_minor": 2
}
