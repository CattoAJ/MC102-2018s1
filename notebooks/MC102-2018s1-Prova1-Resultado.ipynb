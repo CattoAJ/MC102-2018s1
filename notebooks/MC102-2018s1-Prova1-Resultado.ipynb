{
 "cells": [
  {
   "cell_type": "markdown",
   "metadata": {},
   "source": [
    "# MC102OP-1s2018 - Prova 1 - Resultado\n",
    "Este é apenas um exemplo de correção. As provas eram iguais mas algumas podem ter sido mais iguais do que as outras... Portanto, as questões abaixo podem ser ligeiramente diferentes das que você realmente respondeu.\n",
    "\n",
    "Se você, por acaso, respondeu uma questão que não estava na sua prova, sua nota estará zerada."
   ]
  },
  {
   "cell_type": "markdown",
   "metadata": {},
   "source": [
    "## Questão 1 (10 pontos)\n",
    "### Enunciado\n",
    "![](../img/MC102-2018s1-Prova1-split/File 1.pdf)"
   ]
  },
  {
   "cell_type": "markdown",
   "metadata": {},
   "source": [
    "### Solução\n",
    "Vamos dar nome às condições que devem ser atendidas:\n",
    "-   a: Maria e Marcos recebem autorização para tirar férias em dezembro.\n",
    "-   b: Carla não fica em recuperação. Em sua escola, a nota mínima para aprovação é 7!\n",
    "-   c: O 13° salário de Maria **ou** o 13° salário de Marcos são liberados antes do dia 11 de dezembro.\n",
    "-   d: O valor total da reserva do hotel e das passagens de avião é igual ou inferior a R$ 10.000.\n",
    "\n",
    "A família irá viajar se as quatro condições forem atendidas, isto é:\n",
    "```irão_viajar = a and b and c and d```\n",
    "\n",
    "Vamos calcular cada uma dessas condições:"
   ]
  },
  {
   "cell_type": "code",
   "execution_count": 1,
   "metadata": {},
   "outputs": [],
   "source": [
    "s = '''10\t9\t10\tSim\tSim\t01/12\t01/12\tR$ 3.000\tR$ 3.500\tSim\n",
    "9.1\t9.2\t7.9\tSim\tSim\t11/12\t11/12\tR$ 3.200\tR$ 4.800\tNão\n",
    "8\t8\t8\tSim\tSim\t10/12\t11/12\tR$ 2.150\tR$ 7.800\tSim\n",
    "9\t9\t9\tSim\tNão\t05/12\t01/12\tR$ 4.000\tR$ 3.000\tNão\n",
    "7\t7\t7\tNão\tSim\t02/12\t09/12\tR$ 3.450\tR$ 6.250\tNão\n",
    "7\t7\t7\tSim\tSim\t12/12\t08/12\tR$ 4.500\tR$ 5.500\tSim\n",
    "6.9\t7\t8\tSim\tSim\t25/12\t03/12\tR$ 2.750\tR$ 4.250\tNão\n",
    "7.5\t7.4\t7.3\tNão\tNão\t02/12\t08/12\tR$ 5.500\tR$ 4.500\tNão\n",
    "7\t7\t7.1\tSim\tSim\t11/12\t10/12\tR$ 3.208\tR$ 6.792\tSim\n",
    "6.9\t10\t10\tSim\tSim\t04/12\t05/12\tR$ 1.500\tR$ 3.300\tNão'''\n",
    "\n",
    "sr = s.replace('\\n', '\\t')\n",
    "ls = sr.split('\\t')\n",
    "\n",
    "notas = []\n",
    "férias = []\n",
    "décimo_terceiro = []\n",
    "valores = []\n",
    "for i in range(0, 100, 10):\n",
    "    notas.append([ls[i], ls[i+1], ls[i+2]])\n",
    "    férias.append([ls[i+3], ls[i+4]])\n",
    "    décimo_terceiro.append([ls[i+5], ls[i+6]])\n",
    "    valores.append([ls[i+7], ls[i+8]])"
   ]
  },
  {
   "cell_type": "code",
   "execution_count": 2,
   "metadata": {},
   "outputs": [
    {
     "name": "stdout",
     "output_type": "stream",
     "text": [
      "a: Férias\n",
      "Maria  Marcos a     \n",
      "Sim    Sim    True  \n",
      "Sim    Sim    True  \n",
      "Sim    Sim    True  \n",
      "Sim    Não    True  \n",
      "Não    Sim    False \n",
      "Sim    Sim    True  \n",
      "Sim    Sim    True  \n",
      "Não    Não    False \n",
      "Sim    Sim    True  \n",
      "Sim    Sim    True  \n"
     ]
    }
   ],
   "source": [
    "print('a: Férias')\n",
    "print(f\"{'Maria':6} {'Marcos':6} {'a':6}\")\n",
    "a = []\n",
    "for i in range(10):\n",
    "    x = férias[i]\n",
    "    a.append(x[0] == 'Sim') and (x[1] == 'Sim')\n",
    "    print(f'{x[0]:6} {x[1]:6} {repr(a[i]):6}')"
   ]
  },
  {
   "cell_type": "code",
   "execution_count": 3,
   "metadata": {},
   "outputs": [
    {
     "name": "stdout",
     "output_type": "stream",
     "text": [
      "b: Notas da Carla\n",
      "Ciênc.   Mat.  Port.  b     \n",
      "  10.0    9.0   10.0  True  \n",
      "   9.1    9.2    7.9  True  \n",
      "   8.0    8.0    8.0  True  \n",
      "   9.0    9.0    9.0  True  \n",
      "   7.0    7.0    7.0  True  \n",
      "   7.0    7.0    7.0  True  \n",
      "   6.9    7.0    8.0  False \n",
      "   7.5    7.4    7.3  True  \n",
      "   7.0    7.0    7.1  True  \n",
      "   6.9   10.0   10.0  False \n"
     ]
    }
   ],
   "source": [
    "print('b: Notas da Carla')\n",
    "print(f\"{'Ciênc.':>6} {'Mat.':>6} {'Port.':>6}  {'b':6}\")\n",
    "b = [True] * 10\n",
    "for i in range(10):\n",
    "    n = notas[i]\n",
    "    for j in range(3):\n",
    "        n[j] = float(n[j])\n",
    "        b[i] = b[i] and (n[j] >= 7)\n",
    "    print(f'{n[0]:6} {n[1]:6} {n[2]:6}  {repr(b[i]):6}')"
   ]
  },
  {
   "cell_type": "code",
   "execution_count": 4,
   "metadata": {},
   "outputs": [
    {
     "name": "stdout",
     "output_type": "stream",
     "text": [
      "c: Décimo-terceiro\n",
      "Maria  Marcos c     \n",
      "01/12  01/12  True  \n",
      "11/12  11/12  False \n",
      "10/12  11/12  True  \n",
      "05/12  01/12  True  \n",
      "02/12  09/12  True  \n",
      "12/12  08/12  False \n",
      "25/12  03/12  False \n",
      "02/12  08/12  True  \n",
      "11/12  10/12  False \n",
      "04/12  05/12  True  \n"
     ]
    }
   ],
   "source": [
    "print('c: Décimo-terceiro')\n",
    "print(f\"{'Maria':6} {'Marcos':6} {'c':6}\")\n",
    "c = []\n",
    "for i in range(10):\n",
    "    x = décimo_terceiro[i]\n",
    "    c.append(x[0] < '11/12') or (x[1] < '11/12')\n",
    "    print(f'{x[0]:6} {x[1]:6} {repr(c[i]):6}')"
   ]
  },
  {
   "cell_type": "code",
   "execution_count": 5,
   "metadata": {},
   "outputs": [
    {
     "name": "stdout",
     "output_type": "stream",
     "text": [
      "d: Valores\n",
      "Hotel Pass  d    \n",
      "3000  3500  True \n",
      "3200  4800  True \n",
      "2150  7800  True \n",
      "4000  3000  True \n",
      "3450  6250  True \n",
      "4500  5500  True \n",
      "2750  4250  True \n",
      "5500  4500  True \n",
      "3208  6792  True \n",
      "1500  3300  True \n"
     ]
    }
   ],
   "source": [
    "print('d: Valores')\n",
    "print(f\"{'Hotel':5} {'Pass':5} {'d':5}\")\n",
    "d = [True] * 10\n",
    "for i in range(10):\n",
    "    x = valores[i][:]\n",
    "    for j in range(2):\n",
    "        x[j] = 1000 * int(x[j][3]) + int(x[j][5:])\n",
    "    d[i] = sum(x) <= 10000\n",
    "    print(f'{x[0]:<5} {x[1]:<5} {repr(d[i]):5}')"
   ]
  },
  {
   "cell_type": "code",
   "execution_count": 6,
   "metadata": {},
   "outputs": [
    {
     "name": "stdout",
     "output_type": "stream",
     "text": [
      "A família irá viajar?\n",
      "a     b     c     d     irão_viajar\n",
      "True  True  True  True  True \n",
      "True  True  False True  False\n",
      "True  True  True  True  True \n",
      "True  True  True  True  True \n",
      "False True  True  True  False\n",
      "True  True  False True  False\n",
      "True  False False True  False\n",
      "False True  True  True  False\n",
      "True  True  False True  False\n",
      "True  False True  True  False\n"
     ]
    }
   ],
   "source": [
    "print('A família irá viajar?')\n",
    "print(f\"{'a':5} {'b':5} {'c':5} {'d':5} {'irão_viajar'}\") \n",
    "for i in range(10):\n",
    "    res = a[i] and b[i] and c[i] and d[i]\n",
    "    print(f'{repr(a[i]):5} {repr(b[i]):5} {repr(c[i]):5} {repr(d[i]):5} {repr(res):5}')\n"
   ]
  },
  {
   "cell_type": "markdown",
   "metadata": {},
   "source": [
    "### Critério de correção\n",
    "-   1 ponto por linha correta da tabela. \n",
    "-   Uma resposta errada anula uma certa."
   ]
  },
  {
   "cell_type": "markdown",
   "metadata": {},
   "source": [
    "## Questão 2 (10 pontos)\n",
    "### Enunciado\n",
    "![](../img/MC102-2018s1-Prova1-split/File 2.pdf)"
   ]
  },
  {
   "cell_type": "markdown",
   "metadata": {},
   "source": [
    "### Solução"
   ]
  },
  {
   "cell_type": "code",
   "execution_count": 7,
   "metadata": {},
   "outputs": [
    {
     "name": "stdout",
     "output_type": "stream",
     "text": [
      "0\n"
     ]
    }
   ],
   "source": [
    "n = 6 - 2 * 3\n",
    "c = 9 == n\n",
    "print(n)"
   ]
  },
  {
   "cell_type": "code",
   "execution_count": 8,
   "metadata": {},
   "outputs": [
    {
     "name": "stdout",
     "output_type": "stream",
     "text": [
      "True\n"
     ]
    }
   ],
   "source": [
    "n = 10 - 10\n",
    "c = 9 > n\n",
    "print(c)"
   ]
  },
  {
   "cell_type": "code",
   "execution_count": 9,
   "metadata": {},
   "outputs": [
    {
     "name": "stdout",
     "output_type": "stream",
     "text": [
      "1 True\n"
     ]
    }
   ],
   "source": [
    "n = 10 // 6\n",
    "c = 2 > n\n",
    "print(n, c)"
   ]
  },
  {
   "cell_type": "code",
   "execution_count": 10,
   "metadata": {},
   "outputs": [
    {
     "name": "stdout",
     "output_type": "stream",
     "text": [
      "not c = False\n"
     ]
    }
   ],
   "source": [
    "n = 2**3\n",
    "c = 10 > n\n",
    "print(\"not c =\", not c)"
   ]
  },
  {
   "cell_type": "code",
   "execution_count": 11,
   "metadata": {},
   "outputs": [
    {
     "name": "stdout",
     "output_type": "stream",
     "text": [
      "True False\n",
      "True False\n"
     ]
    }
   ],
   "source": [
    "n = 20 - 10\n",
    "c1 = 19 > n\n",
    "c2 = -12 > n\n",
    "r1 = c1 or c2\n",
    "r2 = c1 and c2\n",
    "print(c1, c2)\n",
    "print(r1, r2)"
   ]
  },
  {
   "cell_type": "code",
   "execution_count": 12,
   "metadata": {},
   "outputs": [
    {
     "name": "stdout",
     "output_type": "stream",
     "text": [
      "True False\n",
      "False True\n"
     ]
    }
   ],
   "source": [
    "n = 11 % 2\n",
    "c1 = 1 > n\n",
    "c2 = 0 < n\n",
    "r1 = not c1 and c2\n",
    "r2 = c1 or not c2\n",
    "print(r1, r2)\n",
    "print(c1, c2)"
   ]
  },
  {
   "cell_type": "code",
   "execution_count": 13,
   "metadata": {},
   "outputs": [
    {
     "name": "stdout",
     "output_type": "stream",
     "text": [
      "23 True False\n",
      "False True\n"
     ]
    }
   ],
   "source": [
    "n = 3 + 4 * 5\n",
    "r1 = not not True\n",
    "r2 = not (20 < n or n == 23)\n",
    "c1 = 30 < n or 20 > n and n > 10\n",
    "c2 = n > 0 or 12 <= n and monty_python\n",
    "print(n, r1, r2)\n",
    "print(c1, c2)"
   ]
  },
  {
   "cell_type": "markdown",
   "metadata": {},
   "source": [
    "### Critério de Correção\n",
    "-   1 ponto por item no bloco superior (4 itens)\n",
    "-   2 pontos por item no bloco inferior (3 itens)\n",
    "-   Respostas parcialmente corretas foram consideradas, mas não foram atribuídos pontos quebrados."
   ]
  },
  {
   "cell_type": "markdown",
   "metadata": {},
   "source": [
    "## Questão 3 (20 pontos)\n",
    "### Enunciado"
   ]
  },
  {
   "cell_type": "markdown",
   "metadata": {},
   "source": [
    "![](../img/MC102-2018s1-Prova1-split/File 3.pdf)"
   ]
  },
  {
   "cell_type": "markdown",
   "metadata": {},
   "source": [
    "### Solução"
   ]
  },
  {
   "cell_type": "markdown",
   "metadata": {},
   "source": [
    "O programa desenvolvido por Maria é:\n",
    "```python\n",
    "a = int(input())\n",
    "b = int(input())\n",
    "if (b < a):\n",
    "    print(\"Maior\")\n",
    "elif (b < a):\n",
    "    print(\"Menor\")\n",
    "if (a >= b):\n",
    "    print(\"Igual\")\n",
    "```\n",
    "-   Por causa da aplicação de ```int()``` à entrada, esse código *\"quebra\"* se for digitado um *float* ou uma *string*.\n",
    "-   A palavra _\"Maior\"_ é exibida, dentro do primeiro ```if```, quando forem digitados dois inteiros e o segundo for menor que o primeiro, isto é, quando a confição ```b < a``` for satisfeita. \n",
    "-   Se forem digitados `13` e `10`, a condição ```b < a``` será verdadeira no primeiro ```if```,\n",
    "causando a exibição da palavra *\"Maior\"* e a condição ```a >= b``` também será verdadeira no segundo ```if```, que é independente do primeiro, causando a exibição da palavra *\"Igual\"*.\n",
    "-   Neste caso, um programa correto seria, por exemplo,"
   ]
  },
  {
   "cell_type": "code",
   "execution_count": 14,
   "metadata": {},
   "outputs": [
    {
     "name": "stdout",
     "output_type": "stream",
     "text": [
      "Maior\n"
     ]
    }
   ],
   "source": [
    "a = int(input())\n",
    "b = int(input())\n",
    "if (a > b):\n",
    "    print(\"Maior\")\n",
    "elif (a < b):\n",
    "    print(\"Menor\")\n",
    "else:\n",
    "    print(\"Igual\")"
   ]
  },
  {
   "cell_type": "markdown",
   "metadata": {},
   "source": [
    "### Critério de Correção\n",
    "-   Primeiro item    \n",
    "    2 pontos, para um _float_ ou uma _string_\n",
    "-   Segundo item    \n",
    "    4 pontos, para dois inteiros coerentes\n",
    "-   Terceiro item    \n",
    "    4 pontos para uma resposta correta    \n",
    "    1 ponto se tiver sido apresentada apenas uma palavra\n",
    "-   Quarto item    \n",
    "    10 pontos para uma resposta correta\n",
    "    5 pontos para dois ```if```s\n",
    "    Pontos proporcionais para respostas parcialmente corretas"
   ]
  },
  {
   "cell_type": "markdown",
   "metadata": {},
   "source": [
    "## Questão 4 (30 pontos)\n",
    "### Enunciado\n",
    "![](../img/MC102-2018s1-Prova1-split/File 4.pdf)"
   ]
  },
  {
   "cell_type": "markdown",
   "metadata": {},
   "source": [
    "### Solução\n",
    "#### Primeiro item\n",
    "A variável ```n``` é inicializada com ```10```. Assim, a condição ```n >= 1``` é verdadeira e o corpo do ```while``` será executado. \n",
    "\n",
    "Como `n` é par, a condição ```(n % 2) == 0``` é verdadeira e o corpo do ```if``` será executado. Portanto, será exibida uma linha com o valor de ```n```. \n",
    "\n",
    "A variável ```n``` não foi alterada no corpo do ```while``` e, portanto, a condição ```n >= 1``` continuará sendo verdadeira. Assim, o valor de ```n``` será impresso *'eternamente'* ou até que o ususário interrompa a execução do programa.\n",
    "\n",
    "No exemplo abaixo, foi colocado um contador que simula a ação do usuário e interrompe a execução do programa depois de terem sido exibidas 10 linhas."
   ]
  },
  {
   "cell_type": "code",
   "execution_count": 15,
   "metadata": {},
   "outputs": [
    {
     "name": "stdout",
     "output_type": "stream",
     "text": [
      "10\n",
      "10\n",
      "10\n",
      "10\n",
      "10\n",
      "10\n",
      "10\n",
      "10\n",
      "10\n",
      "10\n"
     ]
    }
   ],
   "source": [
    "k = 0\n",
    "n = 10\n",
    "while (n >= 1):\n",
    "    if (n % 2) == 0:\n",
    "        print(n)\n",
    "    k += 1\n",
    "    if k > 9:\n",
    "        break"
   ]
  },
  {
   "cell_type": "markdown",
   "metadata": {},
   "source": [
    "#### Segundo item\n",
    "É preciso exibir uma sequência de valores, mas não é possível usar `for` ou `while`. A única opção é _forçar_ o resultado, como mostram os exemplos abaixo."
   ]
  },
  {
   "cell_type": "code",
   "execution_count": 16,
   "metadata": {},
   "outputs": [
    {
     "name": "stdout",
     "output_type": "stream",
     "text": [
      "9\n",
      "7\n",
      "5\n",
      "3\n",
      "1\n"
     ]
    }
   ],
   "source": [
    "print('9\\n7\\n5\\n3\\n1')"
   ]
  },
  {
   "cell_type": "code",
   "execution_count": 17,
   "metadata": {},
   "outputs": [
    {
     "name": "stdout",
     "output_type": "stream",
     "text": [
      "9\n",
      "7\n",
      "5\n",
      "3\n",
      "1\n"
     ]
    }
   ],
   "source": [
    "s = '''9\n",
    "7\n",
    "5\n",
    "3\n",
    "1'''\n",
    "print(s)"
   ]
  },
  {
   "cell_type": "markdown",
   "metadata": {},
   "source": [
    "#### Terceiro item\n",
    "O laço for deve varrer a faixa 9, 7, ...1. Lembrando que `range(start, stop, step)` inclui `start` mas exclui `stop`, não será difícil chegar à solução abaixo:"
   ]
  },
  {
   "cell_type": "code",
   "execution_count": 18,
   "metadata": {},
   "outputs": [
    {
     "name": "stdout",
     "output_type": "stream",
     "text": [
      "9\n",
      "7\n",
      "5\n",
      "3\n",
      "1\n"
     ]
    }
   ],
   "source": [
    "for x in range(9, 0, -2):\n",
    "    print(x)"
   ]
  },
  {
   "cell_type": "markdown",
   "metadata": {},
   "source": [
    "#### Quarto item\n",
    "Neste caso, queremos usar um `while` para exibir os múltiplos de 3, de 1 a 11, em ordem crescente, um por linha. Lembrando que um \n",
    "```python\n",
    "for x in range(start, stop, step):\n",
    "    <comandos>\n",
    "```\n",
    "com `step` positivo, é equivalente a\n",
    "```python\n",
    "x = start\n",
    "while x < stop:\n",
    "    <comandos>\n",
    "    x += step\n",
    "```\n",
    "não é difícil chegar à proposta abaixo:"
   ]
  },
  {
   "cell_type": "code",
   "execution_count": 19,
   "metadata": {},
   "outputs": [
    {
     "name": "stdout",
     "output_type": "stream",
     "text": [
      "3\n",
      "6\n",
      "9\n"
     ]
    }
   ],
   "source": [
    "x = 3\n",
    "while x < 12:\n",
    "    print(x)\n",
    "    x += 3"
   ]
  },
  {
   "cell_type": "markdown",
   "metadata": {},
   "source": [
    "### Critério de Correção\n",
    "-   Primeiro item   \n",
    "    5 pontos pela exibição de pelo menos um valor e indicação do loop infinito\n",
    "-   Segundo item    \n",
    "    5 pontos para sequência de valores com `'\\n'`    \n",
    "    2 pontos para sequência de valores sem `'\\n'`   \n",
    "    0 se tiver sido usado mais de um `print()`    \n",
    "-   Terceiro item    \n",
    "    10 pontos para `for` com `range(start, stop, step)` correto\n",
    "    5  pontos para `for` com `step` igual a `1` e teste interno para desconsiderar os pares\n",
    "    0 para solução sem um `for` ou com mais do que um    \n",
    "-   Quarto item    \n",
    "    10 pontos para ```while``` correto, com incremento igual a 3    \n",
    "    5  pontos para incremento 1 e verificação se o número é múltiplo de 3   \n",
    "    0 para solução sem um `while` ou com mais do que um"
   ]
  },
  {
   "cell_type": "markdown",
   "metadata": {},
   "source": [
    "![](../img/MC102-2018s1-Prova1-split/File 5.pdf)"
   ]
  },
  {
   "cell_type": "markdown",
   "metadata": {},
   "source": [
    "### Solução\n",
    "#### Primeiro item\n",
    "Não há qualquer problema. O script simplesmente define e exibe o conteúdo da lista."
   ]
  },
  {
   "cell_type": "code",
   "execution_count": 20,
   "metadata": {},
   "outputs": [
    {
     "name": "stdout",
     "output_type": "stream",
     "text": [
      "0\n",
      "2\n",
      "Maria\n",
      "José\n"
     ]
    }
   ],
   "source": [
    "lista = [0, 2, \"Maria\", \"José\"]\n",
    "tamanho = len(lista)\n",
    "for i in range(tamanho):\n",
    "    print(lista[i])"
   ]
  },
  {
   "cell_type": "markdown",
   "metadata": {},
   "source": [
    "#### Segundo item\n",
    "O script define uma _lista_ chamada `lista` e depois processa seus elementos, um a um. Se o valor do item for *\"Mário\"*, a condição do `if` é satisfeita e o `for` interno é executado, provocando a exibição dos valores `5` e `6`, em linhas separadas.\n",
    "\n",
    "Como há dois elementos com o valor *\"Mário\"* na lista, essa impressão acontece duas vezes. \n",
    "\n",
    "Quando o `for` esgota a lista e termina, a string `Fim` é exibida."
   ]
  },
  {
   "cell_type": "code",
   "execution_count": 21,
   "metadata": {},
   "outputs": [
    {
     "name": "stdout",
     "output_type": "stream",
     "text": [
      "5\n",
      "6\n",
      "5\n",
      "6\n",
      "Fim\n"
     ]
    }
   ],
   "source": [
    "lista = [\"Mário\", \"Maroi\", \"Mário\", \"Maria\"]\n",
    "for a in lista:\n",
    "    if (a == \"Mário\"):\n",
    "        for n in range(5,7):\n",
    "            print(n)\n",
    "print(\"Fim\")"
   ]
  },
  {
   "cell_type": "markdown",
   "metadata": {},
   "source": [
    "#### Terceiro item\n",
    "Para exibir **todos** os inteiros de `start` a `stop`, inclusive, basta fazer com que um `for` percorra `range(start, stop + 1)`, como mostra a solução abaixo."
   ]
  },
  {
   "cell_type": "code",
   "execution_count": 22,
   "metadata": {},
   "outputs": [
    {
     "name": "stdout",
     "output_type": "stream",
     "text": [
      "89 90 91 92 93 94 95 96 97 98 99 100 "
     ]
    }
   ],
   "source": [
    "for n in range(89, 101):\n",
    "    print(n, end=' ')"
   ]
  },
  {
   "cell_type": "markdown",
   "metadata": {},
   "source": [
    "#### Quarto item\n",
    "Para exibir em ordem crescente **todos os inteiros ímpares** de `start` a `stop`, inclusive, basta fazer com que um `for` percorra `range(start, stop + 1, step)`, com `start` ímpar e `step = 2`, como mostra a solução abaixo."
   ]
  },
  {
   "cell_type": "code",
   "execution_count": 23,
   "metadata": {},
   "outputs": [
    {
     "name": "stdout",
     "output_type": "stream",
     "text": [
      "89 91 93 95 97 99 "
     ]
    }
   ],
   "source": [
    "for n in range(89, 100, 2):\n",
    "    print(n, end=' ')"
   ]
  },
  {
   "cell_type": "markdown",
   "metadata": {},
   "source": [
    "#### Quinto item\n",
    "Era dado o código abaixo, que lê uma lista de `n` nomes."
   ]
  },
  {
   "cell_type": "code",
   "execution_count": 24,
   "metadata": {},
   "outputs": [],
   "source": [
    "n = int(input())\n",
    "lista = []\n",
    "for i in range(n) :\n",
    "    lista.append(input())"
   ]
  },
  {
   "cell_type": "markdown",
   "metadata": {},
   "source": [
    "Pede-se um comando que percorra a lista, exibindo os nomes com menos de 6 caracteres.\n",
    "\n",
    "Para isso basta um `for` que percorra a lista, contendo um `if` que filtre os nomes com 6 ou mais caracteres, como no exemplo abaixo:"
   ]
  },
  {
   "cell_type": "code",
   "execution_count": 25,
   "metadata": {},
   "outputs": [
    {
     "name": "stdout",
     "output_type": "stream",
     "text": [
      "Maria\n",
      "Rosa\n",
      "José\n"
     ]
    }
   ],
   "source": [
    "for nome in lista:\n",
    "    if len(nome) < 6:\n",
    "        print(nome)"
   ]
  },
  {
   "cell_type": "markdown",
   "metadata": {},
   "source": [
    "Alternativamente, você poderia gerar uma lista filtrada usando uma *list comprehension* e, depois, exibr essa lista."
   ]
  },
  {
   "cell_type": "code",
   "execution_count": 26,
   "metadata": {},
   "outputs": [
    {
     "name": "stdout",
     "output_type": "stream",
     "text": [
      "['Maria', 'Rosa', 'José']\n"
     ]
    }
   ],
   "source": [
    "nomes_curtos = [nome for nome in lista if len(nome) < 6]\n",
    "print(nomes_curtos)"
   ]
  },
  {
   "cell_type": "markdown",
   "metadata": {},
   "source": [
    "### Critério de Correção\n",
    "-   Primeiro item    \n",
    "    6 pontos para exibição dos elementos da lista em linhas separadas    \n",
    "    3 pontos para exibição dos elementos da lista numa mesma linha    \n",
    "    0 se você concordou com o Mário.\n",
    "-   Segundo item    \n",
    "    6 pontos para exibição de todos os elementos    \n",
    "    3 pontos para exibição de um par e \"Fim\"    \n",
    "    1 ponto para exibição apenas de \"Fim\"    \n",
    "    Metade dos pontos se exibiu os elementos um ao lado do outro.\n",
    "-   Terceiro item    \n",
    "    4 pontos para resposta correta\n",
    "    2 pontos para resposta com erro em `stop`\n",
    "-   Quarto item    \n",
    "    4 pontos para resposta correta\n",
    "    2 pontos para resposta com erro em `stop`    \n",
    "    0 se`step` diferente de `2`.\n",
    "-   Quinto item    \n",
    "    10 pontos para código correto e completo     \n",
    "    0 caso não tenha percorrido corretamente os elementos da lista\n",
    "    Outros erros pontuados proporcionalmente"
   ]
  },
  {
   "cell_type": "markdown",
   "metadata": {},
   "source": [
    "## Resultado"
   ]
  },
  {
   "cell_type": "code",
   "execution_count": 27,
   "metadata": {},
   "outputs": [
    {
     "data": {
      "text/html": [
       "<div>\n",
       "<style scoped>\n",
       "    .dataframe tbody tr th:only-of-type {\n",
       "        vertical-align: middle;\n",
       "    }\n",
       "\n",
       "    .dataframe tbody tr th {\n",
       "        vertical-align: top;\n",
       "    }\n",
       "\n",
       "    .dataframe thead th {\n",
       "        text-align: right;\n",
       "    }\n",
       "</style>\n",
       "<table border=\"1\" class=\"dataframe\">\n",
       "  <thead>\n",
       "    <tr style=\"text-align: right;\">\n",
       "      <th></th>\n",
       "      <th>Turma</th>\n",
       "      <th>RA</th>\n",
       "      <th>Nome</th>\n",
       "      <th>Q1</th>\n",
       "      <th>Q2</th>\n",
       "      <th>Q3</th>\n",
       "      <th>Q4</th>\n",
       "      <th>Q5</th>\n",
       "      <th>Nota</th>\n",
       "    </tr>\n",
       "  </thead>\n",
       "  <tbody>\n",
       "    <tr>\n",
       "      <th>0</th>\n",
       "      <td>P</td>\n",
       "      <td>117628</td>\n",
       "      <td>Leonardo Yun Ho Lee</td>\n",
       "      <td>10</td>\n",
       "      <td>9</td>\n",
       "      <td>18</td>\n",
       "      <td>20</td>\n",
       "      <td>20</td>\n",
       "      <td>7.7</td>\n",
       "    </tr>\n",
       "    <tr>\n",
       "      <th>1</th>\n",
       "      <td>P</td>\n",
       "      <td>139404</td>\n",
       "      <td>Ediucio de Souza Silva</td>\n",
       "      <td>0</td>\n",
       "      <td>0</td>\n",
       "      <td>0</td>\n",
       "      <td>0</td>\n",
       "      <td>0</td>\n",
       "      <td>0.0</td>\n",
       "    </tr>\n",
       "    <tr>\n",
       "      <th>2</th>\n",
       "      <td>O</td>\n",
       "      <td>140767</td>\n",
       "      <td>Lucas Geraldini Ruzene</td>\n",
       "      <td>10</td>\n",
       "      <td>7</td>\n",
       "      <td>20</td>\n",
       "      <td>21</td>\n",
       "      <td>28</td>\n",
       "      <td>8.6</td>\n",
       "    </tr>\n",
       "    <tr>\n",
       "      <th>3</th>\n",
       "      <td>P</td>\n",
       "      <td>145675</td>\n",
       "      <td>Carolina Vilela Silva</td>\n",
       "      <td>10</td>\n",
       "      <td>9</td>\n",
       "      <td>16</td>\n",
       "      <td>17</td>\n",
       "      <td>24</td>\n",
       "      <td>7.6</td>\n",
       "    </tr>\n",
       "    <tr>\n",
       "      <th>4</th>\n",
       "      <td>O</td>\n",
       "      <td>146510</td>\n",
       "      <td>Isabela Vilar</td>\n",
       "      <td>10</td>\n",
       "      <td>8</td>\n",
       "      <td>10</td>\n",
       "      <td>12</td>\n",
       "      <td>25</td>\n",
       "      <td>6.5</td>\n",
       "    </tr>\n",
       "    <tr>\n",
       "      <th>5</th>\n",
       "      <td>P</td>\n",
       "      <td>147210</td>\n",
       "      <td>Maria Carolina Caramatti</td>\n",
       "      <td>10</td>\n",
       "      <td>7</td>\n",
       "      <td>14</td>\n",
       "      <td>9</td>\n",
       "      <td>17</td>\n",
       "      <td>5.7</td>\n",
       "    </tr>\n",
       "    <tr>\n",
       "      <th>6</th>\n",
       "      <td>P</td>\n",
       "      <td>147454</td>\n",
       "      <td>Milena Caroline Machado</td>\n",
       "      <td>10</td>\n",
       "      <td>10</td>\n",
       "      <td>20</td>\n",
       "      <td>16</td>\n",
       "      <td>27</td>\n",
       "      <td>8.3</td>\n",
       "    </tr>\n",
       "    <tr>\n",
       "      <th>7</th>\n",
       "      <td>O</td>\n",
       "      <td>148564</td>\n",
       "      <td>Gabriele Aparecida Peron Broglio</td>\n",
       "      <td>2</td>\n",
       "      <td>5</td>\n",
       "      <td>5</td>\n",
       "      <td>11</td>\n",
       "      <td>12</td>\n",
       "      <td>3.5</td>\n",
       "    </tr>\n",
       "    <tr>\n",
       "      <th>8</th>\n",
       "      <td>P</td>\n",
       "      <td>150757</td>\n",
       "      <td>Matheus Martins de Carvalho</td>\n",
       "      <td>10</td>\n",
       "      <td>8</td>\n",
       "      <td>17</td>\n",
       "      <td>18</td>\n",
       "      <td>25</td>\n",
       "      <td>7.8</td>\n",
       "    </tr>\n",
       "    <tr>\n",
       "      <th>9</th>\n",
       "      <td>O</td>\n",
       "      <td>154532</td>\n",
       "      <td>Alkíndar José Ferraz Rodrigues</td>\n",
       "      <td>10</td>\n",
       "      <td>6</td>\n",
       "      <td>20</td>\n",
       "      <td>15</td>\n",
       "      <td>24</td>\n",
       "      <td>7.5</td>\n",
       "    </tr>\n",
       "    <tr>\n",
       "      <th>10</th>\n",
       "      <td>P</td>\n",
       "      <td>155377</td>\n",
       "      <td>Fernando Ritt Filho</td>\n",
       "      <td>10</td>\n",
       "      <td>9</td>\n",
       "      <td>20</td>\n",
       "      <td>16</td>\n",
       "      <td>18</td>\n",
       "      <td>7.3</td>\n",
       "    </tr>\n",
       "    <tr>\n",
       "      <th>11</th>\n",
       "      <td>O</td>\n",
       "      <td>155640</td>\n",
       "      <td>Guilherme Teixeira Gonsalez</td>\n",
       "      <td>10</td>\n",
       "      <td>8</td>\n",
       "      <td>14</td>\n",
       "      <td>25</td>\n",
       "      <td>30</td>\n",
       "      <td>8.7</td>\n",
       "    </tr>\n",
       "    <tr>\n",
       "      <th>12</th>\n",
       "      <td>P</td>\n",
       "      <td>156297</td>\n",
       "      <td>Lourrann Marcoss Dos S Oliveira</td>\n",
       "      <td>8</td>\n",
       "      <td>9</td>\n",
       "      <td>18</td>\n",
       "      <td>25</td>\n",
       "      <td>27</td>\n",
       "      <td>8.7</td>\n",
       "    </tr>\n",
       "    <tr>\n",
       "      <th>13</th>\n",
       "      <td>O</td>\n",
       "      <td>157266</td>\n",
       "      <td>Silas da Silva</td>\n",
       "      <td>10</td>\n",
       "      <td>10</td>\n",
       "      <td>14</td>\n",
       "      <td>26</td>\n",
       "      <td>30</td>\n",
       "      <td>9.0</td>\n",
       "    </tr>\n",
       "    <tr>\n",
       "      <th>14</th>\n",
       "      <td>P</td>\n",
       "      <td>157313</td>\n",
       "      <td>Taís Prisco Pinheiro</td>\n",
       "      <td>10</td>\n",
       "      <td>8</td>\n",
       "      <td>20</td>\n",
       "      <td>27</td>\n",
       "      <td>27</td>\n",
       "      <td>9.2</td>\n",
       "    </tr>\n",
       "    <tr>\n",
       "      <th>15</th>\n",
       "      <td>P</td>\n",
       "      <td>157704</td>\n",
       "      <td>Augusto Carvalho D'Arruda Neto</td>\n",
       "      <td>6</td>\n",
       "      <td>8</td>\n",
       "      <td>10</td>\n",
       "      <td>4</td>\n",
       "      <td>18</td>\n",
       "      <td>4.6</td>\n",
       "    </tr>\n",
       "    <tr>\n",
       "      <th>16</th>\n",
       "      <td>O</td>\n",
       "      <td>159587</td>\n",
       "      <td>Alison Eduardo Ventura Dariolli</td>\n",
       "      <td>10</td>\n",
       "      <td>9</td>\n",
       "      <td>15</td>\n",
       "      <td>28</td>\n",
       "      <td>16</td>\n",
       "      <td>7.8</td>\n",
       "    </tr>\n",
       "    <tr>\n",
       "      <th>17</th>\n",
       "      <td>O</td>\n",
       "      <td>159866</td>\n",
       "      <td>Marcela Chenfel Dos Anjos</td>\n",
       "      <td>10</td>\n",
       "      <td>0</td>\n",
       "      <td>6</td>\n",
       "      <td>10</td>\n",
       "      <td>5</td>\n",
       "      <td>3.1</td>\n",
       "    </tr>\n",
       "    <tr>\n",
       "      <th>18</th>\n",
       "      <td>P</td>\n",
       "      <td>160316</td>\n",
       "      <td>Giovanna Maria Cappa Hernandes</td>\n",
       "      <td>8</td>\n",
       "      <td>4</td>\n",
       "      <td>20</td>\n",
       "      <td>0</td>\n",
       "      <td>5</td>\n",
       "      <td>3.7</td>\n",
       "    </tr>\n",
       "    <tr>\n",
       "      <th>19</th>\n",
       "      <td>P</td>\n",
       "      <td>165219</td>\n",
       "      <td>Alexandre de Oliveira Souza</td>\n",
       "      <td>4</td>\n",
       "      <td>9</td>\n",
       "      <td>14</td>\n",
       "      <td>15</td>\n",
       "      <td>13</td>\n",
       "      <td>5.5</td>\n",
       "    </tr>\n",
       "    <tr>\n",
       "      <th>20</th>\n",
       "      <td>O</td>\n",
       "      <td>165271</td>\n",
       "      <td>Bruno Lourenço Zanardo</td>\n",
       "      <td>10</td>\n",
       "      <td>9</td>\n",
       "      <td>15</td>\n",
       "      <td>17</td>\n",
       "      <td>14</td>\n",
       "      <td>6.5</td>\n",
       "    </tr>\n",
       "    <tr>\n",
       "      <th>21</th>\n",
       "      <td>O</td>\n",
       "      <td>165444</td>\n",
       "      <td>Caio Henrique do Amaral</td>\n",
       "      <td>10</td>\n",
       "      <td>10</td>\n",
       "      <td>20</td>\n",
       "      <td>24</td>\n",
       "      <td>26</td>\n",
       "      <td>9.0</td>\n",
       "    </tr>\n",
       "    <tr>\n",
       "      <th>22</th>\n",
       "      <td>O</td>\n",
       "      <td>165759</td>\n",
       "      <td>Carolina Costa Bettoni Moreira</td>\n",
       "      <td>10</td>\n",
       "      <td>9</td>\n",
       "      <td>18</td>\n",
       "      <td>14</td>\n",
       "      <td>22</td>\n",
       "      <td>7.3</td>\n",
       "    </tr>\n",
       "    <tr>\n",
       "      <th>23</th>\n",
       "      <td>P</td>\n",
       "      <td>166508</td>\n",
       "      <td>Deivit Lopes Bonach</td>\n",
       "      <td>8</td>\n",
       "      <td>9</td>\n",
       "      <td>17</td>\n",
       "      <td>18</td>\n",
       "      <td>30</td>\n",
       "      <td>8.2</td>\n",
       "    </tr>\n",
       "    <tr>\n",
       "      <th>24</th>\n",
       "      <td>O</td>\n",
       "      <td>166982</td>\n",
       "      <td>Ayrton Airemoraes Capelo</td>\n",
       "      <td>10</td>\n",
       "      <td>10</td>\n",
       "      <td>20</td>\n",
       "      <td>29</td>\n",
       "      <td>30</td>\n",
       "      <td>9.9</td>\n",
       "    </tr>\n",
       "    <tr>\n",
       "      <th>25</th>\n",
       "      <td>P</td>\n",
       "      <td>167002</td>\n",
       "      <td>Bárbara Bueno Henriques</td>\n",
       "      <td>10</td>\n",
       "      <td>10</td>\n",
       "      <td>17</td>\n",
       "      <td>20</td>\n",
       "      <td>22</td>\n",
       "      <td>7.9</td>\n",
       "    </tr>\n",
       "    <tr>\n",
       "      <th>26</th>\n",
       "      <td>O</td>\n",
       "      <td>170437</td>\n",
       "      <td>Elton Pinheiro da Silva</td>\n",
       "      <td>6</td>\n",
       "      <td>7</td>\n",
       "      <td>10</td>\n",
       "      <td>12</td>\n",
       "      <td>24</td>\n",
       "      <td>5.9</td>\n",
       "    </tr>\n",
       "    <tr>\n",
       "      <th>27</th>\n",
       "      <td>P</td>\n",
       "      <td>171556</td>\n",
       "      <td>Fernando Picozzi Coelho</td>\n",
       "      <td>10</td>\n",
       "      <td>3</td>\n",
       "      <td>18</td>\n",
       "      <td>11</td>\n",
       "      <td>11</td>\n",
       "      <td>5.3</td>\n",
       "    </tr>\n",
       "    <tr>\n",
       "      <th>28</th>\n",
       "      <td>P</td>\n",
       "      <td>171946</td>\n",
       "      <td>Gabriel Cavalca Coutinho</td>\n",
       "      <td>4</td>\n",
       "      <td>5</td>\n",
       "      <td>15</td>\n",
       "      <td>11</td>\n",
       "      <td>20</td>\n",
       "      <td>5.5</td>\n",
       "    </tr>\n",
       "    <tr>\n",
       "      <th>29</th>\n",
       "      <td>P</td>\n",
       "      <td>172090</td>\n",
       "      <td>Gabriel Felipe Silva</td>\n",
       "      <td>6</td>\n",
       "      <td>9</td>\n",
       "      <td>20</td>\n",
       "      <td>17</td>\n",
       "      <td>26</td>\n",
       "      <td>7.8</td>\n",
       "    </tr>\n",
       "    <tr>\n",
       "      <th>30</th>\n",
       "      <td>P</td>\n",
       "      <td>172656</td>\n",
       "      <td>Lucas da Conceição</td>\n",
       "      <td>10</td>\n",
       "      <td>6</td>\n",
       "      <td>18</td>\n",
       "      <td>16</td>\n",
       "      <td>30</td>\n",
       "      <td>8.0</td>\n",
       "    </tr>\n",
       "    <tr>\n",
       "      <th>31</th>\n",
       "      <td>O</td>\n",
       "      <td>176116</td>\n",
       "      <td>Rafael de Sousa</td>\n",
       "      <td>10</td>\n",
       "      <td>9</td>\n",
       "      <td>17</td>\n",
       "      <td>16</td>\n",
       "      <td>28</td>\n",
       "      <td>8.0</td>\n",
       "    </tr>\n",
       "    <tr>\n",
       "      <th>32</th>\n",
       "      <td>O</td>\n",
       "      <td>176644</td>\n",
       "      <td>Jose Mario dos Santos Filho</td>\n",
       "      <td>10</td>\n",
       "      <td>1</td>\n",
       "      <td>18</td>\n",
       "      <td>20</td>\n",
       "      <td>13</td>\n",
       "      <td>6.2</td>\n",
       "    </tr>\n",
       "    <tr>\n",
       "      <th>33</th>\n",
       "      <td>P</td>\n",
       "      <td>178510</td>\n",
       "      <td>Vítor Pedroso Figueira</td>\n",
       "      <td>4</td>\n",
       "      <td>9</td>\n",
       "      <td>18</td>\n",
       "      <td>12</td>\n",
       "      <td>24</td>\n",
       "      <td>6.7</td>\n",
       "    </tr>\n",
       "    <tr>\n",
       "      <th>34</th>\n",
       "      <td>P</td>\n",
       "      <td>185026</td>\n",
       "      <td>Nathália Medeiros Macêdo</td>\n",
       "      <td>10</td>\n",
       "      <td>10</td>\n",
       "      <td>18</td>\n",
       "      <td>18</td>\n",
       "      <td>27</td>\n",
       "      <td>8.3</td>\n",
       "    </tr>\n",
       "    <tr>\n",
       "      <th>35</th>\n",
       "      <td>O</td>\n",
       "      <td>186189</td>\n",
       "      <td>Rafaela Carvalho Pinto</td>\n",
       "      <td>10</td>\n",
       "      <td>8</td>\n",
       "      <td>18</td>\n",
       "      <td>22</td>\n",
       "      <td>24</td>\n",
       "      <td>8.2</td>\n",
       "    </tr>\n",
       "    <tr>\n",
       "      <th>36</th>\n",
       "      <td>P</td>\n",
       "      <td>186616</td>\n",
       "      <td>Ricardo Leme Da Silva Junior</td>\n",
       "      <td>4</td>\n",
       "      <td>7</td>\n",
       "      <td>20</td>\n",
       "      <td>14</td>\n",
       "      <td>27</td>\n",
       "      <td>7.2</td>\n",
       "    </tr>\n",
       "    <tr>\n",
       "      <th>37</th>\n",
       "      <td>P</td>\n",
       "      <td>186781</td>\n",
       "      <td>Rodrigo Guerra Trigo</td>\n",
       "      <td>10</td>\n",
       "      <td>6</td>\n",
       "      <td>18</td>\n",
       "      <td>4</td>\n",
       "      <td>26</td>\n",
       "      <td>6.4</td>\n",
       "    </tr>\n",
       "    <tr>\n",
       "      <th>38</th>\n",
       "      <td>P</td>\n",
       "      <td>188561</td>\n",
       "      <td>Vittor Tadeu do Amaral Olival</td>\n",
       "      <td>10</td>\n",
       "      <td>9</td>\n",
       "      <td>10</td>\n",
       "      <td>15</td>\n",
       "      <td>27</td>\n",
       "      <td>7.1</td>\n",
       "    </tr>\n",
       "    <tr>\n",
       "      <th>39</th>\n",
       "      <td>P</td>\n",
       "      <td>193699</td>\n",
       "      <td>Amanda Fernandes Nascimento</td>\n",
       "      <td>10</td>\n",
       "      <td>5</td>\n",
       "      <td>20</td>\n",
       "      <td>10</td>\n",
       "      <td>30</td>\n",
       "      <td>7.5</td>\n",
       "    </tr>\n",
       "    <tr>\n",
       "      <th>40</th>\n",
       "      <td>O</td>\n",
       "      <td>194133</td>\n",
       "      <td>André Morellato Haddad</td>\n",
       "      <td>10</td>\n",
       "      <td>8</td>\n",
       "      <td>12</td>\n",
       "      <td>6</td>\n",
       "      <td>13</td>\n",
       "      <td>4.9</td>\n",
       "    </tr>\n",
       "    <tr>\n",
       "      <th>41</th>\n",
       "      <td>O</td>\n",
       "      <td>195966</td>\n",
       "      <td>Danilo Jorge De Castilho Marques</td>\n",
       "      <td>10</td>\n",
       "      <td>9</td>\n",
       "      <td>7</td>\n",
       "      <td>7</td>\n",
       "      <td>20</td>\n",
       "      <td>5.3</td>\n",
       "    </tr>\n",
       "    <tr>\n",
       "      <th>42</th>\n",
       "      <td>P</td>\n",
       "      <td>197166</td>\n",
       "      <td>Gabriel Arcangel Enriquez Alves Gomes</td>\n",
       "      <td>10</td>\n",
       "      <td>2</td>\n",
       "      <td>17</td>\n",
       "      <td>20</td>\n",
       "      <td>14</td>\n",
       "      <td>6.3</td>\n",
       "    </tr>\n",
       "    <tr>\n",
       "      <th>43</th>\n",
       "      <td>O</td>\n",
       "      <td>198066</td>\n",
       "      <td>Giovanna Simões Proença</td>\n",
       "      <td>10</td>\n",
       "      <td>6</td>\n",
       "      <td>18</td>\n",
       "      <td>21</td>\n",
       "      <td>23</td>\n",
       "      <td>7.8</td>\n",
       "    </tr>\n",
       "    <tr>\n",
       "      <th>44</th>\n",
       "      <td>O</td>\n",
       "      <td>198753</td>\n",
       "      <td>Henrique Botelho Zuiani</td>\n",
       "      <td>10</td>\n",
       "      <td>9</td>\n",
       "      <td>20</td>\n",
       "      <td>18</td>\n",
       "      <td>28</td>\n",
       "      <td>8.5</td>\n",
       "    </tr>\n",
       "    <tr>\n",
       "      <th>45</th>\n",
       "      <td>O</td>\n",
       "      <td>199737</td>\n",
       "      <td>João Pedro Gobby Bandini</td>\n",
       "      <td>10</td>\n",
       "      <td>8</td>\n",
       "      <td>20</td>\n",
       "      <td>16</td>\n",
       "      <td>30</td>\n",
       "      <td>8.4</td>\n",
       "    </tr>\n",
       "    <tr>\n",
       "      <th>46</th>\n",
       "      <td>O</td>\n",
       "      <td>200608</td>\n",
       "      <td>Kaue Orlando Pereira</td>\n",
       "      <td>6</td>\n",
       "      <td>10</td>\n",
       "      <td>20</td>\n",
       "      <td>17</td>\n",
       "      <td>26</td>\n",
       "      <td>7.9</td>\n",
       "    </tr>\n",
       "    <tr>\n",
       "      <th>47</th>\n",
       "      <td>P</td>\n",
       "      <td>201116</td>\n",
       "      <td>Leonardo Cesar Silva Dos Santos</td>\n",
       "      <td>10</td>\n",
       "      <td>9</td>\n",
       "      <td>20</td>\n",
       "      <td>19</td>\n",
       "      <td>25</td>\n",
       "      <td>8.3</td>\n",
       "    </tr>\n",
       "    <tr>\n",
       "      <th>48</th>\n",
       "      <td>O</td>\n",
       "      <td>201199</td>\n",
       "      <td>Leonardo Inhan Segantin</td>\n",
       "      <td>10</td>\n",
       "      <td>7</td>\n",
       "      <td>12</td>\n",
       "      <td>18</td>\n",
       "      <td>26</td>\n",
       "      <td>7.3</td>\n",
       "    </tr>\n",
       "    <tr>\n",
       "      <th>49</th>\n",
       "      <td>O</td>\n",
       "      <td>204147</td>\n",
       "      <td>Nicolas De Sousa Imagawa</td>\n",
       "      <td>6</td>\n",
       "      <td>9</td>\n",
       "      <td>17</td>\n",
       "      <td>24</td>\n",
       "      <td>28</td>\n",
       "      <td>8.4</td>\n",
       "    </tr>\n",
       "    <tr>\n",
       "      <th>50</th>\n",
       "      <td>O</td>\n",
       "      <td>206642</td>\n",
       "      <td>Victória Fernanda Genaro Silva</td>\n",
       "      <td>10</td>\n",
       "      <td>8</td>\n",
       "      <td>18</td>\n",
       "      <td>7</td>\n",
       "      <td>26</td>\n",
       "      <td>6.9</td>\n",
       "    </tr>\n",
       "    <tr>\n",
       "      <th>51</th>\n",
       "      <td>P</td>\n",
       "      <td>206663</td>\n",
       "      <td>Victória Nogueira Baena</td>\n",
       "      <td>10</td>\n",
       "      <td>10</td>\n",
       "      <td>18</td>\n",
       "      <td>16</td>\n",
       "      <td>26</td>\n",
       "      <td>8.0</td>\n",
       "    </tr>\n",
       "    <tr>\n",
       "      <th>52</th>\n",
       "      <td>O</td>\n",
       "      <td>206752</td>\n",
       "      <td>Vinícius De Oliveira Moraes</td>\n",
       "      <td>10</td>\n",
       "      <td>10</td>\n",
       "      <td>18</td>\n",
       "      <td>10</td>\n",
       "      <td>30</td>\n",
       "      <td>7.8</td>\n",
       "    </tr>\n",
       "  </tbody>\n",
       "</table>\n",
       "</div>"
      ],
      "text/plain": [
       "   Turma      RA                                   Nome  Q1  Q2  Q3  Q4  Q5  \\\n",
       "0      P  117628                    Leonardo Yun Ho Lee  10   9  18  20  20   \n",
       "1      P  139404                 Ediucio de Souza Silva   0   0   0   0   0   \n",
       "2      O  140767                 Lucas Geraldini Ruzene  10   7  20  21  28   \n",
       "3      P  145675                  Carolina Vilela Silva  10   9  16  17  24   \n",
       "4      O  146510                          Isabela Vilar  10   8  10  12  25   \n",
       "5      P  147210               Maria Carolina Caramatti  10   7  14   9  17   \n",
       "6      P  147454                Milena Caroline Machado  10  10  20  16  27   \n",
       "7      O  148564       Gabriele Aparecida Peron Broglio   2   5   5  11  12   \n",
       "8      P  150757            Matheus Martins de Carvalho  10   8  17  18  25   \n",
       "9      O  154532         Alkíndar José Ferraz Rodrigues  10   6  20  15  24   \n",
       "10     P  155377                    Fernando Ritt Filho  10   9  20  16  18   \n",
       "11     O  155640            Guilherme Teixeira Gonsalez  10   8  14  25  30   \n",
       "12     P  156297        Lourrann Marcoss Dos S Oliveira   8   9  18  25  27   \n",
       "13     O  157266                         Silas da Silva  10  10  14  26  30   \n",
       "14     P  157313                   Taís Prisco Pinheiro  10   8  20  27  27   \n",
       "15     P  157704         Augusto Carvalho D'Arruda Neto   6   8  10   4  18   \n",
       "16     O  159587        Alison Eduardo Ventura Dariolli  10   9  15  28  16   \n",
       "17     O  159866              Marcela Chenfel Dos Anjos  10   0   6  10   5   \n",
       "18     P  160316         Giovanna Maria Cappa Hernandes   8   4  20   0   5   \n",
       "19     P  165219            Alexandre de Oliveira Souza   4   9  14  15  13   \n",
       "20     O  165271                 Bruno Lourenço Zanardo  10   9  15  17  14   \n",
       "21     O  165444                Caio Henrique do Amaral  10  10  20  24  26   \n",
       "22     O  165759         Carolina Costa Bettoni Moreira  10   9  18  14  22   \n",
       "23     P  166508                    Deivit Lopes Bonach   8   9  17  18  30   \n",
       "24     O  166982               Ayrton Airemoraes Capelo  10  10  20  29  30   \n",
       "25     P  167002                Bárbara Bueno Henriques  10  10  17  20  22   \n",
       "26     O  170437                Elton Pinheiro da Silva   6   7  10  12  24   \n",
       "27     P  171556                Fernando Picozzi Coelho  10   3  18  11  11   \n",
       "28     P  171946               Gabriel Cavalca Coutinho   4   5  15  11  20   \n",
       "29     P  172090                   Gabriel Felipe Silva   6   9  20  17  26   \n",
       "30     P  172656                     Lucas da Conceição  10   6  18  16  30   \n",
       "31     O  176116                        Rafael de Sousa  10   9  17  16  28   \n",
       "32     O  176644            Jose Mario dos Santos Filho  10   1  18  20  13   \n",
       "33     P  178510                 Vítor Pedroso Figueira   4   9  18  12  24   \n",
       "34     P  185026               Nathália Medeiros Macêdo  10  10  18  18  27   \n",
       "35     O  186189                 Rafaela Carvalho Pinto  10   8  18  22  24   \n",
       "36     P  186616           Ricardo Leme Da Silva Junior   4   7  20  14  27   \n",
       "37     P  186781                   Rodrigo Guerra Trigo  10   6  18   4  26   \n",
       "38     P  188561          Vittor Tadeu do Amaral Olival  10   9  10  15  27   \n",
       "39     P  193699            Amanda Fernandes Nascimento  10   5  20  10  30   \n",
       "40     O  194133                 André Morellato Haddad  10   8  12   6  13   \n",
       "41     O  195966       Danilo Jorge De Castilho Marques  10   9   7   7  20   \n",
       "42     P  197166  Gabriel Arcangel Enriquez Alves Gomes  10   2  17  20  14   \n",
       "43     O  198066                Giovanna Simões Proença  10   6  18  21  23   \n",
       "44     O  198753                Henrique Botelho Zuiani  10   9  20  18  28   \n",
       "45     O  199737               João Pedro Gobby Bandini  10   8  20  16  30   \n",
       "46     O  200608                   Kaue Orlando Pereira   6  10  20  17  26   \n",
       "47     P  201116        Leonardo Cesar Silva Dos Santos  10   9  20  19  25   \n",
       "48     O  201199                Leonardo Inhan Segantin  10   7  12  18  26   \n",
       "49     O  204147               Nicolas De Sousa Imagawa   6   9  17  24  28   \n",
       "50     O  206642         Victória Fernanda Genaro Silva  10   8  18   7  26   \n",
       "51     P  206663                Victória Nogueira Baena  10  10  18  16  26   \n",
       "52     O  206752            Vinícius De Oliveira Moraes  10  10  18  10  30   \n",
       "\n",
       "    Nota  \n",
       "0    7.7  \n",
       "1    0.0  \n",
       "2    8.6  \n",
       "3    7.6  \n",
       "4    6.5  \n",
       "5    5.7  \n",
       "6    8.3  \n",
       "7    3.5  \n",
       "8    7.8  \n",
       "9    7.5  \n",
       "10   7.3  \n",
       "11   8.7  \n",
       "12   8.7  \n",
       "13   9.0  \n",
       "14   9.2  \n",
       "15   4.6  \n",
       "16   7.8  \n",
       "17   3.1  \n",
       "18   3.7  \n",
       "19   5.5  \n",
       "20   6.5  \n",
       "21   9.0  \n",
       "22   7.3  \n",
       "23   8.2  \n",
       "24   9.9  \n",
       "25   7.9  \n",
       "26   5.9  \n",
       "27   5.3  \n",
       "28   5.5  \n",
       "29   7.8  \n",
       "30   8.0  \n",
       "31   8.0  \n",
       "32   6.2  \n",
       "33   6.7  \n",
       "34   8.3  \n",
       "35   8.2  \n",
       "36   7.2  \n",
       "37   6.4  \n",
       "38   7.1  \n",
       "39   7.5  \n",
       "40   4.9  \n",
       "41   5.3  \n",
       "42   6.3  \n",
       "43   7.8  \n",
       "44   8.5  \n",
       "45   8.4  \n",
       "46   7.9  \n",
       "47   8.3  \n",
       "48   7.3  \n",
       "49   8.4  \n",
       "50   6.9  \n",
       "51   8.0  \n",
       "52   7.8  "
      ]
     },
     "execution_count": 27,
     "metadata": {},
     "output_type": "execute_result"
    }
   ],
   "source": [
    "import pandas as pd\n",
    "df1 = pd.read_csv(\"../data/MC102-2018s1-Prova1-Notas.csv\")\n",
    "df1"
   ]
  },
  {
   "cell_type": "markdown",
   "metadata": {},
   "source": [
    "## Ausentes"
   ]
  },
  {
   "cell_type": "code",
   "execution_count": 28,
   "metadata": {},
   "outputs": [
    {
     "data": {
      "text/html": [
       "<div>\n",
       "<style scoped>\n",
       "    .dataframe tbody tr th:only-of-type {\n",
       "        vertical-align: middle;\n",
       "    }\n",
       "\n",
       "    .dataframe tbody tr th {\n",
       "        vertical-align: top;\n",
       "    }\n",
       "\n",
       "    .dataframe thead th {\n",
       "        text-align: right;\n",
       "    }\n",
       "</style>\n",
       "<table border=\"1\" class=\"dataframe\">\n",
       "  <thead>\n",
       "    <tr style=\"text-align: right;\">\n",
       "      <th></th>\n",
       "      <th>Turma</th>\n",
       "      <th>RA</th>\n",
       "      <th>Nome</th>\n",
       "    </tr>\n",
       "  </thead>\n",
       "  <tbody>\n",
       "    <tr>\n",
       "      <th>0</th>\n",
       "      <td>O</td>\n",
       "      <td>115949</td>\n",
       "      <td>Alessandro Silveira Rocha</td>\n",
       "    </tr>\n",
       "    <tr>\n",
       "      <th>1</th>\n",
       "      <td>O</td>\n",
       "      <td>154503</td>\n",
       "      <td>Alexandre Hsu Han Liu</td>\n",
       "    </tr>\n",
       "    <tr>\n",
       "      <th>2</th>\n",
       "      <td>P</td>\n",
       "      <td>157000</td>\n",
       "      <td>Pedro Minucci</td>\n",
       "    </tr>\n",
       "    <tr>\n",
       "      <th>3</th>\n",
       "      <td>O</td>\n",
       "      <td>201529</td>\n",
       "      <td>Lia Aguiar Marsicano</td>\n",
       "    </tr>\n",
       "  </tbody>\n",
       "</table>\n",
       "</div>"
      ],
      "text/plain": [
       "  Turma      RA                       Nome\n",
       "0     O  115949  Alessandro Silveira Rocha\n",
       "1     O  154503      Alexandre Hsu Han Liu\n",
       "2     P  157000              Pedro Minucci\n",
       "3     O  201529       Lia Aguiar Marsicano"
      ]
     },
     "execution_count": 28,
     "metadata": {},
     "output_type": "execute_result"
    }
   ],
   "source": [
    "df2 = pd.read_csv(\"../data/MC102-2018s1-Prova1-Ausentes.csv\")\n",
    "df2"
   ]
  }
 ],
 "metadata": {
  "kernelspec": {
   "display_name": "Python 3",
   "language": "python",
   "name": "python3"
  },
  "language_info": {
   "codemirror_mode": {
    "name": "ipython",
    "version": 3
   },
   "file_extension": ".py",
   "mimetype": "text/x-python",
   "name": "python",
   "nbconvert_exporter": "python",
   "pygments_lexer": "ipython3",
   "version": "3.6.4"
  }
 },
 "nbformat": 4,
 "nbformat_minor": 2
}
