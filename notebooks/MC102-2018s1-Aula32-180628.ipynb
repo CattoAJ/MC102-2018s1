{
 "cells": [
  {
   "cell_type": "code",
   "execution_count": 4,
   "metadata": {
    "ExecuteTime": {
     "end_time": "2018-04-26T01:12:04.093689Z",
     "start_time": "2018-04-26T01:12:04.090231Z"
    },
    "init_cell": true
   },
   "outputs": [],
   "source": [
    "from IPython.core.interactiveshell import InteractiveShell\n",
    "InteractiveShell.ast_node_interactivity = \"all\""
   ]
  },
  {
   "cell_type": "markdown",
   "metadata": {},
   "source": [
    "# Introdução a Classes 2\n",
    "#### MC102-2018s1-Aula32-180628"
   ]
  },
  {
   "cell_type": "markdown",
   "metadata": {},
   "source": [
    "## Uma classe para tratar frações\n",
    "Vamos desenvolver uma classe para representar frações, incluindo alguns dos seus métodos mais comuns.\n",
    "\n",
    "Uma fração é comumente representada por dois inteiros, um sobre o outro, separados por um traço.   \n",
    "O número de cima é o _numerador_ e o de baixo o _denominador_.   \n",
    "O traço pode ser horizontal ou inclinado.    \n",
    "De fato esse detalhe é irrelevante, desde que você saiba quem é o numerador e quem é o denominador.Para projetar nossa classe, basta usar a análise acima para perceber que o estado de um objeto fracionário pode ser completamente descrito por esses dois inteiros.    "
   ]
  },
  {
   "cell_type": "markdown",
   "metadata": {},
   "source": [
    "### Os métodos **`__init__`** e **`__str__`**\n",
    "Vamos começar criando a classe `Fração`, o método `__init__`, que permitirá que o usuário forneça um numerador e um denominador para a fração que está sendo criada e o método `__str__` que exibirá uma fração."
   ]
  },
  {
   "cell_type": "code",
   "execution_count": 5,
   "metadata": {},
   "outputs": [],
   "source": [
    "def mdc(a, b):\n"
   ]
  },
  {
   "cell_type": "code",
   "execution_count": 5,
   "metadata": {},
   "outputs": [],
   "source": [
    "def mdc(a, b):\n",
    "    while b:\n",
    "        a, b = b, a % b\n",
    "    return a"
   ]
  },
  {
   "cell_type": "code",
   "execution_count": 9,
   "metadata": {},
   "outputs": [],
   "source": [
    "class Fração:\n",
    "    \n",
    "    def __init__(self, numerador=0, denominador=1, simplificar=True):\n",
    "\n",
    "    def __str__(self):\n",
    "        "
   ]
  },
  {
   "cell_type": "code",
   "execution_count": 9,
   "metadata": {},
   "outputs": [],
   "source": [
    "class Fração:\n",
    "    \n",
    "    def __init__(self, numerador=0, denominador=1, simplificar=True):\n",
    "        if type(numerador) is int and type(denominador) is int:\n",
    "            if denominador != 0:\n",
    "                self.num = numerador\n",
    "                self.den = denominador\n",
    "                if simplificar:\n",
    "                    m = mdc(numerador, denominador)\n",
    "                    self.num //= m\n",
    "                    self.den //= m\n",
    "            else:\n",
    "                raise ValueError(f'Argumento inválido para Fração: ({numerador}, {denominador})')                \n",
    "        else:\n",
    "            raise ValueError(f'Argumento inválido para Fração: ({numerador}, {denominador})')\n",
    "\n",
    "    def __str__(self):\n",
    "        if self.den == 1:\n",
    "            return str(self.num)\n",
    "        else:\n",
    "            return str(self.num) + '/' + str(self.den)\n",
    "        "
   ]
  },
  {
   "cell_type": "code",
   "execution_count": 14,
   "metadata": {},
   "outputs": [
    {
     "name": "stdout",
     "output_type": "stream",
     "text": [
      "0\n"
     ]
    }
   ],
   "source": [
    "print(Fração())"
   ]
  },
  {
   "cell_type": "code",
   "execution_count": 15,
   "metadata": {},
   "outputs": [
    {
     "name": "stdout",
     "output_type": "stream",
     "text": [
      "5\n"
     ]
    }
   ],
   "source": [
    "print(Fração(5))"
   ]
  },
  {
   "cell_type": "code",
   "execution_count": 16,
   "metadata": {},
   "outputs": [
    {
     "name": "stdout",
     "output_type": "stream",
     "text": [
      "3/5\n"
     ]
    }
   ],
   "source": [
    "print(Fração(3, 5))"
   ]
  },
  {
   "cell_type": "code",
   "execution_count": 17,
   "metadata": {},
   "outputs": [
    {
     "name": "stdout",
     "output_type": "stream",
     "text": [
      "3/5\n"
     ]
    }
   ],
   "source": [
    "print(Fração(12, 20))"
   ]
  },
  {
   "cell_type": "code",
   "execution_count": 18,
   "metadata": {},
   "outputs": [
    {
     "name": "stdout",
     "output_type": "stream",
     "text": [
      "12/20\n"
     ]
    }
   ],
   "source": [
    "print(Fração(12, 20, False))"
   ]
  },
  {
   "cell_type": "code",
   "execution_count": 19,
   "metadata": {},
   "outputs": [
    {
     "ename": "ValueError",
     "evalue": "Argumento inválido para Fração: (3.0, 5)",
     "output_type": "error",
     "traceback": [
      "\u001b[0;31m---------------------------------------------------------------------------\u001b[0m",
      "\u001b[0;31mValueError\u001b[0m                                Traceback (most recent call last)",
      "\u001b[0;32m<ipython-input-19-384ae7f0fdab>\u001b[0m in \u001b[0;36m<module>\u001b[0;34m()\u001b[0m\n\u001b[0;32m----> 1\u001b[0;31m \u001b[0mprint\u001b[0m\u001b[0;34m(\u001b[0m\u001b[0mFração\u001b[0m\u001b[0;34m(\u001b[0m\u001b[0;36m3.\u001b[0m\u001b[0;34m,\u001b[0m \u001b[0;36m5\u001b[0m\u001b[0;34m)\u001b[0m\u001b[0;34m)\u001b[0m\u001b[0;34m\u001b[0m\u001b[0m\n\u001b[0m",
      "\u001b[0;32m<ipython-input-9-c3ca47448197>\u001b[0m in \u001b[0;36m__init__\u001b[0;34m(self, numerador, denominador, reduzir)\u001b[0m\n\u001b[1;32m     13\u001b[0m                 \u001b[0;32mraise\u001b[0m \u001b[0mValueError\u001b[0m\u001b[0;34m(\u001b[0m\u001b[0;34mf'Argumento inválido para Fração: ({numerador}, {denominador})'\u001b[0m\u001b[0;34m)\u001b[0m\u001b[0;34m\u001b[0m\u001b[0m\n\u001b[1;32m     14\u001b[0m         \u001b[0;32melse\u001b[0m\u001b[0;34m:\u001b[0m\u001b[0;34m\u001b[0m\u001b[0m\n\u001b[0;32m---> 15\u001b[0;31m             \u001b[0;32mraise\u001b[0m \u001b[0mValueError\u001b[0m\u001b[0;34m(\u001b[0m\u001b[0;34mf'Argumento inválido para Fração: ({numerador}, {denominador})'\u001b[0m\u001b[0;34m)\u001b[0m\u001b[0;34m\u001b[0m\u001b[0m\n\u001b[0m\u001b[1;32m     16\u001b[0m \u001b[0;34m\u001b[0m\u001b[0m\n\u001b[1;32m     17\u001b[0m     \u001b[0;32mdef\u001b[0m \u001b[0m__str__\u001b[0m\u001b[0;34m(\u001b[0m\u001b[0mself\u001b[0m\u001b[0;34m)\u001b[0m\u001b[0;34m:\u001b[0m\u001b[0;34m\u001b[0m\u001b[0m\n",
      "\u001b[0;31mValueError\u001b[0m: Argumento inválido para Fração: (3.0, 5)"
     ]
    }
   ],
   "source": [
    "print(Fração(3., 5))"
   ]
  },
  {
   "cell_type": "code",
   "execution_count": 20,
   "metadata": {},
   "outputs": [
    {
     "ename": "ValueError",
     "evalue": "Argumento inválido para Fração: (3, 5.0)",
     "output_type": "error",
     "traceback": [
      "\u001b[0;31m---------------------------------------------------------------------------\u001b[0m",
      "\u001b[0;31mValueError\u001b[0m                                Traceback (most recent call last)",
      "\u001b[0;32m<ipython-input-20-3f49d264d6e3>\u001b[0m in \u001b[0;36m<module>\u001b[0;34m()\u001b[0m\n\u001b[0;32m----> 1\u001b[0;31m \u001b[0mprint\u001b[0m\u001b[0;34m(\u001b[0m\u001b[0mFração\u001b[0m\u001b[0;34m(\u001b[0m\u001b[0;36m3\u001b[0m\u001b[0;34m,\u001b[0m \u001b[0;36m5.\u001b[0m\u001b[0;34m)\u001b[0m\u001b[0;34m)\u001b[0m\u001b[0;34m\u001b[0m\u001b[0m\n\u001b[0m",
      "\u001b[0;32m<ipython-input-9-c3ca47448197>\u001b[0m in \u001b[0;36m__init__\u001b[0;34m(self, numerador, denominador, reduzir)\u001b[0m\n\u001b[1;32m     13\u001b[0m                 \u001b[0;32mraise\u001b[0m \u001b[0mValueError\u001b[0m\u001b[0;34m(\u001b[0m\u001b[0;34mf'Argumento inválido para Fração: ({numerador}, {denominador})'\u001b[0m\u001b[0;34m)\u001b[0m\u001b[0;34m\u001b[0m\u001b[0m\n\u001b[1;32m     14\u001b[0m         \u001b[0;32melse\u001b[0m\u001b[0;34m:\u001b[0m\u001b[0;34m\u001b[0m\u001b[0m\n\u001b[0;32m---> 15\u001b[0;31m             \u001b[0;32mraise\u001b[0m \u001b[0mValueError\u001b[0m\u001b[0;34m(\u001b[0m\u001b[0;34mf'Argumento inválido para Fração: ({numerador}, {denominador})'\u001b[0m\u001b[0;34m)\u001b[0m\u001b[0;34m\u001b[0m\u001b[0m\n\u001b[0m\u001b[1;32m     16\u001b[0m \u001b[0;34m\u001b[0m\u001b[0m\n\u001b[1;32m     17\u001b[0m     \u001b[0;32mdef\u001b[0m \u001b[0m__str__\u001b[0m\u001b[0;34m(\u001b[0m\u001b[0mself\u001b[0m\u001b[0;34m)\u001b[0m\u001b[0;34m:\u001b[0m\u001b[0;34m\u001b[0m\u001b[0m\n",
      "\u001b[0;31mValueError\u001b[0m: Argumento inválido para Fração: (3, 5.0)"
     ]
    }
   ],
   "source": [
    "print(Fração(3, 5.))"
   ]
  },
  {
   "cell_type": "code",
   "execution_count": 21,
   "metadata": {},
   "outputs": [
    {
     "ename": "ValueError",
     "evalue": "Argumento inválido para Fração: (3, 0)",
     "output_type": "error",
     "traceback": [
      "\u001b[0;31m---------------------------------------------------------------------------\u001b[0m",
      "\u001b[0;31mValueError\u001b[0m                                Traceback (most recent call last)",
      "\u001b[0;32m<ipython-input-21-618d160a6780>\u001b[0m in \u001b[0;36m<module>\u001b[0;34m()\u001b[0m\n\u001b[0;32m----> 1\u001b[0;31m \u001b[0mprint\u001b[0m\u001b[0;34m(\u001b[0m\u001b[0mFração\u001b[0m\u001b[0;34m(\u001b[0m\u001b[0;36m3\u001b[0m\u001b[0;34m,\u001b[0m \u001b[0;36m0\u001b[0m\u001b[0;34m)\u001b[0m\u001b[0;34m)\u001b[0m\u001b[0;34m\u001b[0m\u001b[0m\n\u001b[0m",
      "\u001b[0;32m<ipython-input-9-c3ca47448197>\u001b[0m in \u001b[0;36m__init__\u001b[0;34m(self, numerador, denominador, reduzir)\u001b[0m\n\u001b[1;32m     11\u001b[0m                     \u001b[0mself\u001b[0m\u001b[0;34m.\u001b[0m\u001b[0mden\u001b[0m \u001b[0;34m//=\u001b[0m \u001b[0mm\u001b[0m\u001b[0;34m\u001b[0m\u001b[0m\n\u001b[1;32m     12\u001b[0m             \u001b[0;32melse\u001b[0m\u001b[0;34m:\u001b[0m\u001b[0;34m\u001b[0m\u001b[0m\n\u001b[0;32m---> 13\u001b[0;31m                 \u001b[0;32mraise\u001b[0m \u001b[0mValueError\u001b[0m\u001b[0;34m(\u001b[0m\u001b[0;34mf'Argumento inválido para Fração: ({numerador}, {denominador})'\u001b[0m\u001b[0;34m)\u001b[0m\u001b[0;34m\u001b[0m\u001b[0m\n\u001b[0m\u001b[1;32m     14\u001b[0m         \u001b[0;32melse\u001b[0m\u001b[0;34m:\u001b[0m\u001b[0;34m\u001b[0m\u001b[0m\n\u001b[1;32m     15\u001b[0m             \u001b[0;32mraise\u001b[0m \u001b[0mValueError\u001b[0m\u001b[0;34m(\u001b[0m\u001b[0;34mf'Argumento inválido para Fração: ({numerador}, {denominador})'\u001b[0m\u001b[0;34m)\u001b[0m\u001b[0;34m\u001b[0m\u001b[0m\n",
      "\u001b[0;31mValueError\u001b[0m: Argumento inválido para Fração: (3, 0)"
     ]
    }
   ],
   "source": [
    "print(Fração(3, 0))"
   ]
  },
  {
   "cell_type": "markdown",
   "metadata": {},
   "source": [
    "### Dois métodos extratores\n",
    "Vamos acrescentar métodos extratores do numerador e denominador..."
   ]
  },
  {
   "cell_type": "code",
   "execution_count": 22,
   "metadata": {},
   "outputs": [],
   "source": [
    "class Fração:\n",
    "    \n",
    "    def __init__(self, numerador=0, denominador=1, simplificar=True):\n",
    "        if type(numerador) is int and type(denominador) is int:\n",
    "            if denominador != 0:\n",
    "                self.num = numerador\n",
    "                self.den = denominador\n",
    "                if simplificar:\n",
    "                    m = mdc(numerador, denominador)\n",
    "                    self.num //= m\n",
    "                    self.den //= m\n",
    "            else:\n",
    "                raise ValueError(f'Argumento inválido para Fração: ({numerador}, {denominador})')                \n",
    "        else:\n",
    "            raise ValueError(f'Argumento inválido para Fração: ({numerador}, {denominador})')\n",
    "\n",
    "    def __str__(self):\n",
    "        if self.den == 1:\n",
    "            return str(self.num)\n",
    "        else:\n",
    "            return str(self.num) + '/' + str(self.den)\n",
    "        \n",
    "    def numerador(self):\n",
    "    \n",
    "    def denominador(self):\n"
   ]
  },
  {
   "cell_type": "code",
   "execution_count": 22,
   "metadata": {},
   "outputs": [],
   "source": [
    "class Fração:\n",
    "    \n",
    "    def __init__(self, numerador=0, denominador=1, simplificar=True):\n",
    "        if type(numerador) is int and type(denominador) is int:\n",
    "            if denominador != 0:\n",
    "                self.num = numerador\n",
    "                self.den = denominador\n",
    "                if simplificar:\n",
    "                    m = mdc(numerador, denominador)\n",
    "                    self.num //= m\n",
    "                    self.den //= m\n",
    "            else:\n",
    "                raise ValueError(f'Argumento inválido para Fração: ({numerador}, {denominador})')                \n",
    "        else:\n",
    "            raise ValueError(f'Argumento inválido para Fração: ({numerador}, {denominador})')\n",
    "\n",
    "    def __str__(self):\n",
    "        if self.den == 1:\n",
    "            return str(self.num)\n",
    "        else:\n",
    "            return str(self.num) + '/' + str(self.den)\n",
    "        \n",
    "    def numerador(self):\n",
    "        return self.num\n",
    "    \n",
    "    def denominador(self):\n",
    "        return self.den"
   ]
  },
  {
   "cell_type": "code",
   "execution_count": 23,
   "metadata": {},
   "outputs": [
    {
     "name": "stdout",
     "output_type": "stream",
     "text": [
      "4/5 4 5\n"
     ]
    }
   ],
   "source": [
    "f = Fração(48, 60)\n",
    "print(f, f.numerador(), f.denominador())"
   ]
  },
  {
   "cell_type": "code",
   "execution_count": 24,
   "metadata": {},
   "outputs": [
    {
     "name": "stdout",
     "output_type": "stream",
     "text": [
      "48/60 48 60\n"
     ]
    }
   ],
   "source": [
    "f = Fração(48, 60, False)\n",
    "print(f, f.numerador(), f.denominador())"
   ]
  },
  {
   "cell_type": "code",
   "execution_count": null,
   "metadata": {},
   "outputs": [],
   "source": []
  },
  {
   "cell_type": "markdown",
   "metadata": {},
   "source": [
    "### Teste de igualdade de frações\n",
    "Vamos implementar um método e uma função para testar a igualdade de duas frações, lembrando que duas frações $\\dfrac{a}{b}$ e $\\dfrac{c}{d}$ são consideradas iguais se $a \\times d == b \\times c$."
   ]
  },
  {
   "cell_type": "code",
   "execution_count": 31,
   "metadata": {},
   "outputs": [],
   "source": [
    "class Fração:\n",
    "    \n",
    "    def __init__(self, numerador=0, denominador=1, simplificar=True):\n",
    "        if type(numerador) is int and type(denominador) is int:\n",
    "            if denominador != 0:\n",
    "                self.num = numerador\n",
    "                self.den = denominador\n",
    "                if simplificar:\n",
    "                    m = mdc(numerador, denominador)\n",
    "                    self.num //= m\n",
    "                    self.den //= m\n",
    "            else:\n",
    "                raise ValueError(f'Argumento inválido para Fração: ({numerador}, {denominador})')                \n",
    "        else:\n",
    "            raise ValueError(f'Argumento inválido para Fração: ({numerador}, {denominador})')\n",
    "\n",
    "    def __str__(self):\n",
    "        if self.den == 1:\n",
    "            return str(self.num)\n",
    "        else:\n",
    "            return str(self.num) + '/' + str(self.den)\n",
    "        \n",
    "    def numerador(self):\n",
    "        return self.num\n",
    "    \n",
    "    def denominador(self):\n",
    "        return self.den\n",
    "    \n",
    "    def é_igual_a(self, other):\n",
    "\n",
    "\n",
    "def são_iguais(fra1, fra2):\n"
   ]
  },
  {
   "cell_type": "code",
   "execution_count": 31,
   "metadata": {},
   "outputs": [],
   "source": [
    "class Fração:\n",
    "    \n",
    "    def __init__(self, numerador=0, denominador=1, simplificar=True):\n",
    "        if type(numerador) is int and type(denominador) is int:\n",
    "            if denominador != 0:\n",
    "                self.num = numerador\n",
    "                self.den = denominador\n",
    "                if simplificar:\n",
    "                    m = mdc(numerador, denominador)\n",
    "                    self.num //= m\n",
    "                    self.den //= m\n",
    "            else:\n",
    "                raise ValueError(f'Argumento inválido para Fração: ({numerador}, {denominador})')                \n",
    "        else:\n",
    "            raise ValueError(f'Argumento inválido para Fração: ({numerador}, {denominador})')\n",
    "\n",
    "    def __str__(self):\n",
    "        if self.den == 1:\n",
    "            return str(self.num)\n",
    "        else:\n",
    "            return str(self.num) + '/' + str(self.den)\n",
    "        \n",
    "    def numerador(self):\n",
    "        return self.num\n",
    "    \n",
    "    def denominador(self):\n",
    "        return self.den\n",
    "    \n",
    "    def é_igual_a(self, other):\n",
    "        return self.num * other.den == self.den * other.num\n",
    "    \n",
    "def são_iguais(fra1, fra2):\n",
    "    return fra1.é_igual_a(fra2)"
   ]
  },
  {
   "cell_type": "code",
   "execution_count": 32,
   "metadata": {},
   "outputs": [
    {
     "name": "stdout",
     "output_type": "stream",
     "text": [
      "True True False\n",
      "True True False\n"
     ]
    }
   ],
   "source": [
    "f1 = Fração(3, 4)\n",
    "f2 = Fração(21, 28)\n",
    "f3 = Fração()\n",
    "\n",
    "print(f1.é_igual_a(f1), f1.é_igual_a(f2), f1.é_igual_a(f3))\n",
    "print(são_iguais(f1, f1), são_iguais(f1, f2), são_iguais(f1, f3))"
   ]
  },
  {
   "cell_type": "markdown",
   "metadata": {},
   "source": [
    "### Aritmética de frações\n",
    "Vamos implementar um método para somar frações, lembrando que $\\dfrac{a}{b} + \\dfrac{c}{d} = \\dfrac{ad + bc}{bd}$."
   ]
  },
  {
   "cell_type": "code",
   "execution_count": 36,
   "metadata": {},
   "outputs": [],
   "source": [
    "class Fração:\n",
    "    \n",
    "    def __init__(self, numerador=0, denominador=1, simplificar=True):\n",
    "        if type(numerador) is int and type(denominador) is int:\n",
    "            if denominador != 0:\n",
    "                self.num = numerador\n",
    "                self.den = denominador\n",
    "                if simplificar:\n",
    "                    m = mdc(numerador, denominador)\n",
    "                    self.num //= m\n",
    "                    self.den //= m\n",
    "            else:\n",
    "                raise ValueError(f'Argumento inválido para Fração: ({numerador}, {denominador})')                \n",
    "        else:\n",
    "            raise ValueError(f'Argumento inválido para Fração: ({numerador}, {denominador})')\n",
    "\n",
    "    def __str__(self):\n",
    "        if self.den == 1:\n",
    "            return str(self.num)\n",
    "        else:\n",
    "            return str(self.num) + '/' + str(self.den)\n",
    "        \n",
    "    def numerador(self):\n",
    "        return self.num\n",
    "    \n",
    "    def denominador(self):\n",
    "        return self.den\n",
    "    \n",
    "    def é_igual_a(self, other):\n",
    "        return self.num * other.den == self.den * other.num\n",
    "    \n",
    "    def somar(self, other):\n",
    "\n",
    "\n",
    "    def __add__(self, other):\n",
    "\n",
    "\n",
    "def são_iguais(fra1, fra2):\n",
    "    return fra1.é_igual_a(fra2)"
   ]
  },
  {
   "cell_type": "code",
   "execution_count": 36,
   "metadata": {},
   "outputs": [],
   "source": [
    "class Fração:\n",
    "    \n",
    "    def __init__(self, numerador=0, denominador=1, simplificar=True):\n",
    "        if type(numerador) is int and type(denominador) is int:\n",
    "            if denominador != 0:\n",
    "                self.num = numerador\n",
    "                self.den = denominador\n",
    "                if simplificar:\n",
    "                    m = mdc(numerador, denominador)\n",
    "                    self.num //= m\n",
    "                    self.den //= m\n",
    "            else:\n",
    "                raise ValueError(f'Argumento inválido para Fração: ({numerador}, {denominador})')                \n",
    "        else:\n",
    "            raise ValueError(f'Argumento inválido para Fração: ({numerador}, {denominador})')\n",
    "\n",
    "    def __str__(self):\n",
    "        if self.den == 1:\n",
    "            return str(self.num)\n",
    "        else:\n",
    "            return str(self.num) + '/' + str(self.den)\n",
    "        \n",
    "    def numerador(self):\n",
    "        return self.num\n",
    "    \n",
    "    def denominador(self):\n",
    "        return self.den\n",
    "    \n",
    "    def é_igual_a(self, other):\n",
    "        return self.num * other.den == self.den * other.num\n",
    "    \n",
    "    def somar(self, other):\n",
    "        return Fração(self.num * other.den + self.den * other.num, self.den * other.den)\n",
    "    \n",
    "    def __add__(self, other):\n",
    "        return self.somar(other)\n",
    "    \n",
    "def são_iguais(fra1, fra2):\n",
    "    return fra1.é_igual_a(fra2)"
   ]
  },
  {
   "cell_type": "code",
   "execution_count": 37,
   "metadata": {},
   "outputs": [
    {
     "name": "stdout",
     "output_type": "stream",
     "text": [
      "3/2\n",
      "3/2\n"
     ]
    }
   ],
   "source": [
    "f1 = Fração(3, 4)\n",
    "f2 = Fração(21, 28)\n",
    "\n",
    "print(f1.somar(f2))\n",
    "print(f1 + f2)"
   ]
  },
  {
   "cell_type": "markdown",
   "metadata": {},
   "source": [
    "## Outros Exemplos"
   ]
  },
  {
   "cell_type": "markdown",
   "metadata": {},
   "source": [
    "### 1. Uma classe Retângulo\n",
    "Podemos representar um retângulo conhecendo três coisas: a localização de seu canto inferior esquerdo, sua largura e sua altura. Crie uma definição de classe para uma classe `Rectangle` usando essa ideia. Para criar um objeto Rectangle no local (4,5) com largura 6 e altura 5, faríamos o seguinte:\n",
    "```\n",
    "r = Retângulo(Point(4, 5), 6, 5)\n",
    "```"
   ]
  },
  {
   "cell_type": "code",
   "execution_count": 79,
   "metadata": {},
   "outputs": [],
   "source": [
    "class Point:\n",
    "    \"\"\" Classe para representar e manipular pontos no plano cartesiano \"\"\"\n",
    "       \n",
    "    def __init__(self, ini_x=0, ini_y=0):\n",
    "        \"\"\" Create a new point at the origin \"\"\"\n",
    "        self.x = ini_x\n",
    "        self.y = ini_y\n",
    "        \n",
    "    def get_x(self):\n",
    "        return self.x\n",
    "        \n",
    "    def get_y(self):\n",
    "        return self.y\n",
    "    \n",
    "    def distanceFromOrigin(self):\n",
    "        return (self.x ** 2 + self.y ** 2) ** 0.5\n",
    "    \n",
    "    def distanceFrom(self, p2=None):\n",
    "        if p2 is None:\n",
    "            p2 = Point()\n",
    "        dx = p2.x - self.x\n",
    "        dy = p2.y - self.y\n",
    "        return (dx ** 2 + dy ** 2) ** 0.5 \n",
    "    \n",
    "    def __str__(self):\n",
    "        return '(' + str(self.x) + ', ' + str(self.y) + ')'\n",
    "    \n",
    "    def halfway(self, p2):\n",
    "        dx = p2.x - self.x\n",
    "        dy = p2.y - self.y\n",
    "        return Point(self.x + dx / 2, self.y + dy / 2)\n",
    "    \n",
    "    def reflect_x(self):\n",
    "        return Point(self.x, -self.y)\n",
    "    \n",
    "    def reflect_y(self):\n",
    "        return Point(-self.x, self.y)\n",
    "    \n",
    "    def slope_from_origin(self):\n",
    "        try:\n",
    "            return self.y / self.x\n",
    "        except:\n",
    "            return None\n",
    "        \n",
    "    def get_line_to(self, p2):\n",
    "        try:\n",
    "            dx = p2.x - self.x\n",
    "            dy = p2.y - self.y\n",
    "            m = dy / dx\n",
    "            c = self.y - m * self.x\n",
    "            return (m, c)\n",
    "        except:\n",
    "            return (None, None)\n",
    "        \n",
    "    def move(self, dx, dy):\n",
    "        self.x += dx\n",
    "        self.y += dy\n",
    "        return None\n",
    "    \n",
    "def distance(p1, p2):\n",
    "    dx = p2.get_x() - p1.get_x()\n",
    "    dy = p2.get_y() - p1.get_y()\n",
    "    return (dx ** 2 + dy ** 2) ** 0.5"
   ]
  },
  {
   "cell_type": "code",
   "execution_count": 80,
   "metadata": {},
   "outputs": [],
   "source": [
    "class Retângulo:\n",
    "    \n",
    "    def __init__(self, canto_inf_esq, largura, altura):\n",
    "\n",
    "\n",
    "        \n",
    "    def __str__(self):\n",
    "\n"
   ]
  },
  {
   "cell_type": "code",
   "execution_count": 80,
   "metadata": {},
   "outputs": [],
   "source": [
    "class Retângulo:\n",
    "    \n",
    "    def __init__(self, canto_inf_esq, largura, altura):\n",
    "        self.pos = canto_inf_esq\n",
    "        self.largura = largura\n",
    "        self.altura = altura\n",
    "        \n",
    "    def __str__(self):\n",
    "        return f'Retângulo(pos=({self.pos.x}, {self.pos.y}), largura={self.largura}, altura={self.altura})'"
   ]
  },
  {
   "cell_type": "code",
   "execution_count": 81,
   "metadata": {},
   "outputs": [
    {
     "name": "stdout",
     "output_type": "stream",
     "text": [
      "Retângulo(pos=(4, 5), largura=6, altura=5)\n"
     ]
    }
   ],
   "source": [
    "r = Retângulo(Point(4, 5), 6, 5)\n",
    "print(r)"
   ]
  },
  {
   "cell_type": "markdown",
   "metadata": {},
   "source": [
    "#### 1.1 Extratores da largura e altura"
   ]
  },
  {
   "cell_type": "code",
   "execution_count": 48,
   "metadata": {},
   "outputs": [],
   "source": [
    "class Retângulo:\n",
    "    \n",
    "    def __init__(self, canto_inf_esq, largura, altura):\n",
    "        self.pos = canto_inf_esq\n",
    "        self.largura = largura\n",
    "        self.altura = altura\n",
    "        \n",
    "    def __str__(self):\n",
    "        return f'Retângulo(pos=({self.pos.x}, {self.pos.y}), largura={self.largura}, altura={self.altura})'\n",
    "    \n",
    "    def get_largura(self):\n",
    "        \n",
    "    \n",
    "    def get_altura(self):\n",
    "        "
   ]
  },
  {
   "cell_type": "code",
   "execution_count": 48,
   "metadata": {},
   "outputs": [],
   "source": [
    "class Retângulo:\n",
    "    \n",
    "    def __init__(self, canto_inf_esq, largura, altura):\n",
    "        self.pos = canto_inf_esq\n",
    "        self.largura = largura\n",
    "        self.altura = altura\n",
    "        \n",
    "    def __str__(self):\n",
    "        return f'Retângulo(pos=({self.pos.x}, {self.pos.y}), largura={self.largura}, altura={self.altura})'\n",
    "    \n",
    "    def get_largura(self):\n",
    "        return self.largura\n",
    "    \n",
    "    def get_altura(self):\n",
    "        return self.altura"
   ]
  },
  {
   "cell_type": "code",
   "execution_count": 49,
   "metadata": {},
   "outputs": [
    {
     "name": "stdout",
     "output_type": "stream",
     "text": [
      "6 5\n"
     ]
    }
   ],
   "source": [
    "r = Retângulo(Point(4, 5), 6, 5)\n",
    "print(r.get_largura(), r.get_altura())"
   ]
  },
  {
   "cell_type": "markdown",
   "metadata": {},
   "source": [
    "#### 1.2 Um método para calcular a área do retângulo"
   ]
  },
  {
   "cell_type": "code",
   "execution_count": 50,
   "metadata": {},
   "outputs": [],
   "source": [
    "class Retângulo:\n",
    "    \n",
    "    def __init__(self, canto_inf_esq, largura, altura):\n",
    "        self.pos = canto_inf_esq\n",
    "        self.largura = largura\n",
    "        self.altura = altura\n",
    "        \n",
    "    def __str__(self):\n",
    "        return f'Retângulo(pos=({self.pos.x}, {self.pos.y}), largura={self.largura}, altura={self.altura})'\n",
    "    \n",
    "    def get_largura(self):\n",
    "        return self.largura\n",
    "    \n",
    "    def get_altura(self):\n",
    "        return self.altura\n",
    "    \n",
    "    def área(self):\n",
    "        "
   ]
  },
  {
   "cell_type": "code",
   "execution_count": 50,
   "metadata": {},
   "outputs": [],
   "source": [
    "class Retângulo:\n",
    "    \n",
    "    def __init__(self, canto_inf_esq, largura, altura):\n",
    "        self.pos = canto_inf_esq\n",
    "        self.largura = largura\n",
    "        self.altura = altura\n",
    "        \n",
    "    def __str__(self):\n",
    "        return f'Retângulo(pos=({self.pos.x}, {self.pos.y}), largura={self.largura}, altura={self.altura})'\n",
    "    \n",
    "    def get_largura(self):\n",
    "        return self.largura\n",
    "    \n",
    "    def get_altura(self):\n",
    "        return self.altura\n",
    "    \n",
    "    def área(self):\n",
    "        return self.largura * self.altura"
   ]
  },
  {
   "cell_type": "code",
   "execution_count": 51,
   "metadata": {},
   "outputs": [
    {
     "name": "stdout",
     "output_type": "stream",
     "text": [
      "30\n"
     ]
    }
   ],
   "source": [
    "r = Retângulo(Point(4, 5), 6, 5)\n",
    "print(r.área())"
   ]
  },
  {
   "cell_type": "markdown",
   "metadata": {},
   "source": [
    "#### 1.3 Um método para calcular o perímetro do retângulo"
   ]
  },
  {
   "cell_type": "code",
   "execution_count": 53,
   "metadata": {},
   "outputs": [],
   "source": [
    "class Retângulo:\n",
    "    \n",
    "    def __init__(self, canto_inf_esq, largura, altura):\n",
    "        self.pos = canto_inf_esq\n",
    "        self.largura = largura\n",
    "        self.altura = altura\n",
    "        \n",
    "    def __str__(self):\n",
    "        return f'Retângulo(pos=({self.pos.x}, {self.pos.y}), largura={self.largura}, altura={self.altura})'\n",
    "    \n",
    "    def get_largura(self):\n",
    "        return self.largura\n",
    "    \n",
    "    def get_altura(self):\n",
    "        return self.altura\n",
    "    \n",
    "    def área(self):\n",
    "        return self.largura * self.altura\n",
    "    \n",
    "    def perímetro(self):\n",
    "        "
   ]
  },
  {
   "cell_type": "code",
   "execution_count": 53,
   "metadata": {},
   "outputs": [],
   "source": [
    "class Retângulo:\n",
    "    \n",
    "    def __init__(self, canto_inf_esq, largura, altura):\n",
    "        self.pos = canto_inf_esq\n",
    "        self.largura = largura\n",
    "        self.altura = altura\n",
    "        \n",
    "    def __str__(self):\n",
    "        return f'Retângulo(pos=({self.pos.x}, {self.pos.y}), largura={self.largura}, altura={self.altura})'\n",
    "    \n",
    "    def get_largura(self):\n",
    "        return self.largura\n",
    "    \n",
    "    def get_altura(self):\n",
    "        return self.altura\n",
    "    \n",
    "    def área(self):\n",
    "        return self.largura * self.altura\n",
    "    \n",
    "    def perímetro(self):\n",
    "        return 2 * (self.largura + self.altura)"
   ]
  },
  {
   "cell_type": "code",
   "execution_count": 54,
   "metadata": {},
   "outputs": [
    {
     "name": "stdout",
     "output_type": "stream",
     "text": [
      "22\n"
     ]
    }
   ],
   "source": [
    "r = Retângulo(Point(4, 5), 6, 5)\n",
    "print(r.perímetro())"
   ]
  },
  {
   "cell_type": "markdown",
   "metadata": {},
   "source": [
    "#### 1.4 Um método para \"transpor\" um retângulo\n",
    "Criar um método`transpor` na classe Retângulo que permute a largura e a altura de um retângulo."
   ]
  },
  {
   "cell_type": "code",
   "execution_count": 61,
   "metadata": {},
   "outputs": [],
   "source": [
    "def test(actual, expected):\n",
    "    \"\"\" Compare the actual to the expected value,\n",
    "        and print a suitable message.\n",
    "    \"\"\"\n",
    "    import sys\n",
    "    linenum = sys._getframe(1).f_lineno   # get the caller's line number.\n",
    "    if (expected == actual):\n",
    "        msg = \"Test on line {0} passed.\".format(linenum)\n",
    "    else:\n",
    "        msg = (\"Test on line {0} failed. Expected '{1}', but got '{2}'.\"\n",
    "                                     . format(linenum, expected, actual))\n",
    "    print(msg)"
   ]
  },
  {
   "cell_type": "code",
   "execution_count": 64,
   "metadata": {},
   "outputs": [],
   "source": [
    "class Retângulo:\n",
    "    \n",
    "    def __init__(self, canto_inf_esq, largura, altura):\n",
    "        self.pos = canto_inf_esq\n",
    "        self.largura = largura\n",
    "        self.altura = altura\n",
    "        \n",
    "    def __str__(self):\n",
    "        return f'Retângulo(pos=({self.pos.x}, {self.pos.y}), largura={self.largura}, altura={self.altura})'\n",
    "    \n",
    "    def get_largura(self):\n",
    "        return self.largura\n",
    "    \n",
    "    def get_altura(self):\n",
    "        return self.altura\n",
    "    \n",
    "    def área(self):\n",
    "        return self.largura * self.altura\n",
    "    \n",
    "    def perímetro(self):\n",
    "        return 2 * (self.largura + self.altura)\n",
    "    \n",
    "    def transpor(self):\n",
    "        "
   ]
  },
  {
   "cell_type": "code",
   "execution_count": 64,
   "metadata": {},
   "outputs": [],
   "source": [
    "class Retângulo:\n",
    "    \n",
    "    def __init__(self, canto_inf_esq, largura, altura):\n",
    "        self.pos = canto_inf_esq\n",
    "        self.largura = largura\n",
    "        self.altura = altura\n",
    "        \n",
    "    def __str__(self):\n",
    "        return f'Retângulo(pos=({self.pos.x}, {self.pos.y}), largura={self.largura}, altura={self.altura})'\n",
    "    \n",
    "    def get_largura(self):\n",
    "        return self.largura\n",
    "    \n",
    "    def get_altura(self):\n",
    "        return self.altura\n",
    "    \n",
    "    def área(self):\n",
    "        return self.largura * self.altura\n",
    "    \n",
    "    def perímetro(self):\n",
    "        return 2 * (self.largura + self.altura)\n",
    "    \n",
    "    def transpor(self):\n",
    "        self.largura, self.altura = self.altura, self.largura"
   ]
  },
  {
   "cell_type": "code",
   "execution_count": 65,
   "metadata": {},
   "outputs": [
    {
     "name": "stdout",
     "output_type": "stream",
     "text": [
      "Test on line 2 passed.\n",
      "Test on line 3 passed.\n",
      "Test on line 5 passed.\n",
      "Test on line 6 passed.\n"
     ]
    }
   ],
   "source": [
    "r = Retângulo(Point(100, 50), 10, 5)\n",
    "test(r.largura, 10)\n",
    "test(r.altura, 5)\n",
    "r.transpor()\n",
    "test(r.largura, 5)\n",
    "test(r.altura, 10)"
   ]
  },
  {
   "cell_type": "markdown",
   "metadata": {},
   "source": [
    "#### 1.5 Um método para testar se um ponto está contido em um retângulo\n",
    "Criar um método para testar se um ponto está contido em um retângulo.   \n",
    "Suponha que um retângulo em (0,0) com largura 10 e altura 5 tenha limites superiores abertos na largura e na altura, ou seja, ele se estende na direção $x$ de [0 a 10), incluindo o 0 mas excluindo o 10, e de [0 a 5) na direção $y$, incluindo o 0 mas excluindo o 5. Portanto, esse retângulo não contém o ponto (10, 2)."
   ]
  },
  {
   "cell_type": "code",
   "execution_count": 66,
   "metadata": {},
   "outputs": [],
   "source": [
    "class Retângulo:\n",
    "    \n",
    "    def __init__(self, canto_inf_esq, largura, altura):\n",
    "        self.pos = canto_inf_esq\n",
    "        self.largura = largura\n",
    "        self.altura = altura\n",
    "        \n",
    "    def __str__(self):\n",
    "        return f'Retângulo(pos=({self.pos.x}, {self.pos.y}), largura={self.largura}, altura={self.altura})'\n",
    "    \n",
    "    def get_largura(self):\n",
    "        return self.largura\n",
    "    \n",
    "    def get_altura(self):\n",
    "        return self.altura\n",
    "    \n",
    "    def área(self):\n",
    "        return self.largura * self.altura\n",
    "    \n",
    "    def perímetro(self):\n",
    "        return 2 * (self.largura + self.altura)\n",
    "    \n",
    "    def transpor(self):\n",
    "        self.largura, self.altura = self.altura, self.largura\n",
    "        \n",
    "    def contém(self, ponto):\n",
    "        "
   ]
  },
  {
   "cell_type": "code",
   "execution_count": 66,
   "metadata": {},
   "outputs": [],
   "source": [
    "class Retângulo:\n",
    "    \n",
    "    def __init__(self, canto_inf_esq, largura, altura):\n",
    "        self.pos = canto_inf_esq\n",
    "        self.largura = largura\n",
    "        self.altura = altura\n",
    "        \n",
    "    def __str__(self):\n",
    "        return f'Retângulo(pos=({self.pos.x}, {self.pos.y}), largura={self.largura}, altura={self.altura})'\n",
    "    \n",
    "    def get_largura(self):\n",
    "        return self.largura\n",
    "    \n",
    "    def get_altura(self):\n",
    "        return self.altura\n",
    "    \n",
    "    def área(self):\n",
    "        return self.largura * self.altura\n",
    "    \n",
    "    def perímetro(self):\n",
    "        return 2 * (self.largura + self.altura)\n",
    "    \n",
    "    def transpor(self):\n",
    "        self.largura, self.altura = self.altura, self.largura\n",
    "        \n",
    "    def contém(self, ponto):\n",
    "        return self.pos.x <= ponto.x < self.pos.x + self.largura and \\\n",
    "               self.pos.y <= ponto.y < self.pos.y + self.altura"
   ]
  },
  {
   "cell_type": "markdown",
   "metadata": {},
   "source": [
    "Todos os testes abaixo devem passar:"
   ]
  },
  {
   "cell_type": "code",
   "execution_count": 68,
   "metadata": {},
   "outputs": [
    {
     "name": "stdout",
     "output_type": "stream",
     "text": [
      "Test on line 2 passed.\n",
      "Test on line 3 passed.\n",
      "Test on line 4 passed.\n",
      "Test on line 5 passed.\n",
      "Test on line 6 passed.\n",
      "Test on line 7 passed.\n"
     ]
    }
   ],
   "source": [
    "r = Retângulo(Point(0, 0), 10, 5)\n",
    "test(r.contém(Point(0, 0)), True)\n",
    "test(r.contém(Point(3, 3)), True)\n",
    "test(r.contém(Point(3, 7)), False)\n",
    "test(r.contém(Point(3, 5)), False)\n",
    "test(r.contém(Point(3, 4.99999)), True)\n",
    "test(r.contém(Point(-3, -3)), False)"
   ]
  },
  {
   "cell_type": "markdown",
   "metadata": {},
   "source": [
    "#### 1.6 Um método para calcular o comprimento da diagonal de um retângulo\n",
    "Escreva um novo método chamado `diagonal` que retornará o comprimento de uma diagonal de um retângulo."
   ]
  },
  {
   "cell_type": "code",
   "execution_count": 69,
   "metadata": {},
   "outputs": [],
   "source": [
    "class Retângulo:\n",
    "    \n",
    "    def __init__(self, canto_inf_esq, largura, altura):\n",
    "        self.pos = canto_inf_esq\n",
    "        self.largura = largura\n",
    "        self.altura = altura\n",
    "        \n",
    "    def __str__(self):\n",
    "        return f'Retângulo(pos=({self.pos.x}, {self.pos.y}), largura={self.largura}, altura={self.altura})'\n",
    "    \n",
    "    def get_largura(self):\n",
    "        return self.largura\n",
    "    \n",
    "    def get_altura(self):\n",
    "        return self.altura\n",
    "    \n",
    "    def área(self):\n",
    "        return self.largura * self.altura\n",
    "    \n",
    "    def perímetro(self):\n",
    "        return 2 * (self.largura + self.altura)\n",
    "    \n",
    "    def transpor(self):\n",
    "        self.largura, self.altura = self.altura, self.largura\n",
    "        \n",
    "    def contém(self, ponto):\n",
    "        return self.pos.x <= ponto.x < self.pos.x + self.largura and \\\n",
    "               self.pos.y <= ponto.y < self.pos.y + self.altura\n",
    "    \n",
    "    def diagonal(self):\n",
    "        "
   ]
  },
  {
   "cell_type": "code",
   "execution_count": 69,
   "metadata": {},
   "outputs": [],
   "source": [
    "class Retângulo:\n",
    "    \n",
    "    def __init__(self, canto_inf_esq, largura, altura):\n",
    "        self.pos = canto_inf_esq\n",
    "        self.largura = largura\n",
    "        self.altura = altura\n",
    "        \n",
    "    def __str__(self):\n",
    "        return f'Retângulo(pos=({self.pos.x}, {self.pos.y}), largura={self.largura}, altura={self.altura})'\n",
    "    \n",
    "    def get_largura(self):\n",
    "        return self.largura\n",
    "    \n",
    "    def get_altura(self):\n",
    "        return self.altura\n",
    "    \n",
    "    def área(self):\n",
    "        return self.largura * self.altura\n",
    "    \n",
    "    def perímetro(self):\n",
    "        return 2 * (self.largura + self.altura)\n",
    "    \n",
    "    def transpor(self):\n",
    "        self.largura, self.altura = self.altura, self.largura\n",
    "        \n",
    "    def contém(self, ponto):\n",
    "        return self.pos.x <= ponto.x < self.pos.x + self.largura and \\\n",
    "               self.pos.y <= ponto.y < self.pos.y + self.altura\n",
    "    \n",
    "    def diagonal(self):\n",
    "        return (self.largura ** 2 + self.altura ** 2) ** 0.5"
   ]
  },
  {
   "cell_type": "code",
   "execution_count": 70,
   "metadata": {},
   "outputs": [
    {
     "name": "stdout",
     "output_type": "stream",
     "text": [
      "15.0\n"
     ]
    }
   ],
   "source": [
    "r = Retângulo(Point(0, 0), 12, 9)\n",
    "print(r.diagonal())"
   ]
  },
  {
   "cell_type": "markdown",
   "metadata": {},
   "source": [
    "#### 1.7 Um método para testar se dois retângulos \"colidem\"\n",
    "Em jogos, muitas vezes coloca-se uma “caixa delimitadora” retangular em torno das “peças” no jogo. Podemos então detectar colisões entre, por exemplo, bombas e espaçonaves, testando se seus retângulos se sobrepõem em qualquer ponto.\n",
    "Escreva uma função para determinar se dois retângulos colidem. \n",
    "\n",
    "Dica: este pode ser um exercício muito difícil! Pense cuidadosamente sobre todos os casos antes de codificar."
   ]
  },
  {
   "cell_type": "code",
   "execution_count": 71,
   "metadata": {},
   "outputs": [],
   "source": [
    "class Retângulo:\n",
    "    \n",
    "    def __init__(self, canto_inf_esq, largura, altura):\n",
    "        self.pos = canto_inf_esq\n",
    "        self.largura = largura\n",
    "        self.altura = altura\n",
    "        \n",
    "    def __str__(self):\n",
    "        return f'Retângulo(pos=({self.pos.x}, {self.pos.y}), largura={self.largura}, altura={self.altura})'\n",
    "    \n",
    "    def get_largura(self):\n",
    "        return self.largura\n",
    "    \n",
    "    def get_altura(self):\n",
    "        return self.altura\n",
    "    \n",
    "    def área(self):\n",
    "        return self.largura * self.altura\n",
    "    \n",
    "    def perímetro(self):\n",
    "        return 2 * (self.largura + self.altura)\n",
    "    \n",
    "    def transpor(self):\n",
    "        self.largura, self.altura = self.altura, self.largura\n",
    "        \n",
    "    def contém(self, ponto):\n",
    "        return self.pos.x <= ponto.x < self.pos.x + self.largura and \\\n",
    "               self.pos.y <= ponto.y < self.pos.y + self.altura\n",
    "    \n",
    "    def diagonal(self):\n",
    "        return (self.largura ** 2 + self.altura ** 2) ** 0.5\n",
    "    \n",
    "    def colide_com(self, other):\n",
    "        "
   ]
  },
  {
   "cell_type": "code",
   "execution_count": 71,
   "metadata": {},
   "outputs": [],
   "source": [
    "class Retângulo:\n",
    "    \n",
    "    def __init__(self, canto_inf_esq, largura, altura):\n",
    "        self.pos = canto_inf_esq\n",
    "        self.largura = largura\n",
    "        self.altura = altura\n",
    "        \n",
    "    def __str__(self):\n",
    "        return f'Retângulo(pos=({self.pos.x}, {self.pos.y}), largura={self.largura}, altura={self.altura})'\n",
    "    \n",
    "    def get_largura(self):\n",
    "        return self.largura\n",
    "    \n",
    "    def get_altura(self):\n",
    "        return self.altura\n",
    "    \n",
    "    def área(self):\n",
    "        return self.largura * self.altura\n",
    "    \n",
    "    def perímetro(self):\n",
    "        return 2 * (self.largura + self.altura)\n",
    "    \n",
    "    def transpor(self):\n",
    "        self.largura, self.altura = self.altura, self.largura\n",
    "        \n",
    "    def contém(self, ponto):\n",
    "        return self.pos.x <= ponto.x < self.pos.x + self.largura and \\\n",
    "               self.pos.y <= ponto.y < self.pos.y + self.altura\n",
    "    \n",
    "    def diagonal(self):\n",
    "        return (self.largura ** 2 + self.altura ** 2) ** 0.5\n",
    "    \n",
    "    def colide_com(self, other):\n",
    "        não_colide = self.pos.x + self.largura <= other.pos.x or \\\n",
    "                     self.pos.x >= other.pos.x + other.largura or \\\n",
    "                     self.pos.y + self.altura <= other.pos.y or \\\n",
    "                     self.pos.y >=other.pos.y + other.altura\n",
    "        return not não_colide"
   ]
  },
  {
   "cell_type": "code",
   "execution_count": 73,
   "metadata": {},
   "outputs": [
    {
     "name": "stdout",
     "output_type": "stream",
     "text": [
      "False\n"
     ]
    }
   ],
   "source": [
    "r1 = Retângulo(Point(10, 10), 5, 5)\n",
    "r2 = Retângulo(Point(0, 0), 10, 10)\n",
    "print(r1.colide_com(r2))"
   ]
  },
  {
   "cell_type": "code",
   "execution_count": 74,
   "metadata": {},
   "outputs": [
    {
     "name": "stdout",
     "output_type": "stream",
     "text": [
      "False\n"
     ]
    }
   ],
   "source": [
    "r1 = Retângulo(Point(10, 10), 5, 5)\n",
    "r2 = Retângulo(Point(15, 0), 10, 10)\n",
    "print(r1.colide_com(r2))"
   ]
  },
  {
   "cell_type": "code",
   "execution_count": 75,
   "metadata": {},
   "outputs": [
    {
     "name": "stdout",
     "output_type": "stream",
     "text": [
      "False\n"
     ]
    }
   ],
   "source": [
    "r1 = Retângulo(Point(10, 10), 5, 5)\n",
    "r2 = Retângulo(Point(15, 15), 10, 10)\n",
    "print(r1.colide_com(r2))"
   ]
  },
  {
   "cell_type": "code",
   "execution_count": 76,
   "metadata": {},
   "outputs": [
    {
     "name": "stdout",
     "output_type": "stream",
     "text": [
      "True\n"
     ]
    }
   ],
   "source": [
    "r1 = Retângulo(Point(10, 10), 5, 5)\n",
    "r2 = Retângulo(Point(12, 12), 10, 10)\n",
    "print(r1.colide_com(r2))"
   ]
  },
  {
   "cell_type": "code",
   "execution_count": 78,
   "metadata": {},
   "outputs": [
    {
     "name": "stdout",
     "output_type": "stream",
     "text": [
      "True\n"
     ]
    }
   ],
   "source": [
    "r1 = Retângulo(Point(10, 10), 5, 5)\n",
    "r2 = Retângulo(Point(0, 0), 10.1, 10.1)\n",
    "print(r1.colide_com(r2))"
   ]
  },
  {
   "cell_type": "code",
   "execution_count": null,
   "metadata": {},
   "outputs": [],
   "source": []
  }
 ],
 "metadata": {
  "kernelspec": {
   "display_name": "Python 3",
   "language": "python",
   "name": "python3"
  },
  "language_info": {
   "codemirror_mode": {
    "name": "ipython",
    "version": 3
   },
   "file_extension": ".py",
   "mimetype": "text/x-python",
   "name": "python",
   "nbconvert_exporter": "python",
   "pygments_lexer": "ipython3",
   "version": "3.6.4"
  }
 },
 "nbformat": 4,
 "nbformat_minor": 2
}
