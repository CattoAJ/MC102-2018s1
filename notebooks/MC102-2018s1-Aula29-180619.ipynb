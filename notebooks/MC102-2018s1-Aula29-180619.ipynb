{
 "cells": [
  {
   "cell_type": "code",
   "execution_count": null,
   "metadata": {
    "ExecuteTime": {
     "end_time": "2018-04-26T01:12:04.093689Z",
     "start_time": "2018-04-26T01:12:04.090231Z"
    },
    "init_cell": true
   },
   "outputs": [],
   "source": [
    "from IPython.core.interactiveshell import InteractiveShell\n",
    "InteractiveShell.ast_node_interactivity = \"all\""
   ]
  },
  {
   "cell_type": "code",
   "execution_count": null,
   "metadata": {},
   "outputs": [],
   "source": [
    "import time\n",
    "import random\n",
    "import timeit"
   ]
  },
  {
   "cell_type": "markdown",
   "metadata": {},
   "source": [
    "# Exercícios de revisão 2\n",
    "#### MC102-2018s1-Aula29-180619"
   ]
  },
  {
   "cell_type": "markdown",
   "metadata": {},
   "source": [
    "## 1. Triângulo de Pascal\n",
    "O triângulo de Pascal é um triângulo numérico com números dispostos em linhas deslocadas de modo que o número na linha $l$, coluna $c$ (contadas a partir de zero), é\n",
    "$\\displaystyle a_{l c} = \\frac{l!}{c! \\, (l - c)!}$, \n",
    "que é a equação de um coeficiente binomial \n",
    "$\\left( \\begin{array}{c} l \\\\ c \\end{array} \\right)$.\n",
    "\n",
    "O número que deve ser colocado numa posição qualquer do triângulo de Pascal também pode ser calculado adicionando-se os dois números que ficam diagonalmente acima dele no triângulo. Para calcular as bordas, se necessário, suponha a existência de zeros à direita e à esquerda da linha anterior. \n",
    "\n",
    "Um exemplo do triângulo de Pascal é mostrado abaixo.\n",
    "```\n",
    "        1\n",
    "      1   1\n",
    "    1   2   1\n",
    "  1   3   3   1\n",
    "1   4   6   4   1\n",
    "```\n",
    "Desenvolva uma função que receba um inteiro $n$ e exiba as primeiras $n$ linhas do triângulo de Pascal, como mostrado no exemplo acima."
   ]
  },
  {
   "cell_type": "markdown",
   "metadata": {},
   "source": [
    "### 1.1 Solução iterativa\n",
    "Se ignorarmos por um momento o deslocamento das linhas, o triângulo de Pascal pode ser representado como    \n",
    "$$\n",
    "\\begin{array}{c | c c c c c}\n",
    "      & 0 & 1 & 2 & 3 & 4 \\\\ \\hline\n",
    "    0 & 1 \\\\\n",
    "    1 & 1 & 1 \\\\\n",
    "    2 & 1 & 2 & 1 \\\\\n",
    "    3 & 1 & 3 & 3 & 1 \\\\\n",
    "    4 & 1 & 4 & 6 & 4 & 1 \\\\\n",
    "\\end{array}\n",
    "$$\n",
    "Cada linha desse triângulo pode ser calculada a partir da linha anterior e exibida imediatamente. Portanto, será possível resolver o problema usando apenas uma lista, que será atualizada à medida que a solução avança.\n",
    "\n",
    "Suponha que tenhamos acabado de exibir uma certa linha, cujos elementos estavam representados numa lista $p$. \n",
    "Para poder exibir a próxima linha precisaremos atualizar $p$. \n",
    "Se examinarmos o triângulo de Pascal, não será difícil concluir que a atualização necessária é dada por:\n",
    "$$\n",
    "\\begin{align}\n",
    "p[0] &= p[0] \\\\\n",
    "p[1] &= p[1] + p[0] \\\\\n",
    "p[2] &= p[2] + p[1] \\\\\n",
    "p[3] &= p[3] + p[2] \\\\\n",
    "\\dots\n",
    "\\end{align}\n",
    "$$\n",
    "Observe que para atualizar $p[i]$ precisamos dos valores anteriores do próprio $p[i]$ e de $p[i-1]$.\n",
    "Isso só será possível se a atualização for ser feita na ordem inversa dos índices, isto é, \n",
    "$p[i], p[i-1], p[i-2], \\dots, p[0]$, pois, caso contrário o valor anterior de $p[i-1]$ já teria sido sobrescrito.\n",
    "\n",
    "Finalmente, será preciso cuidar do deslocamento das linhas. Suponha que os números sejam exibidos em campos de largura $x$. Para criar o efeito desejado, a última linha não deverá sofrer qualquer deslocamento e, a partir dela, cada linha acima deverá sofrer um deslocamento adicional de largura $x \\div 2$.\n"
   ]
  },
  {
   "cell_type": "code",
   "execution_count": null,
   "metadata": {},
   "outputs": [],
   "source": [
    "def pascal(n):\n",
    "    p = [1] + [0] * (n - 1)\n",
    "    d = '   '\n",
    "    for i in range(n):\n",
    "        print(d * (n - i - 1), end='')\n",
    "        for j in range(i, 0, -1):\n",
    "            p[j] += p[j - 1]\n",
    "        for j in range(i + 1):\n",
    "            print(f'{p[j]:6}', end='')\n",
    "        print()\n",
    "\n",
    "pascal(10)"
   ]
  },
  {
   "cell_type": "markdown",
   "metadata": {},
   "source": [
    "Para avaliar o desempenho desta solução usaremos _%timeit_ e substituiremos os _prints_ por _pass_."
   ]
  },
  {
   "cell_type": "code",
   "execution_count": null,
   "metadata": {},
   "outputs": [],
   "source": [
    "def pascal(n):\n",
    "    p = [1] + [0] * (n - 1)\n",
    "    d = '   '\n",
    "    for i in range(n):\n",
    "        pass #print(d * (n - i - 1), end='')\n",
    "        for j in range(i, 0, -1):\n",
    "            p[j] += p[j - 1]\n",
    "        for j in range(i + 1):\n",
    "            pass #print(f'{p[j]:6}', end='')\n",
    "        pass #print()\n",
    "\n",
    "%timeit pascal(10)"
   ]
  },
  {
   "cell_type": "markdown",
   "metadata": {},
   "source": [
    "### 1.2 Solução Recursiva\n",
    "Numa abordagem recursiva típica, o corpo de uma função contém uma chamada a ela mesma. \n",
    "Os argumentos fornecidos nessa chamada devem levar progressivamente a um caso-base que é resolvido diretamente pela função e interrompe a recursão. \n",
    "Essa última ativação retorna seus resultados para a ativação anterior, que completa seu serviço e retorna seus resultados para a ativação anterior, e assim sucessivamente até atingir a primeira ativação que retorna seus resultados para quem a chamou.\n",
    "\n",
    "É comum distinguir a primeira ativação das sucessivas ativações recursivas criando uma função auxiliar interna, com uma interface mais adequada, possivelmente envolvendo parâmetros que não interessam ao usuário ou retornando resultados intermediários que não devem ser passados para o usuário. Essa é a abordagem que adotaremos neste caso. \n",
    "\n",
    "A função auxiliar terá um parâmetro a mais (uma cadeia de caracteres que representa o deslocamento daquela linha) e retornará como resultado a lista $p$ com o conteúdo da linha (que será usada para calcular a linha abaixo e descartada ao final, antes do retorno para o usuário)."
   ]
  },
  {
   "cell_type": "code",
   "execution_count": null,
   "metadata": {},
   "outputs": [],
   "source": [
    "def pascal(n):\n",
    "    def pascal_aux(n, s):\n",
    "        if n == 1:\n",
    "            p = [1]\n",
    "        else:\n",
    "            p = pascal_aux(n - 1, s + '   ') + [0]\n",
    "            for i in range(n - 1, 0, -1):\n",
    "                p[i] += p[i - 1]\n",
    "        print(s, end='')\n",
    "        for x in p:\n",
    "            print(f'{x:6}', end='')\n",
    "        print()\n",
    "        return p\n",
    "    pascal_aux(n, '')\n",
    "\n",
    "pascal(10)"
   ]
  },
  {
   "cell_type": "markdown",
   "metadata": {},
   "source": [
    "Para avaliar o desempenho desta solução usaremos _%timeit_ e substituiremos os _prints_ por _pass_."
   ]
  },
  {
   "cell_type": "code",
   "execution_count": null,
   "metadata": {},
   "outputs": [],
   "source": [
    "def pascal(n):\n",
    "    def pascal_aux(n, s):\n",
    "        if n == 1:\n",
    "            p = [1]\n",
    "        else:\n",
    "            p = pascal_aux(n - 1, s + '   ') + [0]\n",
    "            for i in range(n - 1, 0, -1):\n",
    "                p[i] += p[i - 1]\n",
    "        pass #print(s, end='')\n",
    "        for x in p:\n",
    "            pass #print(f'{x:6}', end='')\n",
    "        pass #print()\n",
    "        return p\n",
    "    pascal_aux(n, '')\n",
    "\n",
    "%timeit pascal(10)"
   ]
  },
  {
   "cell_type": "markdown",
   "metadata": {},
   "source": [
    "Uma solução recursiva que não usa uma função auxiliar pode ser conseguida utilizando-se alguns parâmetros extras opcionais.\n",
    "Dessa forma, a interface do usuário continuará simples, mas as chamadas internas poderão dispor dos recursos adicionais necessários.\n",
    "\n",
    "No exemplo abaixo, a linha atual do triângulo é passada pelo parâmetro $p$ e a cadeia de caracteres que provoca o deslocamento da linha é passada pelo parâmetro $s$. \n",
    "O desempenho da solução é medido como nos casos anteriores."
   ]
  },
  {
   "cell_type": "code",
   "execution_count": null,
   "metadata": {},
   "outputs": [],
   "source": [
    "def pascal(n, p=[], s=''):\n",
    "    if n == 1:\n",
    "        p.append(1)\n",
    "    else:\n",
    "        pascal(n - 1, p, s + '   ')\n",
    "        p.append(0)\n",
    "        for i in range(n - 1, 0, -1):\n",
    "            p[i] += p[i - 1]\n",
    "    print(s, end='')\n",
    "    for x in p:\n",
    "        print(f'{x:6}', end='')\n",
    "    print()\n",
    "\n",
    "pascal(10)"
   ]
  },
  {
   "cell_type": "code",
   "execution_count": null,
   "metadata": {},
   "outputs": [],
   "source": [
    "def pascal(n, p=[], s=''):\n",
    "    if n == 1:\n",
    "        p.append(1)\n",
    "    else:\n",
    "        pascal(n - 1, p, s + '   ')\n",
    "        p.append(0)\n",
    "        for i in range(n - 1, 0, -1):\n",
    "            p[i] += p[i - 1]\n",
    "    # print(s, end='')\n",
    "    for x in p:\n",
    "        pass # print(f'{x:6}', end='')\n",
    "    # print()\n",
    "\n",
    "%timeit pascal(10)"
   ]
  },
  {
   "cell_type": "markdown",
   "metadata": {},
   "source": [
    "## 2. Problema das 8 damas\n",
    "O problema consiste em colocar 8 damas sobre um tabuleiro de xadrez sem que elas se ataquem. \n",
    "O programa deve exibir todas as possíveis soluções do problema."
   ]
  },
  {
   "cell_type": "markdown",
   "metadata": {},
   "source": [
    "Suponha que o par $(i, j)$ represente a casa na linha $i$ coluna $j$.\n",
    "Se examinarmos um tabuleiro $8 \\times 8$ como este\n",
    "$$\n",
    "\\begin{array}{c|c|c|c|c|c|c|c|c|}\n",
    "      & 0 & 1 & 2 & 3 & 4 & 5 & 6 & 7 \\\\ \\hline\n",
    "    0 &   &   & \\bullet  &   &   &   & \\bullet  &        \\\\ \\hline\n",
    "    1 &   &   &   & \\bullet  &   & \\bullet  &   &        \\\\ \\hline\n",
    "    2 &   &   &   &   & \\bullet &   &   &         \\\\ \\hline\n",
    "    3 &   &   &   & \\bullet  &   & \\bullet  &   &        \\\\ \\hline\n",
    "    4 &   &   & \\bullet  &   &   &   & \\bullet  &        \\\\ \\hline\n",
    "    5 &   & \\bullet  &   &   &   &   &   &  \\bullet      \\\\ \\hline\n",
    "    6 & \\bullet  &   &   &   &   &   &   &               \\\\ \\hline\n",
    "    7 &   &   &   &   &   &   &   &               \\\\ \\hline\n",
    "\\end{array}\n",
    "$$\n",
    "notaremos que para todas as casas que pertencem a uma mesma diagonal ascendente ($\\nearrow$), a soma das coordenadas é constante.   \n",
    "Analogamente, para todas as casas que pertencem a uma mesma diagonal descendente ($\\searrow$), a diferença das coordenadas também é constante.\n",
    "\n",
    "Portanto, podemos dizer que a casa $(i, j)$ está situada na linha $i$, coluna $j$, diagonal ascendente $i + j$ e diagonal descendente $i - j$."
   ]
  },
  {
   "cell_type": "markdown",
   "metadata": {},
   "source": [
    "Uma dama colocada na casa $(i, j)$ atacará todas as casas da linha $i$, todas as casas da coluna $j$, todas as casas da diagonal ascendente $i + j$ e todas as casas da diagonal descendente $i - j$.\n",
    "\n",
    "Suponha as damas numeradas de $0$ a $7$. Para que elas não se ataquem mutuamente, apenas uma poderá estar em cada uma dessas localizações. \n",
    "Portanto deverá haver    \n",
    "1.    apenas uma dama em cada linha   \n",
    "1.    apenas uma dama em cada coluna   \n",
    "1.    apenas uma dama em cada diagonal ascendente e    \n",
    "1.    apenas uma dama em cada diagonal descendente.   "
   ]
  },
  {
   "cell_type": "markdown",
   "metadata": {},
   "source": [
    "Podemos supor que a dama $d$ esteja na linha $d$ e, assim, a condição 1 estará satisfeita.    \n",
    "Supondo que $c[d]$ represente a coluna em que a dama $d$ se encontra, se garantirmos que a lista $c[0], \\dots, c[7]$ \n",
    "seja uma permutação de $[0, 1, \\dots, 7]$, a condição 2 também estará satisfeita.\n",
    "\n",
    "Como a dama $d$ está na linha $d$ e na coluna $c[d]$, ela também estará na diagonal ascendente $d + c[d]$ e na diagonal descendente $d - c[d]$.\n",
    "Isso nos permite calcular os conjuntos de diagonais ascendentes e descendentes ocupadas.\n",
    "\n",
    "Se todas as damas estiverem em diagonais ascendentes e diagonais descendentes distintas, esses dois conjuntos terão $n$ elementos cada um e nós teremos encontrado uma solução, que deverá ser exibida.\n",
    "Em seguida, testamos uma nova permutação para as linhas."
   ]
  },
  {
   "cell_type": "code",
   "execution_count": null,
   "metadata": {},
   "outputs": [],
   "source": [
    "from itertools import permutations\n",
    "\n",
    "n = 8\n",
    "rng = range(n)\n",
    "nsol = 0\n",
    "for c in permutations(rng):\n",
    "    diag_asc_ocupadas  = set(d + c[d] for d in rng)\n",
    "    diag_desc_ocupadas = set(d - c[d] for d in rng)\n",
    "    if (len(diag_asc_ocupadas)  ==\n",
    "        len(diag_desc_ocupadas) == n):\n",
    "        nsol += 1\n",
    "        print(f'\\nSolução {nsol}:')\n",
    "        for d in rng:\n",
    "            print ('. ' * c[d] + 'D ' + '. ' * (n - 1 - c[d]))"
   ]
  },
  {
   "cell_type": "markdown",
   "metadata": {},
   "source": [
    "## 3. Esse número já apareceu antes?\n",
    "Dada uma lista com $n$ inteiros na faixa $0..(m-1)$, exibir a posição e o valor de todos os itens duplicados."
   ]
  },
  {
   "cell_type": "markdown",
   "metadata": {},
   "source": [
    "### 3.1 Solução direta\n",
    "Para cada item da lista, verificamos se ele já ocorreu antes e, nesse caso, o incluímos numa lista de duplicatas.\n",
    "O algoritmo tem complexidade próxima a $O\\!\\left( n^2 \\right)\\!.$\n"
   ]
  },
  {
   "cell_type": "code",
   "execution_count": null,
   "metadata": {},
   "outputs": [],
   "source": [
    "def reps(lst):\n",
    "    reps = []\n",
    "    for i, x in enumerate(lst):\n",
    "        if x in lst[:i]:\n",
    "            reps.append((i, x))\n",
    "    return reps"
   ]
  },
  {
   "cell_type": "code",
   "execution_count": null,
   "metadata": {},
   "outputs": [],
   "source": [
    "# Um teste rápido com uma lista aleatória\n",
    "\n",
    "import random\n",
    "import timeit\n",
    "\n",
    "for n in range(1, 2):\n",
    "    lst = random.choices(range(10**(n+1)), k=10**n)\n",
    "    r = reps(lst)\n",
    "    print(lst)\n",
    "    print(r)"
   ]
  },
  {
   "cell_type": "code",
   "execution_count": null,
   "metadata": {},
   "outputs": [],
   "source": [
    "# Um script para avaliar o desempenho do algoritmo\n",
    "\n",
    "import random\n",
    "import timeit\n",
    "import math\n",
    "\n",
    "ta = 0\n",
    "print('        n          t        t/ta')\n",
    "for i in range(1, 3):\n",
    "    n = 10**i\n",
    "    t = timeit.timeit('reps(lst)', \n",
    "                      setup='lst = random.choices(range(10*n), k=n)', \n",
    "                      number=10, \n",
    "                      globals=globals())\n",
    "    try:\n",
    "        print(f'{n:10} {t:12.6f} {t/ta:8.2f}')\n",
    "    except:\n",
    "        print(f'{n:10} {t:12.6f}')\n",
    "    ta = t"
   ]
  },
  {
   "cell_type": "code",
   "execution_count": null,
   "metadata": {},
   "outputs": [],
   "source": [
    "def reps(lst):\n",
    "    return [(i, x) for (i, x) in enumerate(lst) if x in lst[:i]]"
   ]
  },
  {
   "cell_type": "code",
   "execution_count": null,
   "metadata": {},
   "outputs": [],
   "source": [
    "# Um teste rápido com uma lista aleatória\n",
    "\n",
    "import random\n",
    "import timeit\n",
    "\n",
    "for n in range(1, 2):\n",
    "    lst = random.choices(range(10**(n+1)), k=10**n)\n",
    "    r = reps(lst)\n",
    "    print(lst)\n",
    "    print(r)"
   ]
  },
  {
   "cell_type": "code",
   "execution_count": null,
   "metadata": {},
   "outputs": [],
   "source": [
    "# Um script para avaliar o desempenho do algoritmo\n",
    "\n",
    "import random\n",
    "import timeit\n",
    "import math\n",
    "\n",
    "ta = 0\n",
    "print('        n          t        t/ta')\n",
    "for i in range(1, 5):\n",
    "    n = 10**i\n",
    "    t = timeit.timeit('reps(lst)', \n",
    "                      setup='lst = random.choices(range(10*n), k=n)', \n",
    "                      number=10, \n",
    "                      globals=globals())\n",
    "    try:\n",
    "        print(f'{n:10} {t:12.6f} {t/ta:8.2f}')\n",
    "    except:\n",
    "        print(f'{n:10} {t:12.6f}')\n",
    "    ta = t"
   ]
  },
  {
   "cell_type": "code",
   "execution_count": null,
   "metadata": {},
   "outputs": [],
   "source": [
    "def reps(lst):\n",
    "    sreps = set()\n",
    "    lreps = []\n",
    "    for i, x in enumerate(lst):\n",
    "        if x in sreps:\n",
    "            lreps.append((i, x))\n",
    "        else:\n",
    "            sreps.add(x)\n",
    "    return lreps"
   ]
  },
  {
   "cell_type": "code",
   "execution_count": null,
   "metadata": {},
   "outputs": [],
   "source": [
    "# Um teste rápido com uma lista aleatória\n",
    "\n",
    "import random\n",
    "import timeit\n",
    "\n",
    "for n in range(1, 2):\n",
    "    lst = random.choices(range(10**(n+1)), k=10**n)\n",
    "    r = reps(lst)\n",
    "    print(lst)\n",
    "    print(r)"
   ]
  },
  {
   "cell_type": "code",
   "execution_count": null,
   "metadata": {},
   "outputs": [],
   "source": [
    "# Um script para avaliar o desempenho do algoritmo\n",
    "\n",
    "import random\n",
    "import timeit\n",
    "import math\n",
    "\n",
    "ta = 0\n",
    "print('        n          t        t/ta')\n",
    "for i in range(1, 8):\n",
    "    n = 10**i\n",
    "    t = timeit.timeit('reps(lst)', \n",
    "                      setup='lst = random.choices(range(10*n), k=n)', \n",
    "                      number=10, \n",
    "                      globals=globals())\n",
    "    try:\n",
    "        print(f'{n:10} {t:12.6f} {t/ta:8.2f}')\n",
    "    except:\n",
    "        print(f'{n:10} {t:12.6f}')\n",
    "    ta = t"
   ]
  },
  {
   "cell_type": "markdown",
   "metadata": {},
   "source": [
    "### 3.2 Uma variante\n",
    "Dada uma lista de inteiros, escreva um programa para exibir essa lista depois de remover todos os valores duplicados, preservando a ordem original dos valores remanescentes."
   ]
  },
  {
   "cell_type": "markdown",
   "metadata": {},
   "source": [
    "#### 3.2.1 Solução"
   ]
  },
  {
   "cell_type": "code",
   "execution_count": null,
   "metadata": {},
   "outputs": [],
   "source": [
    "def remover_duplicatas(lst):\n",
    "    nlst = []\n",
    "    itens_únicos = set()\n",
    "    for item in lst:\n",
    "        if item not in itens_únicos:\n",
    "            itens_únicos.add(item)\n",
    "            nlst += [item]\n",
    "\n",
    "    return nlst\n",
    "\n",
    "entrada = [32, 27, 15, 27, 120, 88, 27, 155, 155, 120, 88]\n",
    "print(remover_duplicatas(entrada))"
   ]
  },
  {
   "cell_type": "markdown",
   "metadata": {},
   "source": [
    "## 4. Palavras usadas em _Alice in Wonderland_\n",
    "Listar, em ordem alfabética, todas as palavras usadas na versão pública de _Alice in Wonderland_ (http://www.gutenberg.org/ebooks/19033) e as respectivas contagens."
   ]
  },
  {
   "cell_type": "markdown",
   "metadata": {},
   "source": [
    "### 4.1 Solução"
   ]
  },
  {
   "cell_type": "code",
   "execution_count": null,
   "metadata": {},
   "outputs": [],
   "source": [
    "import string\n",
    "\n",
    "# criar um conjunto de caracteres a serem ignorados\n",
    "ignorar = set(string.digits + string.punctuation + '“”‘’')\n",
    "\n",
    "# criar um dicionário indexado pelas palavras existentes no texto,\n",
    "# contendo o número de ocorrências de cada uma delas\n",
    "qtd = dict()\n",
    "\n",
    "def main():\n",
    "    with open('../data/alice_words.txt') as tf:\n",
    "        # o arquivo é lido linha a linha\n",
    "        # ori contém a linha atual, em minúsculas\n",
    "        ori = tf.readline().lower()\n",
    "        while ori:\n",
    "            # mod contém a linha atual após a eliminação dos caracteres indesejados\n",
    "            mod = ''\n",
    "            for i in range(len(ori)):\n",
    "                if ori[i] in ignorar:\n",
    "                    mod += ' '\n",
    "                else:\n",
    "                    mod += ori[i]\n",
    "            # separar e contar as palavras existentes em mod\n",
    "            mod = mod.split()\n",
    "            for palavra in mod:\n",
    "                qtd[palavra] = qtd.get(palavra, 0) + 1\n",
    "            # ler uma nova linha\n",
    "            ori = tf.readline().lower()\n",
    "\n",
    "t = timeit.timeit('main()', \n",
    "                  setup='', \n",
    "                  number=1, \n",
    "                  globals=globals())\n",
    "print('time =', t, '\\n')\n",
    "\n",
    "for palavra in sorted(qtd)[:10]:\n",
    "    print(palavra, qtd[palavra])\n"
   ]
  },
  {
   "cell_type": "markdown",
   "metadata": {},
   "source": [
    "Uma solução usando _list comprehension_ para tentar acelerar um pouco o processo."
   ]
  },
  {
   "cell_type": "code",
   "execution_count": null,
   "metadata": {},
   "outputs": [],
   "source": [
    "import string\n",
    "\n",
    "# criar um conjunto de caracteres a serem ignorados\n",
    "ignorar = set(string.digits + string.punctuation + '“”‘’')\n",
    "\n",
    "# criar um dicionário indexado pelas palavras existentes no texto,\n",
    "# contendo o número de ocorrências de cada uma delas\n",
    "qtd = dict()\n",
    "\n",
    "def main():\n",
    "    with open('../data/alice_words.txt') as tf:\n",
    "        # o arquivo é lido linha a linha\n",
    "        # ori contém a linha atual, em minúsculas\n",
    "        ori = tf.readline().lower()\n",
    "        while ori:\n",
    "            # mod contém a linha atual após a eliminação dos caracteres indesejados\n",
    "            mod = list(ori)\n",
    "            mod = [x if x not in ignorar else ' ' for x in mod]\n",
    "            mod = ''.join(mod)\n",
    "            # separar e contar as palavras existentes em mod\n",
    "            mod = mod.split()\n",
    "            for palavra in mod:\n",
    "                qtd[palavra] = qtd.get(palavra, 0) + 1\n",
    "            # ler uma nova linha\n",
    "            ori = tf.readline().lower()\n",
    "\n",
    "\n",
    "t = timeit.timeit('main()', \n",
    "                  setup='', \n",
    "                  number=1, \n",
    "                  globals=globals())\n",
    "print('time =', t, '\\n')\n",
    "\n",
    "for palavra in sorted(qtd)[:10]:\n",
    "    print(palavra, qtd[palavra])\n",
    "     "
   ]
  },
  {
   "cell_type": "markdown",
   "metadata": {},
   "source": [
    "### 4.2 Quantas 'alice' há no texto?"
   ]
  },
  {
   "cell_type": "code",
   "execution_count": null,
   "metadata": {},
   "outputs": [],
   "source": [
    "print(qtd['alice'])"
   ]
  },
  {
   "cell_type": "markdown",
   "metadata": {},
   "source": [
    "### 4.3 Quais as palavras mais longas do texto?"
   ]
  },
  {
   "cell_type": "code",
   "execution_count": null,
   "metadata": {},
   "outputs": [],
   "source": [
    "lengths = [(len(x), x) for x in qtd]\n",
    "for (n, p) in sorted(lengths, reverse=True)[:20]:\n",
    "    print(n, p)"
   ]
  },
  {
   "cell_type": "markdown",
   "metadata": {},
   "source": [
    "Question:\n",
    "Write a program which takes 2 digits, X,Y as input and generates a 2-dimensional array. The element value in the i-th row and j-th column of the array should be i*j.\n",
    "Note: i=0,1.., X-1; j=0,1,°≠Y-1.\n",
    "Example\n",
    "Suppose the following inputs are given to the program:\n",
    "3,5\n",
    "Then, the output of the program should be:\n",
    "[[0, 0, 0, 0, 0], [0, 1, 2, 3, 4], [0, 2, 4, 6, 8]] \n",
    "\n",
    "Hints:\n",
    "Note: In case of input data being supplied to the question, it should be assumed to be a console input in a comma-separated form."
   ]
  },
  {
   "cell_type": "markdown",
   "metadata": {},
   "source": [
    "## 5. Lista bi-dimensional\n",
    "Escreva um programa que leia 2 dígitos, $x$ e $y$, separados por uma vírgula, e gere uma lista bidimensional.\n",
    "\n",
    "O valor do elemento na $i$-ésima linha e $j$-ésima coluna da lista deve ser $i \\times j$."
   ]
  },
  {
   "cell_type": "markdown",
   "metadata": {},
   "source": [
    "### 5.2 Solução"
   ]
  },
  {
   "cell_type": "code",
   "execution_count": null,
   "metadata": {},
   "outputs": [],
   "source": [
    "entrada = '3,5' # input()\n",
    "\n",
    "x, y = entrada.split(',')\n",
    "x, y = int(x), int(y)\n",
    "mat = [[0 for j in range(y)] for i in range(x)]\n",
    "for i in range(x):\n",
    "    for j in range(y):\n",
    "        mat[i][j] = i * j\n",
    "print(mat)"
   ]
  },
  {
   "cell_type": "markdown",
   "metadata": {},
   "source": [
    "## 6. Manipulação de cadeias de caracteres"
   ]
  },
  {
   "cell_type": "markdown",
   "metadata": {},
   "source": [
    "### 6.1 Enunciado\n",
    "Escreva um programa que aceite uma sequência de palavras separadas por vírgula como entrada e imprima essas palavras como uma seqüência separada por vírgulas depois de classificá-las alfabeticamente."
   ]
  },
  {
   "cell_type": "markdown",
   "metadata": {},
   "source": [
    "#### 6.1.1 Solução"
   ]
  },
  {
   "cell_type": "code",
   "execution_count": null,
   "metadata": {},
   "outputs": [],
   "source": [
    "entrada = 'without,hello,bag,world'  # input()\n",
    "\n",
    "pals = sorted(entrada.split(','))\n",
    "print(','.join(pals))"
   ]
  },
  {
   "cell_type": "markdown",
   "metadata": {},
   "source": [
    "Question:\n",
    "Write a program that accepts a sequence of whitespace separated words as input and prints the words after removing all duplicate words and sorting them alphanumerically.\n",
    "Suppose the following input is supplied to the program:\n",
    "hello world and practice makes perfect and hello world again\n",
    "Then, the output should be:\n",
    "again and hello makes perfect practice world"
   ]
  },
  {
   "cell_type": "markdown",
   "metadata": {},
   "source": [
    "### 6.2 Enunciado\n",
    "Escreva um programa que aceite uma sequência de palavras separadas por espaços em branco como entrada e as imprima depois de remover todas as duplicatas e classificá-las alfanumericamente."
   ]
  },
  {
   "cell_type": "markdown",
   "metadata": {},
   "source": [
    "#### 6.2.1 Solução"
   ]
  },
  {
   "cell_type": "code",
   "execution_count": null,
   "metadata": {},
   "outputs": [],
   "source": [
    "entrada = 'hello world and practice makes perfect and hello world again'  # input()\n",
    "\n",
    "pals = sorted(list(set(entrada.split())))\n",
    "print(' '.join(pals))"
   ]
  },
  {
   "cell_type": "markdown",
   "metadata": {},
   "source": [
    "### 6.3 Enunciado\n",
    "Escreva um programa que aceite como entrada uma sequência de números binários de 4 dígitos, \n",
    "separados por vírgulas, \n",
    "e, em seguida, verifique se eles são divisíveis por 5 ou não. \n",
    "\n",
    "Os números que forem divisíveis por 5 devem ser exibidos no mesmo formato da entrada."
   ]
  },
  {
   "cell_type": "markdown",
   "metadata": {},
   "source": [
    "#### 6.3.1 Solução"
   ]
  },
  {
   "cell_type": "code",
   "execution_count": null,
   "metadata": {},
   "outputs": [],
   "source": [
    "entrada = '0100,0011,1010,1001,0101'  # input()\n",
    "\n",
    "nums = entrada.split(',')\n",
    "nums = [x for x in nums if int(x, 2) % 5 == 0]\n",
    "print(','.join(nums))"
   ]
  },
  {
   "cell_type": "markdown",
   "metadata": {},
   "source": [
    "### 6.4 Enunciado:\n",
    "Escreva um programa que leia um dígito $a$ e calcule o valor de a + aa + aaa + aaaa."
   ]
  },
  {
   "cell_type": "markdown",
   "metadata": {},
   "source": [
    "#### 6.4.1 Solução"
   ]
  },
  {
   "cell_type": "code",
   "execution_count": null,
   "metadata": {},
   "outputs": [],
   "source": [
    "entrada = '9' # input()\n",
    "\n",
    "d = entrada\n",
    "res = int(d) + int(d + d) + int (d + d + d) + int(d + d + d + d)\n",
    "print(res)"
   ]
  },
  {
   "cell_type": "markdown",
   "metadata": {},
   "source": [
    "## 7. List comprehension\n",
    "Use uma _list comprehension_ para elevar ao quadrado e depois exibir todos os números ímpares em uma lista.    \n",
    "A lista deve ser lida como uma sequência de números separados por vírgulas."
   ]
  },
  {
   "cell_type": "code",
   "execution_count": null,
   "metadata": {},
   "outputs": [],
   "source": [
    "entrada = '1,2,3,4,5,6,7,8,9'  # input()\n",
    "\n",
    "nums = entrada.split(',')\n",
    "nums = [str(int(x)**2) for x in nums if int(x) % 2 == 1]\n",
    "print(','.join(nums))"
   ]
  },
  {
   "cell_type": "markdown",
   "metadata": {},
   "source": [
    "## 8. Expressões regulares"
   ]
  },
  {
   "cell_type": "markdown",
   "metadata": {},
   "source": [
    "### 8.1 Enunciado\n",
    "Um site exige que os usuários se registrem fornecendo nome de usuário e senha. Escreva um programa para verificar a validade das senhas digitadas pelos usuários.\n",
    "\n",
    "Uma senha é considerada válida quando satisfaz os seguintes critérios:   \n",
    "1. Pelo menos uma letra na faixa [a-z]\n",
    "2. Pelo menos um algarismo na faixa [0-9]\n",
    "1. Pelo menos uma letra na faixa [A-Z]\n",
    "3. Pelo menos um caractere entre [$#@]\n",
    "4. No mínimo 6 caracteres\n",
    "5. No máximo 12 caracteres\n",
    "\n",
    "\n",
    "O programa deve aceitar uma sequência de senhas separadas por vírgulas e verificá-las de acordo com os critérios acima.    \n",
    "As senhas que satisfizerem os critérios devem ser exibidas, separadas por vírgulas."
   ]
  },
  {
   "cell_type": "markdown",
   "metadata": {},
   "source": [
    "#### 8.1.1 Solução"
   ]
  },
  {
   "cell_type": "code",
   "execution_count": null,
   "metadata": {},
   "outputs": [],
   "source": [
    "import re\n",
    "\n",
    "entrada = 'ABd1234@1234,a F1#,2w3$aE*,2We3345,aA0$aa,aA0$a,aA0$abcdefghi'  # input()\n",
    "\n",
    "ok = []\n",
    "pwds = entrada.split(',')\n",
    "for pwd in pwds:\n",
    "    if (6 <= len(pwd) <= 12 and\n",
    "        re.search('[a-z]', pwd) and\n",
    "        re.search('[A-Z]', pwd) and\n",
    "        re.search('[0-9]', pwd) and\n",
    "        re.search('[$#@]', pwd) and\n",
    "        not re.search('[^a-zA-Z0-9$#@]', pwd)):\n",
    "        ok.append(pwd)\n",
    "print(','.join(ok))"
   ]
  },
  {
   "cell_type": "markdown",
   "metadata": {},
   "source": [
    "### 8.2 Enunciado\n",
    "Supondo que tenhamos alguns endereços de e-mail no formato _username@companyname.com_, escreva programa para exibir os nomes dos usuários de um determinado endereço de e-mail. Tanto os nomes de usuários como os nomes das empresas são compostos apenas por “letras”.\n",
    "\n",
    "Use os endereços contidos no arquivo _../data/email_addresses.txt_ como entrada e _example.com_ como filtro."
   ]
  },
  {
   "cell_type": "markdown",
   "metadata": {},
   "source": [
    "#### 8.2.1 Solução"
   ]
  },
  {
   "cell_type": "code",
   "execution_count": null,
   "metadata": {},
   "outputs": [],
   "source": [
    "import re\n",
    "entrada = '../data/email_addresses.txt'\n",
    "padrão = r'(\\w+)@(\\w+(.\\w)+.com)'\n",
    "filtro = 'example.com'\n",
    "\n",
    "with open(entrada) as df:\n",
    "    end_email = df.readline().strip()\n",
    "    while end_email:\n",
    "        res = re.match(padrão, end_email)\n",
    "        try:\n",
    "            if res.group(2) == filtro:\n",
    "                print(f'{res.group(1):20}')\n",
    "        except:\n",
    "            print('>>> ', end_email)\n",
    "        end_email = df.readline().strip()"
   ]
  },
  {
   "cell_type": "markdown",
   "metadata": {},
   "source": [
    "Question:\n",
    "\n",
    "Write a program which accepts a sequence of words separated by whitespace as input to print the words composed of digits only.\n",
    "\n",
    "Example:\n",
    "If the following words is given as input to the program:\n",
    "\n",
    "2 cats and 3 dogs.\n",
    "\n",
    "Then, the output of the program should be:\n",
    "\n",
    "['2', '3']\n",
    "\n",
    "In case of input data being supplied to the question, it should be assumed to be a console input.\n",
    "\n",
    "Hints:\n",
    "\n",
    "Use re.findall() to find all substring using regex.\n",
    "\n",
    "Solution:\n",
    "import re\n",
    "s = raw_input()\n",
    "print re.findall(\"\\d+\",s)\n"
   ]
  },
  {
   "cell_type": "code",
   "execution_count": null,
   "metadata": {},
   "outputs": [],
   "source": [
    "import re\n",
    "\n",
    "teste = '2 cats and 3 dogs.'\n",
    "\n",
    "res = re.findall('\\d+', teste)\n",
    "print(res)"
   ]
  },
  {
   "cell_type": "markdown",
   "metadata": {},
   "source": [
    "Question:\n",
    "\n",
    "Please write a binary search function which searches an item in a sorted list. The function should return the index of element to be searched in the list.\n",
    "\n",
    "\n",
    "Hints:\n",
    "Use if/elif to deal with conditions.\n",
    "\n",
    "\n",
    "Solution:\n",
    "\n",
    "import math\n",
    "def bin_search(li, element):\n",
    "    bottom = 0\n",
    "    top = len(li)-1\n",
    "    index = -1\n",
    "    while top>=bottom and index==-1:\n",
    "        mid = int(math.floor((top+bottom)/2.0))\n",
    "        if li[mid]==element:\n",
    "            index = mid\n",
    "        elif li[mid]>element:\n",
    "            top = mid-1\n",
    "        else:\n",
    "            bottom = mid+1\n",
    "\n",
    "    return index\n",
    "\n",
    "li=[2,5,7,9,11,17,222]\n",
    "print bin_search(li,11)\n",
    "print bin_search(li,12)\n"
   ]
  },
  {
   "cell_type": "code",
   "execution_count": null,
   "metadata": {},
   "outputs": [],
   "source": [
    "lst = [5, 6, 77, 45, 22, 12, 24]\n",
    "print([x for x in lst if x % 2 == 1])"
   ]
  },
  {
   "cell_type": "code",
   "execution_count": null,
   "metadata": {},
   "outputs": [],
   "source": [
    "lst = [12, 24, 35, 70, 88, 120, 155]\n",
    "print([x for x in lst if not x % 5 and not x % 7 ])"
   ]
  },
  {
   "cell_type": "code",
   "execution_count": null,
   "metadata": {},
   "outputs": [],
   "source": [
    "lst = [12, 24, 35, 70, 88, 120, 155]\n",
    "rem = [0, 2, 4, 6]\n",
    "\n",
    "res = [x for (ix, x) in enumerate(lst) if ix not in rem]\n",
    "print(res)"
   ]
  },
  {
   "cell_type": "markdown",
   "metadata": {},
   "source": [
    "Please write a program to print the list after removing delete even numbers in [5,6,77,45,22,12,24].\n",
    "\n",
    "Hints:\n",
    "Use list comprehension to delete a bunch of element from a list.\n",
    "\n",
    "Solution:\n",
    "\n",
    "li = [5,6,77,45,22,12,24]\n",
    "li = [x for x in li if x%2!=0]\n",
    "print li\n",
    "\n",
    "#----------------------------------------#\n",
    "Question:\n",
    "\n",
    "By using list comprehension, please write a program to print the list after removing delete numbers which are divisible by 5 and 7 in [12,24,35,70,88,120,155].\n",
    "\n",
    "Hints:\n",
    "Use list comprehension to delete a bunch of element from a list.\n",
    "\n",
    "Solution:\n",
    "\n",
    "li = [12,24,35,70,88,120,155]\n",
    "li = [x for x in li if x%5!=0 and x%7!=0]\n",
    "print li\n",
    "\n",
    "\n",
    "#----------------------------------------#\n",
    "Question:\n",
    "\n",
    "By using list comprehension, please write a program to print the list after removing the 0th, 2nd, 4th,6th numbers in [12,24,35,70,88,120,155].\n",
    "\n",
    "Hints:\n",
    "Use list comprehension to delete a bunch of element from a list.\n",
    "Use enumerate() to get (index, value) tuple.\n",
    "\n",
    "Solution:\n",
    "\n",
    "li = [12,24,35,70,88,120,155]\n",
    "li = [x for (i,x) in enumerate(li) if i%2!=0]\n",
    "print li\n",
    "\n",
    "#----------------------------------------#\n",
    "\n",
    "Question:\n",
    "\n",
    "By using list comprehension, please write a program generate a 3*5*8 3D array whose each element is 0.\n",
    "\n",
    "Hints:\n",
    "Use list comprehension to make an array.\n",
    "\n",
    "Solution:\n",
    "\n",
    "array = [[ [0 for col in range(8)] for col in range(5)] for row in range(3)]\n",
    "print array\n",
    "\n",
    "#----------------------------------------#\n",
    "Question:\n",
    "\n",
    "By using list comprehension, please write a program to print the list after removing the 0th,4th,5th numbers in [12,24,35,70,88,120,155].\n",
    "\n",
    "Hints:\n",
    "Use list comprehension to delete a bunch of element from a list.\n",
    "Use enumerate() to get (index, value) tuple.\n",
    "\n",
    "Solution:\n",
    "\n",
    "li = [12,24,35,70,88,120,155]\n",
    "li = [x for (i,x) in enumerate(li) if i not in (0,4,5)]\n",
    "print li\n",
    "\n",
    "\n",
    "\n",
    "#----------------------------------------#\n",
    "\n",
    "Question:\n",
    "\n",
    "By using list comprehension, please write a program to print the list after removing the value 24 in [12,24,35,24,88,120,155].\n",
    "\n",
    "Hints:\n",
    "Use list's remove method to delete a value.\n",
    "\n",
    "Solution:\n",
    "\n",
    "li = [12,24,35,24,88,120,155]\n",
    "li = [x for x in li if x!=24]\n",
    "print li\n",
    "\n",
    "\n",
    "#----------------------------------------#\n",
    "Question:\n",
    "\n",
    "With two given lists [1,3,6,78,35,55] and [12,24,35,24,88,120,155], write a program to make a list whose elements are intersection of the above given lists.\n",
    "\n",
    "Hints:\n",
    "Use set() and \"&=\" to do set intersection operation.\n",
    "\n",
    "Solution:\n",
    "\n",
    "set1=set([1,3,6,78,35,55])\n",
    "set2=set([12,24,35,24,88,120,155])\n",
    "set1 &= set2\n",
    "li=list(set1)\n",
    "print li\n",
    "\n",
    "#----------------------------------------#\n",
    "\n",
    "With a given list [12,24,35,24,88,120,155,88,120,155], write a program to print this list after removing all duplicate values with original order reserved.\n",
    "\n",
    "Hints:\n",
    "Use set() to store a number of values without duplicate.\n",
    "\n",
    "Solution:"
   ]
  },
  {
   "cell_type": "code",
   "execution_count": null,
   "metadata": {},
   "outputs": [],
   "source": [
    "%%timeit\n",
    "def removeDuplicate( li ):\n",
    "    newli=[]\n",
    "    seen = set()\n",
    "    for item in li:\n",
    "        if item not in seen:\n",
    "            seen.add( item )\n",
    "            newli.append(item)\n",
    "\n",
    "    return newli\n",
    "\n",
    "li=[12,24,35,24,88,120,155,88,120,155]\n",
    "res = removeDuplicate(li)"
   ]
  },
  {
   "cell_type": "code",
   "execution_count": null,
   "metadata": {},
   "outputs": [],
   "source": [
    "%%timeit\n",
    "lst = [12, 24, 35, 24, 88, 120, 155, 88, 120, 155]\n",
    "res = [x for (ix, x) in enumerate(lst) if x not in lst[:ix]]\n",
    "# print(res)"
   ]
  },
  {
   "cell_type": "markdown",
   "metadata": {},
   "source": [
    "Question:\n",
    "\n",
    "Write a program to solve a classic ancient Chinese puzzle: \n",
    "We count 35 heads and 94 legs among the chickens and rabbits in a farm. How many rabbits and how many chickens do we have?\n",
    "\n",
    "Hint:\n",
    "Use for loop to iterate all possible solutions.\n",
    "\n",
    "Solution:"
   ]
  },
  {
   "cell_type": "code",
   "execution_count": null,
   "metadata": {},
   "outputs": [],
   "source": [
    "def solve(numheads, numlegs):\n",
    "    ns = 'No solutions!'\n",
    "    for i in range(numheads + 1):\n",
    "        j = numheads - i\n",
    "        if 2 * i + 4 * j == numlegs:\n",
    "            return i,j\n",
    "    return ns, ns\n",
    "\n",
    "numheads = 35\n",
    "numlegs = 94\n",
    "solutions = solve(numheads, numlegs)\n",
    "print(solutions)"
   ]
  }
 ],
 "metadata": {
  "kernelspec": {
   "display_name": "Python 3",
   "language": "python",
   "name": "python3"
  },
  "language_info": {
   "codemirror_mode": {
    "name": "ipython",
    "version": 3
   },
   "file_extension": ".py",
   "mimetype": "text/x-python",
   "name": "python",
   "nbconvert_exporter": "python",
   "pygments_lexer": "ipython3",
   "version": "3.6.4"
  }
 },
 "nbformat": 4,
 "nbformat_minor": 2
}
