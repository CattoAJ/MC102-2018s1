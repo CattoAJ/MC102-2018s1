{
 "cells": [
  {
   "cell_type": "code",
   "execution_count": 1,
   "metadata": {
    "ExecuteTime": {
     "end_time": "2018-04-26T01:12:04.093689Z",
     "start_time": "2018-04-26T01:12:04.090231Z"
    },
    "init_cell": true
   },
   "outputs": [],
   "source": [
    "from IPython.core.interactiveshell import InteractiveShell\n",
    "InteractiveShell.ast_node_interactivity = \"all\""
   ]
  },
  {
   "cell_type": "markdown",
   "metadata": {},
   "source": [
    "# Expressões Regulares\n",
    "**MC102-2018s1-Aula19**"
   ]
  },
  {
   "cell_type": "markdown",
   "metadata": {},
   "source": [
    "Uma expressão regular (também chamada *RE*, *regex*, ou *regex pattern*) é usada para identificar se um padrão ocorre ou não em uma determinada sequência de caracteres (*string*).\n",
    "\n",
    "Expressões regulares implementam uma forma muito eficiente de manipulação de textos, permitindo o reconhecimento de padrões, a criação de variantes de uma dada *string* e o seu “fatiamento” de diversas maneiras.\n",
    "\n",
    "Dadas as limitações das expressões regulares, elas não serão suficientes para resolver qualquer tarefa de processamento de textos, nem mesmo de expressar de forma simples algumas tarefas possíveis.   \n",
    "Nesses casos, a melhor opção talvez seja desenvolver uma função em Python. Embora o código Python possa ser mais lento que uma expressão regular, ele provavelmente será mais inteligível."
   ]
  },
  {
   "cell_type": "markdown",
   "metadata": {},
   "source": [
    "Em Python, expressões regulares são implementadas pelos módulos ```re``` e ```regex```.   \n",
    "Assim, para poder usá-las em nossos *scripts*, teremos que importar um desses módulos.   \n",
    "Aqui vamos estudar apenas algumas das funcionalidades disponíveis no módulo ```re```."
   ]
  },
  {
   "cell_type": "code",
   "execution_count": 2,
   "metadata": {},
   "outputs": [],
   "source": [
    "import re"
   ]
  },
  {
   "cell_type": "markdown",
   "metadata": {},
   "source": [
    "Para nossos primeiros testes, vamos adotar uma variante de um pangrama famoso..."
   ]
  },
  {
   "cell_type": "code",
   "execution_count": 3,
   "metadata": {},
   "outputs": [],
   "source": [
    "t = '''Then, 80% of the quick brown foxes \n",
    "jumped over the lazy dog.'''"
   ]
  },
  {
   "cell_type": "markdown",
   "metadata": {},
   "source": [
    "... que gera a seguinte cadeia:"
   ]
  },
  {
   "cell_type": "markdown",
   "metadata": {},
   "source": [
    "`0........10........20........30........40........50........60`   \n",
    "`Then, 80% of the quick brown foxes *jumped over the lazy dog.`"
   ]
  },
  {
   "cell_type": "markdown",
   "metadata": {},
   "source": [
    "Em Python, a busca de uma expressão regular num dado texto é normalmente feita por..."
   ]
  },
  {
   "cell_type": "code",
   "execution_count": 4,
   "metadata": {},
   "outputs": [
    {
     "data": {
      "text/plain": [
       "<_sre.SRE_Match object; span=(13, 16), match='the'>"
      ]
     },
     "execution_count": 4,
     "metadata": {},
     "output_type": "execute_result"
    }
   ],
   "source": [
    "re.search(r'the', t)"
   ]
  },
  {
   "cell_type": "markdown",
   "metadata": {},
   "source": [
    "ou"
   ]
  },
  {
   "cell_type": "code",
   "execution_count": 5,
   "metadata": {},
   "outputs": [],
   "source": [
    "re.match(r'the', t)"
   ]
  },
  {
   "cell_type": "markdown",
   "metadata": {},
   "source": [
    "Note que ```match``` aparentemente não produziu resultado algum.    \n",
    "Na verdade, o resultado foi `None`, que não é exibido nesse formato."
   ]
  },
  {
   "cell_type": "code",
   "execution_count": 6,
   "metadata": {},
   "outputs": [
    {
     "name": "stdout",
     "output_type": "stream",
     "text": [
      "None\n"
     ]
    }
   ],
   "source": [
    "print(re.match(r'berro', t))"
   ]
  },
  {
   "cell_type": "markdown",
   "metadata": {},
   "source": [
    "A diferença entre essas duas funções é que ```match``` verifica se a expressão regular ocorre logo no início do texto, enquanto ```search``` procura a primeira ocorrência da expressão regular em qualquer ponto do texto dado.   \n",
    "Por padrão, a busca diferencia maiúsculas de minúsculas.\n",
    "\n",
    "Assim, ..."
   ]
  },
  {
   "cell_type": "code",
   "execution_count": 7,
   "metadata": {},
   "outputs": [
    {
     "data": {
      "text/plain": [
       "<_sre.SRE_Match object; span=(0, 3), match='The'>"
      ]
     },
     "execution_count": 7,
     "metadata": {},
     "output_type": "execute_result"
    }
   ],
   "source": [
    "re.search(r'The', t)"
   ]
  },
  {
   "cell_type": "code",
   "execution_count": 8,
   "metadata": {},
   "outputs": [
    {
     "data": {
      "text/plain": [
       "<_sre.SRE_Match object; span=(0, 3), match='The'>"
      ]
     },
     "execution_count": 8,
     "metadata": {},
     "output_type": "execute_result"
    }
   ],
   "source": [
    "re.match(r'The', t)"
   ]
  },
  {
   "cell_type": "markdown",
   "metadata": {},
   "source": [
    "... produzem o mesmo resultado."
   ]
  },
  {
   "cell_type": "markdown",
   "metadata": {},
   "source": [
    "As funções `re.search()` e `re.match()` ignoram as diferenças entre maiúsculas e minúsculas quando acrescentamos `re.IGNORECASE` ou simplesmente `re.I` ao final da lista de argumentos."
   ]
  },
  {
   "cell_type": "code",
   "execution_count": 9,
   "metadata": {},
   "outputs": [
    {
     "data": {
      "text/plain": [
       "<_sre.SRE_Match object; span=(0, 3), match='The'>"
      ]
     },
     "execution_count": 9,
     "metadata": {},
     "output_type": "execute_result"
    }
   ],
   "source": [
    "re.search(r'the', t, re.IGNORECASE)"
   ]
  },
  {
   "cell_type": "code",
   "execution_count": 10,
   "metadata": {},
   "outputs": [
    {
     "data": {
      "text/plain": [
       "<_sre.SRE_Match object; span=(0, 3), match='The'>"
      ]
     },
     "execution_count": 10,
     "metadata": {},
     "output_type": "execute_result"
    }
   ],
   "source": [
    "re.match(r'the', t, re.I)"
   ]
  },
  {
   "cell_type": "markdown",
   "metadata": {},
   "source": [
    "Habitue-se a colocar um ```r``` antes da cadeia que será usada como padrão de busca.   \n",
    "Assim essa cadeia será considerada “bruta” (*raw*) e não será interpretada por Python, o que faz com que barras invertidas (```'\\'```) possam existir na cadeia sem que sejam tratadas como caracteres de escape.   \n",
    "Isso permitirá que a gente escreva coisas como ```'\\w'```, que serão frequentes em nossas expressões regulares, literalmente e não na forma ```'\\\\w'```."
   ]
  },
  {
   "cell_type": "markdown",
   "metadata": {},
   "source": [
    "## Padrões Básicos\n",
    "Nos exemplos anteriores buscamos expressões fixas (```'the'``` e ```'The'```) no texto dado.   \n",
    "No entanto, uma grande virtude de expressões regulares é que elas podem especificar padrões variáveis.   \n",
    "\n",
    "Vamos examinar algunns padrões básicos que estabelecem correspondência com caracteres únicos."
   ]
  },
  {
   "cell_type": "markdown",
   "metadata": {},
   "source": [
    "-   **```a```**, **```X```**, **```9```**   \n",
    "    Caracteres comuns, que devem ser correspondidos exatamente.   \n",
    "    Maiúsculas são consideradas diferentes de minúsculas.   "
   ]
  },
  {
   "cell_type": "code",
   "execution_count": 11,
   "metadata": {},
   "outputs": [
    {
     "data": {
      "text/plain": [
       "<_sre.SRE_Match object; span=(17, 22), match='quick'>"
      ]
     },
     "execution_count": 11,
     "metadata": {},
     "output_type": "execute_result"
    }
   ],
   "source": [
    "re.search(r'quick', t)"
   ]
  },
  {
   "cell_type": "markdown",
   "metadata": {},
   "source": [
    "-   **```.```** (ponto)   \n",
    "    Corresponde a qualquer caractere único, exceto “nova linha” (```'\\n'```).    "
   ]
  },
  {
   "cell_type": "code",
   "execution_count": 12,
   "metadata": {},
   "outputs": [
    {
     "data": {
      "text/plain": [
       "<_sre.SRE_Match object; span=(0, 1), match='T'>"
      ]
     },
     "execution_count": 12,
     "metadata": {},
     "output_type": "execute_result"
    }
   ],
   "source": [
    "re.search(r'.', t)"
   ]
  },
  {
   "cell_type": "markdown",
   "metadata": {},
   "source": [
    "-   **```\\w```** (w minúsculo)   \n",
    "    Corresponde a qualquer caractere que possa aparecer numa “palavra”: uma letra maiúscula ou minúscula, um dígito decimal ou um “sublinhado”.    \n",
    "    Note que, embora o ```w``` nos remeta a “word”, a correspondência será feita com um único caractere, não com uma uma palavra inteira.   \n",
    "    **```\\W```** (W maiúsculo) corresponde a qualquer caractere não pertencente ao grupo “palavra”."
   ]
  },
  {
   "cell_type": "code",
   "execution_count": 13,
   "metadata": {},
   "outputs": [
    {
     "data": {
      "text/plain": [
       "<_sre.SRE_Match object; span=(0, 1), match='T'>"
      ]
     },
     "execution_count": 13,
     "metadata": {},
     "output_type": "execute_result"
    }
   ],
   "source": [
    "re.search(r'\\w', t)"
   ]
  },
  {
   "cell_type": "code",
   "execution_count": 14,
   "metadata": {},
   "outputs": [
    {
     "data": {
      "text/plain": [
       "<_sre.SRE_Match object; span=(4, 5), match=','>"
      ]
     },
     "execution_count": 14,
     "metadata": {},
     "output_type": "execute_result"
    }
   ],
   "source": [
    "re.search(r'\\W', t)"
   ]
  },
  {
   "cell_type": "markdown",
   "metadata": {},
   "source": [
    "-   \\b\n",
    "    limite entre palavra e não palavra"
   ]
  },
  {
   "cell_type": "code",
   "execution_count": 15,
   "metadata": {},
   "outputs": [
    {
     "data": {
      "text/plain": [
       "<_sre.SRE_Match object; span=(0, 0), match=''>"
      ]
     },
     "execution_count": 15,
     "metadata": {},
     "output_type": "execute_result"
    }
   ],
   "source": [
    "re.search(r'\\b', t)"
   ]
  },
  {
   "cell_type": "markdown",
   "metadata": {},
   "source": [
    "-   **```\\s```** (s minúsculo)   \n",
    "Corresponde a um único caractere de espaço em branco: espaço, nova linha (```\\n```), retorno (```\\r```) ou  tabulação (```\\t```).    \n",
    "**```\\S```** (S maiúsculo) corresponde a qualquer caractere que não seja considerado espaço em branco."
   ]
  },
  {
   "cell_type": "code",
   "execution_count": 16,
   "metadata": {},
   "outputs": [
    {
     "data": {
      "text/plain": [
       "<_sre.SRE_Match object; span=(5, 6), match=' '>"
      ]
     },
     "execution_count": 16,
     "metadata": {},
     "output_type": "execute_result"
    }
   ],
   "source": [
    "re.search(r'\\s', t)"
   ]
  },
  {
   "cell_type": "markdown",
   "metadata": {},
   "source": [
    "-   **```\\t, \\n, \\r```** (tabulação, nova linha, retorno)   \n",
    "Correspondem exatamente a esses caracteres."
   ]
  },
  {
   "cell_type": "code",
   "execution_count": 17,
   "metadata": {},
   "outputs": [
    {
     "data": {
      "text/plain": [
       "<_sre.SRE_Match object; span=(35, 36), match='\\n'>"
      ]
     },
     "execution_count": 17,
     "metadata": {},
     "output_type": "execute_result"
    }
   ],
   "source": [
    "re.search(r'\\n', t)"
   ]
  },
  {
   "cell_type": "markdown",
   "metadata": {},
   "source": [
    "-   **```\\d```** (d minúsculo)   \n",
    "Corresponde a qualquer dígito decimal.   \n",
    "**\\D** (D maiúsculo) corresponde a qualquer caractere que não seja um dígito decimal."
   ]
  },
  {
   "cell_type": "code",
   "execution_count": 18,
   "metadata": {},
   "outputs": [
    {
     "data": {
      "text/plain": [
       "<_sre.SRE_Match object; span=(6, 7), match='8'>"
      ]
     },
     "execution_count": 18,
     "metadata": {},
     "output_type": "execute_result"
    }
   ],
   "source": [
    "re.search(r'\\d', t)"
   ]
  },
  {
   "cell_type": "markdown",
   "metadata": {},
   "source": [
    "-   **```^```** e **```$```**   \n",
    "    Correspondem, respectivamente, ao início e fim do texto."
   ]
  },
  {
   "cell_type": "code",
   "execution_count": 19,
   "metadata": {},
   "outputs": [
    {
     "data": {
      "text/plain": [
       "<_sre.SRE_Match object; span=(0, 0), match=''>"
      ]
     },
     "execution_count": 19,
     "metadata": {},
     "output_type": "execute_result"
    }
   ],
   "source": [
    "re.search(r'^', t)"
   ]
  },
  {
   "cell_type": "code",
   "execution_count": 20,
   "metadata": {},
   "outputs": [
    {
     "data": {
      "text/plain": [
       "<_sre.SRE_Match object; span=(61, 61), match=''>"
      ]
     },
     "execution_count": 20,
     "metadata": {},
     "output_type": "execute_result"
    }
   ],
   "source": [
    "re.search(r'$', t)"
   ]
  },
  {
   "cell_type": "markdown",
   "metadata": {},
   "source": [
    "Para fazer com que um *metacaractere* se comporte como um caractere normal, insira uma barra invertida na frente dele.   \n",
    "Assim, **```\\.```** corresponde a um “ponto final”,  **```\\\\```** corresponde a uma “barra invertida”, **```\\^```** corresponde a um “circunflexo” e **```\\$```** corresponde a um “cifrão”.\n",
    "\n",
    "Se você ficar em dúvida sobre algum caractere ser ou não um metacaractere, por segurança, coloque uma barra invertida na frente dele.   \n",
    "Assim, por exemplo, **```\\%```** será tratado como **```%```**, seja **```%```** um metacaractere ou não."
   ]
  },
  {
   "cell_type": "code",
   "execution_count": 21,
   "metadata": {},
   "outputs": [
    {
     "data": {
      "text/plain": [
       "<_sre.SRE_Match object; span=(8, 9), match='%'>"
      ]
     },
     "execution_count": 21,
     "metadata": {},
     "output_type": "execute_result"
    }
   ],
   "source": [
    "re.search(r'\\%', t)"
   ]
  },
  {
   "cell_type": "code",
   "execution_count": 22,
   "metadata": {},
   "outputs": [
    {
     "data": {
      "text/plain": [
       "<_sre.SRE_Match object; span=(8, 9), match='%'>"
      ]
     },
     "execution_count": 22,
     "metadata": {},
     "output_type": "execute_result"
    }
   ],
   "source": [
    "re.search(r'%', t)"
   ]
  },
  {
   "cell_type": "markdown",
   "metadata": {},
   "source": [
    "## Regras Básicas\n",
    "\n",
    "A satisfação de um critério (definido por uma expressão regular) por uma cadeia de caracteres é verificada de acordo com as seguintes regras básicas:\n",
    "\n",
    "1.   A cadeia de caracteres é examinada da esquerda para a direita.\n",
    "1.   O processo é interrompido assim que a expressão regular bater com um segmento da cadeia de caracteres.\n",
    "1.   Para que o critério seja considerado satisfeito, a expressão regular precisa ter sido inteiramente mapeada sobre a cadeia, mas a cadeia não precisa ter sido totalmente usada.\n",
    "1.   Se na execução de `res = re.search(pad, cad)`, não for encontrada uma correspondência entre a expressão regular `pad` e um trecho da cadeia `cad`, o valor associado a `res` será `None`. \n",
    "Caso contrário, `res != None`, `res.span()` retornará uma tupla com a “*range*” correspondente e `res.group()` retornará o texto encontrado."
   ]
  },
  {
   "cell_type": "markdown",
   "metadata": {},
   "source": [
    "### Ex 1. Dada a lista de cadeias de caracteres $cads$, definir um padrão que bata com os dígitos decimais de cada uma delas."
   ]
  },
  {
   "cell_type": "code",
   "execution_count": 23,
   "metadata": {},
   "outputs": [
    {
     "name": "stdout",
     "output_type": "stream",
     "text": [
      "'abc123xyz' (3, 6) '123'\n",
      "'123abcxyz' (0, 3) '123'\n",
      "'abcxyz123' (6, 9) '123'\n"
     ]
    }
   ],
   "source": [
    "cads = ['abc123xyz', '123abcxyz', 'abcxyz123']\n",
    "\n",
    "pad = r'123'\n",
    "\n",
    "for cad in cads:\n",
    "    res = re.search(pad, cad)\n",
    "    if res:\n",
    "        print(\"'\" + cad + \"'\", res.span(), \"'\" + res.group() + \"'\")\n",
    "    else:\n",
    "        print('a expressão regular', \"'\" + pad + \"'\", 'não foi encontrada em', \"'\" + cad + \"'\")"
   ]
  },
  {
   "cell_type": "code",
   "execution_count": 24,
   "metadata": {},
   "outputs": [
    {
     "name": "stdout",
     "output_type": "stream",
     "text": [
      "'abc123xyz' (3, 6) '123'\n",
      "'456abcxyz' (0, 3) '456'\n",
      "'abcxyz789' (6, 9) '789'\n"
     ]
    }
   ],
   "source": [
    "cads = ['abc123xyz', '456abcxyz', 'abcxyz789']\n",
    "\n",
    "pad = r'\\d\\d\\d'\n",
    "\n",
    "for cad in cads:\n",
    "    res = re.search(pad, cad)\n",
    "    if res:\n",
    "        print(\"'\" + cad + \"'\", res.span(), \"'\" + res.group() + \"'\")\n",
    "    else:\n",
    "        print('a expressão regular', \"'\" + pad + \"'\", 'não foi encontrada em', \"'\" + cad + \"'\")"
   ]
  },
  {
   "cell_type": "markdown",
   "metadata": {},
   "source": [
    "### Ex 2. A lista $cads$ contém cadeias de caracteres variadas mas de mesmo comprimento. Defina um padrão que seja satisfeito pelas três primeiras mas não pela última."
   ]
  },
  {
   "cell_type": "code",
   "execution_count": 25,
   "metadata": {},
   "outputs": [
    {
     "name": "stdout",
     "output_type": "stream",
     "text": [
      "'abc.' (3, 4) '.'\n",
      "'123.' (3, 4) '.'\n",
      "'-.-.' (3, 4) '.'\n",
      "a expressão regular '\\.$' não foi encontrada em 'wxyz'\n"
     ]
    }
   ],
   "source": [
    "strs = ['abc.', '123.', '-.-.', 'wxyz']\n",
    "\n",
    "pad = r'\\.$'\n",
    "\n",
    "for str in strs:\n",
    "    res = re.search(pad, str)\n",
    "    if res:\n",
    "        print(\"'\" + str + \"'\", res.span(), \"'\" + res.group() + \"'\")\n",
    "    else:\n",
    "        print('a expressão regular', \"'\" + pad + \"'\", 'não foi encontrada em', \"'\" + str + \"'\")"
   ]
  },
  {
   "cell_type": "markdown",
   "metadata": {},
   "source": [
    "## Correspondência com conjuntos de caracteres\n",
    "\n",
    "É possível estabelecer correspondência com qualquer caracter de um dado conjunto, especificando este último entre colchetes(**`[`** e **`]`**).   \n",
    "\n",
    "Por exemplo, ..."
   ]
  },
  {
   "cell_type": "code",
   "execution_count": 26,
   "metadata": {},
   "outputs": [
    {
     "name": "stdout",
     "output_type": "stream",
     "text": [
      "'wxyz' (2, 3) 'f'\n",
      "'wxyz' (0, 1) 'h'\n",
      "'wxyz' (1, 2) 'g'\n",
      "a expressão regular '[fgh]' não foi encontrada em 'aposta'\n"
     ]
    }
   ],
   "source": [
    "cads = ['cofre', 'hoje', 'água', 'aposta']\n",
    "\n",
    "pad = r'[fgh]'\n",
    "\n",
    "for cad in cads:\n",
    "    res = re.search(pad, cad)\n",
    "    if res:\n",
    "        print(\"'\" + str + \"'\", res.span(), \"'\" + res.group() + \"'\")\n",
    "    else:\n",
    "        print('a expressão regular', \"'\" + pad + \"'\", 'não foi encontrada em', \"'\" + cad + \"'\")"
   ]
  },
  {
   "cell_type": "markdown",
   "metadata": {},
   "source": [
    "### Ex 3. Dada a lista de cadeias $cads$, criar um padrão que bata com as três primeiras mas não com as três últimas."
   ]
  },
  {
   "cell_type": "code",
   "execution_count": 27,
   "metadata": {},
   "outputs": [
    {
     "name": "stdout",
     "output_type": "stream",
     "text": [
      "'wxyz' (0, 4) 'tapa'\n",
      "'wxyz' (0, 4) 'capa'\n",
      "'wxyz' (0, 4) 'papa'\n",
      "a expressão regular '[tcp]apa' não foi encontrada em 'lapa'\n",
      "a expressão regular '[tcp]apa' não foi encontrada em 'mapa'\n",
      "a expressão regular '[tcp]apa' não foi encontrada em 'rapa'\n"
     ]
    }
   ],
   "source": [
    "cads = ['tapa', 'capa', 'papa', 'lapa', 'mapa', 'rapa']\n",
    "\n",
    "pad = r'[tcp]apa'\n",
    "\n",
    "for cad in cads:\n",
    "    res = re.search(pad, cad)\n",
    "    if res:\n",
    "        print(\"'\" + str + \"'\", res.span(), \"'\" + res.group() + \"'\")\n",
    "    else:\n",
    "        print('a expressão regular', \"'\" + pad + \"'\", 'não foi encontrada em', \"'\" + cad + \"'\")"
   ]
  },
  {
   "cell_type": "markdown",
   "metadata": {},
   "source": [
    "## Ignorar caracteres de um conjunto"
   ]
  },
  {
   "cell_type": "markdown",
   "metadata": {},
   "source": [
    "É possível ignorar os caracteres de um dado conjunto colocando-se um **`^`** logo após o colchete esquerdo."
   ]
  },
  {
   "cell_type": "markdown",
   "metadata": {},
   "source": [
    "### Ex 4. Dada a lista de cadeias $cads$, criar um padrão que bata apenas com os nomes de animais."
   ]
  },
  {
   "cell_type": "code",
   "execution_count": 28,
   "metadata": {},
   "outputs": [
    {
     "name": "stdout",
     "output_type": "stream",
     "text": [
      "'wxyz' (0, 4) 'gato'\n",
      "a expressão regular '[grp]ato' não foi encontrada em 'fato'\n",
      "a expressão regular '[grp]ato' não foi encontrada em 'mato'\n",
      "'wxyz' (0, 4) 'rato'\n",
      "a expressão regular '[grp]ato' não foi encontrada em 'tato'\n",
      "'wxyz' (0, 4) 'pato'\n"
     ]
    }
   ],
   "source": [
    "cads = ['gato', 'fato', 'mato', 'rato', 'tato', 'pato']\n",
    "\n",
    "pad = r'[grp]ato'\n",
    "\n",
    "for cad in cads:\n",
    "    res = re.search(pad, cad)\n",
    "    if res:\n",
    "        print(\"'\" + str + \"'\", res.span(), \"'\" + res.group() + \"'\")\n",
    "    else:\n",
    "        print('a expressão regular', \"'\" + pad + \"'\", 'não foi encontrada em', \"'\" + cad + \"'\")"
   ]
  },
  {
   "cell_type": "code",
   "execution_count": 29,
   "metadata": {},
   "outputs": [
    {
     "name": "stdout",
     "output_type": "stream",
     "text": [
      "'wxyz' (0, 4) 'gato'\n",
      "a expressão regular '[^fmt]ato' não foi encontrada em 'fato'\n",
      "a expressão regular '[^fmt]ato' não foi encontrada em 'mato'\n",
      "'wxyz' (0, 4) 'rato'\n",
      "a expressão regular '[^fmt]ato' não foi encontrada em 'tato'\n",
      "'wxyz' (0, 4) 'pato'\n"
     ]
    }
   ],
   "source": [
    "cads = ['gato', 'fato', 'mato', 'rato', 'tato', 'pato']\n",
    "\n",
    "pad = r'[^fmt]ato'\n",
    "\n",
    "for cad in cads:\n",
    "    res = re.search(pad, cad)\n",
    "    if res:\n",
    "        print(\"'\" + str + \"'\", res.span(), \"'\" + res.group() + \"'\")\n",
    "    else:\n",
    "        print('a expressão regular', \"'\" + pad + \"'\", 'não foi encontrada em', \"'\" + cad + \"'\")"
   ]
  },
  {
   "cell_type": "markdown",
   "metadata": {},
   "source": [
    "## Usar faixas de caracteres para especificar conjuntos\n",
    "Ao definir um conjunto é possível indicar uma sequência contínua de caracteres especificando o primeiro e o último elementos separados por um hífen (**`-`**).   \n",
    "Os metacaracteres `\\w`, `\\d` e `\\W` também podem ser usados normalmente neste contexto."
   ]
  },
  {
   "cell_type": "markdown",
   "metadata": {},
   "source": [
    "### Ex 5. Dada a lista de cadeias $cads$, criar um padrão $pad$ que bata com as três primeiras mas não com as três últimas."
   ]
  },
  {
   "cell_type": "code",
   "execution_count": 30,
   "metadata": {},
   "outputs": [
    {
     "name": "stdout",
     "output_type": "stream",
     "text": [
      "'Ala' (0, 3) 'Ala'\n",
      "'Boa' (0, 3) 'Boa'\n",
      "'Cal' (0, 3) 'Cal'\n",
      "a expressão regular '[A-C][alo][al]' não foi encontrada em 'Mas'\n",
      "a expressão regular '[A-C][alo][al]' não foi encontrada em 'oba'\n",
      "a expressão regular '[A-C][alo][al]' não foi encontrada em 'zip'\n"
     ]
    }
   ],
   "source": [
    "cads = ['Ala', 'Boa', 'Cal', 'Mas', 'oba', 'zip']\n",
    "\n",
    "pad = r'[A-C][alo][al]'\n",
    "\n",
    "for cad in cads:\n",
    "    res = re.search(pad, cad)\n",
    "    if res:\n",
    "        print(\"'\" + cad + \"'\", res.span(), \"'\" + res.group() + \"'\")\n",
    "    else:\n",
    "        print('a expressão regular', \"'\" + pad + \"'\", 'não foi encontrada em', \"'\" + cad + \"'\")"
   ]
  },
  {
   "cell_type": "markdown",
   "metadata": {},
   "source": [
    "## Repetições\n",
    "\n",
    "Os padrões que estudamos até aqui batem com caracteres únicos.\n",
    "\n",
    "Para criar um padrão que possa corresponder a um número variável de caracteres, usam-se os metacaracteres **`+`**, **`*`** e **`?`**.\n",
    "-   **`+`** bate com 1 ou mais ocorrências do padrão à sua esquerda\n",
    "-   **`*`** bate com 0 ou mais ocorrências do padrão à sua esquerda\n",
    "-   **`?`** bate com 0 ou 1 ocorrência do padrão à sua esquerda\n",
    "\n",
    "**`+`** e **`*`** buscam na cadeia de caracteres a primeira ocorrência do padrão (isto é, o mais à esquerda possível) e a partir daí tentam usar o maior número possível de caracteres da cadeia.   \n",
    "Esse tipo de correspondência é dito “guloso”."
   ]
  },
  {
   "cell_type": "markdown",
   "metadata": {},
   "source": [
    "Vamos estudar alguns exemplos..."
   ]
  },
  {
   "cell_type": "code",
   "execution_count": 31,
   "metadata": {},
   "outputs": [
    {
     "data": {
      "text/plain": [
       "<_sre.SRE_Match object; span=(1, 3), match='ãã'>"
      ]
     },
     "execution_count": 31,
     "metadata": {},
     "output_type": "execute_result"
    }
   ],
   "source": [
    "## ã+ bate com o máximo número de “ã”s começando o mais à esquerda possível\n",
    "re.search(r'ã+', 'Nãão me diga nããããão!')"
   ]
  },
  {
   "cell_type": "markdown",
   "metadata": {},
   "source": [
    "Note que foi encontrado o conjunto de `ã`s mais à esquerda, que depois foi estendido ao máximo.   \n",
    "Embora mais longo, o segundo grupo de `ã`s não foi considerado."
   ]
  },
  {
   "cell_type": "code",
   "execution_count": 32,
   "metadata": {},
   "outputs": [
    {
     "name": "stdout",
     "output_type": "stream",
     "text": [
      "'no mínimo' (0, 2) 'no'\n",
      "'não me diga' (0, 3) 'não'\n",
      "a expressão regular 'nã?o' não foi encontrada em 'agora nãão'\n"
     ]
    }
   ],
   "source": [
    "cads = ['no mínimo', 'não me diga', 'agora nãão']\n",
    "\n",
    "pad = r'nã?o'\n",
    "\n",
    "for cad in cads:\n",
    "    res = re.search(pad, cad)\n",
    "    if res:\n",
    "        print(\"'\" + cad + \"'\", res.span(), \"'\" + res.group() + \"'\")\n",
    "    else:\n",
    "        print('a expressão regular', \"'\" + pad + \"'\", 'não foi encontrada em', \"'\" + cad + \"'\")"
   ]
  },
  {
   "cell_type": "markdown",
   "metadata": {},
   "source": [
    "Neste caso, o padrão especificava um “$\\textit{n}$”, seguido por 0 ou 1 “$\\textit{ã}$”, seguido por um “$\\textit{o}$”.    \n",
    "Nas duas primeiras cadeias o padrão foi encontrado, mas na terceira não."
   ]
  },
  {
   "cell_type": "markdown",
   "metadata": {},
   "source": [
    "### Ex 6. Dada a lista de cadeias $cads$, criar um padrão $pad$ que bata com as três primeiras mas não com a última."
   ]
  },
  {
   "cell_type": "code",
   "execution_count": 33,
   "metadata": {},
   "outputs": [
    {
     "name": "stdout",
     "output_type": "stream",
     "text": [
      "'11133' (0, 5) '11133'\n",
      "'112' (0, 3) '112'\n",
      "'112223' (0, 6) '112223'\n",
      "a expressão regular '11+2*3*' não foi encontrada em '1'\n"
     ]
    }
   ],
   "source": [
    "cads = ['11133', '112', '112223', '1']\n",
    "\n",
    "pad = r'11+2*3*'\n",
    "\n",
    "for cad in cads:\n",
    "    res = re.search(pad, cad)\n",
    "    if res:\n",
    "        print(\"'\" + cad + \"'\", res.span(), \"'\" + res.group() + \"'\")\n",
    "    else:\n",
    "        print('a expressão regular', \"'\" + pad + \"'\", 'não foi encontrada em', \"'\" + cad + \"'\")"
   ]
  },
  {
   "cell_type": "markdown",
   "metadata": {},
   "source": [
    "## Limitando o número de repetições"
   ]
  },
  {
   "cell_type": "markdown",
   "metadata": {},
   "source": [
    "É possível especificar o número de repetições desejadas de um padrão.\n",
    "-   {$m$} bate com exatamente $m$ repetições do padrão à sua esquerda\n",
    "-   {$m$, $n$} bate com $m$ a $n$ repetições do padrão à sua esquerda"
   ]
  },
  {
   "cell_type": "markdown",
   "metadata": {},
   "source": [
    "### Ex 7. Dada a lista de cadeias $cads$, criar um padrão $pad$ que bata com as duas primeiras mas não com a última."
   ]
  },
  {
   "cell_type": "code",
   "execution_count": 34,
   "metadata": {},
   "outputs": [
    {
     "name": "stdout",
     "output_type": "stream",
     "text": [
      "'1233345' (0, 7) '1233345'\n",
      "'123345' (0, 6) '123345'\n",
      "a expressão regular '123{2,3}45' não foi encontrada em '12345'\n"
     ]
    }
   ],
   "source": [
    "cads = ['1233345', '123345', '12345']\n",
    "\n",
    "pad = r'123{2,3}45'\n",
    "\n",
    "for cad in cads:\n",
    "    res = re.search(pad, cad)\n",
    "    if res:\n",
    "        print(\"'\" + cad + \"'\", res.span(), \"'\" + res.group() + \"'\")\n",
    "    else:\n",
    "        print('a expressão regular', \"'\" + pad + \"'\", 'não foi encontrada em', \"'\" + cad + \"'\")"
   ]
  },
  {
   "cell_type": "markdown",
   "metadata": {},
   "source": [
    "### Ex 8. Dada a lista de cadeias $cads$, criar um padrão $pad$ que bata com as três primeiras mas não com as duas últimas."
   ]
  },
  {
   "cell_type": "code",
   "execution_count": 35,
   "metadata": {},
   "outputs": [
    {
     "name": "stdout",
     "output_type": "stream",
     "text": [
      "'112233' (0, 6) '112233'\n",
      "'11122233' (0, 8) '11122233'\n",
      "'111222333' (0, 9) '111222333'\n",
      "a expressão regular '1{2,3}2{2,3}3{2,3}' não foi encontrada em '1223'\n",
      "a expressão regular '1{2,3}2{2,3}3{2,3}' não foi encontrada em '1233'\n"
     ]
    }
   ],
   "source": [
    "cads = ['112233', '11122233', '111222333', '1223', '1233']\n",
    "\n",
    "pad = r'1{2,3}2{2,3}3{2,3}'\n",
    "\n",
    "for cad in cads:\n",
    "    res = re.search(pad, cad)\n",
    "    if res:\n",
    "        print(\"'\" + cad + \"'\", res.span(), \"'\" + res.group() + \"'\")\n",
    "    else:\n",
    "        print('a expressão regular', \"'\" + pad + \"'\", 'não foi encontrada em', \"'\" + cad + \"'\")"
   ]
  },
  {
   "cell_type": "code",
   "execution_count": 36,
   "metadata": {},
   "outputs": [
    {
     "name": "stdout",
     "output_type": "stream",
     "text": [
      "'112233' == '112233': True\n",
      "'11122233' == '11122233': True\n",
      "'111222333' == '111222333': True\n",
      "a expressão regular '1{2,3}2{2,3}3{2,3}' não foi encontrada em '1223'\n",
      "a expressão regular '1{2,3}2{2,3}3{2,3}' não foi encontrada em '1233'\n"
     ]
    }
   ],
   "source": [
    "cads = ['112233', '11122233', '111222333', '1223', '1233']\n",
    "\n",
    "pad = r'1{2,3}2{2,3}3{2,3}'\n",
    "\n",
    "for cad in cads:\n",
    "    res = re.search(pad, cad)\n",
    "    if res:\n",
    "        print(\"'\" + cad + \"' == '\" + res.group() + \"':\", cad == res.group())\n",
    "    else:\n",
    "        print('a expressão regular', \"'\" + pad + \"'\", 'não foi encontrada em', \"'\" + cad + \"'\")"
   ]
  },
  {
   "cell_type": "markdown",
   "metadata": {},
   "source": [
    "### Ex 9. Dada a lista de cadeias $cads$, criar um padrão $pad$ que extraia o endereço de e-mail contido em cada uma delas"
   ]
  },
  {
   "cell_type": "code",
   "execution_count": 37,
   "metadata": {},
   "outputs": [
    {
     "name": "stdout",
     "output_type": "stream",
     "text": [
      "alice@themail.com\n",
      "maria@themail.com.br\n",
      "maria.123@mymail.com\n",
      "jose-silva@mymail.com.br\n"
     ]
    }
   ],
   "source": [
    "cads = ['blá blá blá alice@themail.com', \n",
    "        'abc xyz maria@themail.com.br etc etc', \n",
    "        'abc xyz maria.123@mymail.com blá blá', \n",
    "        'jose-silva@mymail.com.br'\n",
    "       ]\n",
    "\n",
    "pad = r'[\\w.-]+@\\w+(\\.\\w+)+'\n",
    "\n",
    "for cad in cads:\n",
    "    res = re.search(pad, cad)\n",
    "    if res:\n",
    "        print(res.group())\n",
    "    else:\n",
    "        print('a expressão regular', \"'\" + pad + \"'\", 'não foi encontrada em', \"'\" + cad + \"'\")"
   ]
  },
  {
   "cell_type": "markdown",
   "metadata": {},
   "source": [
    "## Extração de Grupos\n",
    "Em uma expressão regular, “grupos” permitem separar algumas partes do texto correspondente.   \n",
    "\n",
    "Suponha que, no exemplo anterior, queiramos extrair o nome do usuário e do serviço hospedeiro separadamente.   \n",
    "Para isso, colocamos o nome de usuário e o do hospedeiro entre parênteses, como mostrado abaixo."
   ]
  },
  {
   "cell_type": "code",
   "execution_count": 38,
   "metadata": {},
   "outputs": [],
   "source": [
    "pad = r'([\\w.-]+)@(\\w+(\\.\\w+)+)'"
   ]
  },
  {
   "cell_type": "markdown",
   "metadata": {},
   "source": [
    "Os parênteses não alteram a funcionalidade do padrão, mas estabelecem “grupos lógicos” dentro do texto de correspondência.   \n",
    "Se a busca for bem-sucedida, `res.group(1)` restornará o texto correspondente ao primeiro par de parênteses e `res.group(2)` retornará o texto correspondente ao segundo par.    \n",
    "A chamada `res.group()` continuará retornando todo o texto mapeado como de costume."
   ]
  },
  {
   "cell_type": "code",
   "execution_count": 39,
   "metadata": {},
   "outputs": [
    {
     "name": "stdout",
     "output_type": "stream",
     "text": [
      "alice        themail.com        alice@themail.com             \n",
      "maria        themail.com.br     maria@themail.com.br          \n",
      "maria.123    mymail.com         maria.123@mymail.com          \n",
      "jose-silva   mymail.com.br      jose-silva@mymail.com.br      \n"
     ]
    }
   ],
   "source": [
    "for cad in cads:\n",
    "    res = re.search(pad, cad)\n",
    "    if res:\n",
    "        print(f\"{res.group(1):12} {res.group(2):18} {res.group():30}\")\n",
    "    else:\n",
    "        print('a expressão regular', \"'\" + pad + \"'\", 'não foi encontrada em', \"'\" + cad + \"'\")"
   ]
  },
  {
   "cell_type": "markdown",
   "metadata": {},
   "source": [
    "## Encontrando múltiplas ocorrências de um padrão\n",
    "A função `re.findall()` é semelhante a `re.search()` mas retorna uma lista com todas as sub-cadeias que satisfazem o padrão na cadeia dada.   \n",
    "Por exemplo, ..."
   ]
  },
  {
   "cell_type": "code",
   "execution_count": 40,
   "metadata": {},
   "outputs": [
    {
     "name": "stdout",
     "output_type": "stream",
     "text": [
      "alice@themail.com\n",
      "maria@themail.com.br\n",
      "maria.123@mymail.com\n",
      "jose-silva@mymail.com.br\n"
     ]
    }
   ],
   "source": [
    "cad = ''' blá blá blá alice@themail.com     abc xyz maria@themail.com.br etc etc \n",
    "          abc xyz maria.123@mymail.com blá blá jose-silva@mymail.com.br\n",
    "      '''\n",
    "\n",
    "pad =  r'[\\w\\.-]+@[\\w\\.-]+'\n",
    "\n",
    "res = re.findall(pad, cad)\n",
    "if res:\n",
    "    for r in res:\n",
    "        print(r)\n",
    "else:\n",
    "    print('a expressão regular', \"'\" + pad + \"'\", 'não foi encontrada em', \"'\" + cad + \"'\")\n"
   ]
  },
  {
   "cell_type": "markdown",
   "metadata": {},
   "source": [
    "Se usarmos grupos na definição do padrão, `re.findall()` retornará uma lista de tuplas, cujos elementos corresponderão aos grupos do padrão.\n",
    "Por exemplo, podemos separar o nome do usuário e o nome do hospedeiro, como num exemplo anterior."
   ]
  },
  {
   "cell_type": "code",
   "execution_count": 41,
   "metadata": {},
   "outputs": [
    {
     "name": "stdout",
     "output_type": "stream",
     "text": [
      "alice        themail.com        ('alice', 'themail.com')\n",
      "maria        themail.com.br     ('maria', 'themail.com.br')\n",
      "maria.123    mymail.com         ('maria.123', 'mymail.com')\n",
      "jose-silva   mymail.com.br      ('jose-silva', 'mymail.com.br')\n"
     ]
    }
   ],
   "source": [
    "cad = ''' blá blá blá alice@themail.com     abc xyz maria@themail.com.br etc etc \n",
    "          abc xyz maria.123@mymail.com blá blá jose-silva@mymail.com.br\n",
    "      '''\n",
    "\n",
    "pad =  r'([\\w\\.-]+)@([\\w\\.-]+)'\n",
    "\n",
    "res = re.findall(pad, cad)\n",
    "if res:\n",
    "    for r in res:\n",
    "        print(f'{r[0]:12} {r[1]:18} {r}')\n",
    "else:\n",
    "    print('a expressão regular', \"'\" + pad + \"'\", 'não foi encontrada em', \"'\" + cad + \"'\")\n"
   ]
  },
  {
   "cell_type": "markdown",
   "metadata": {},
   "source": [
    "## Encontrando múltiplas ocorrências de um padrão com um iterador\n",
    "Quando o texto a ser examinado é muito grande, como um arquivo, por exemplo, pode não ser interessante localizar todas as ocorrências de um padrão  antes de começar a processá-las.   \n",
    "Um *iterador* produz o mesmo efeito mas gera seus elementos um a um, na medida do necessário.   \n",
    "Isto pode ser muito vantajoso em termos de tempo e espaço.\n",
    "\n",
    "No exemplo abaixo, usamos `re.finditer()` para localizar e separar os nomes dos usuários e dos hospedeiros do exemplo anterior.   \n",
    "Note a diferença na posição dos elementos nas tuplas resultantes."
   ]
  },
  {
   "cell_type": "code",
   "execution_count": 42,
   "metadata": {},
   "outputs": [
    {
     "name": "stdout",
     "output_type": "stream",
     "text": [
      "alice@themail.com              alice        themail.com       \n",
      "maria@themail.com.br           maria        themail.com.br    \n",
      "maria.123@mymail.com           maria.123    mymail.com        \n",
      "jose-silva@mymail.com.br       jose-silva   mymail.com.br     \n"
     ]
    }
   ],
   "source": [
    "cad = ''' blá blá blá alice@themail.com     abc xyz maria@themail.com.br etc etc \n",
    "          abc xyz maria.123@mymail.com blá blá jose-silva@mymail.com.br\n",
    "      '''\n",
    "\n",
    "pad =  r'([\\w\\.-]+)@([\\w\\.-]+)'\n",
    "\n",
    "res = re.finditer(pad, cad)\n",
    "for r in res:\n",
    "    print(f'{r[0]:30} {r[1]:12} {r[2]:18}')\n"
   ]
  },
  {
   "cell_type": "markdown",
   "metadata": {},
   "source": [
    "## Substituição do padrão nas ocorrências localizadas\n",
    "A função `re.sub()` permite substituir todas as ocorrências do padrão localizadas no texto original por uma nova cadeia.   \n",
    "A cadeia de substituição pode incluir `\\1`, `\\2`,... para se referir a `group(1)`, `group(2)`,... do padrão.\n",
    "\n",
    "Por exemplo, vamos substituir o hospedeiro por `newmail.com` em todos os endereços de e-mail localizados no exemplo anterior."
   ]
  },
  {
   "cell_type": "code",
   "execution_count": 43,
   "metadata": {},
   "outputs": [
    {
     "name": "stdout",
     "output_type": "stream",
     "text": [
      " blá blá blá alice@newmail.com     abc xyz maria@newmail.com etc etc \n",
      "          abc xyz maria.123@newmail.com blá blá jose-silva@newmail.com\n",
      "      \n"
     ]
    }
   ],
   "source": [
    "cad = ''' blá blá blá alice@themail.com     abc xyz maria@themail.com.br etc etc \n",
    "          abc xyz maria.123@mymail.com blá blá jose-silva@mymail.com.br\n",
    "      '''\n",
    "\n",
    "pad =  r'([\\w\\.-]+)@([\\w\\.-]+)'\n",
    "scad = r'\\1@newmail.com'\n",
    "\n",
    "res = re.sub(pad, scad, cad)\n",
    "print(res)"
   ]
  }
 ],
 "metadata": {
  "kernelspec": {
   "display_name": "Python 3",
   "language": "python",
   "name": "python3"
  },
  "language_info": {
   "codemirror_mode": {
    "name": "ipython",
    "version": 3
   },
   "file_extension": ".py",
   "mimetype": "text/x-python",
   "name": "python",
   "nbconvert_exporter": "python",
   "pygments_lexer": "ipython3",
   "version": "3.6.4"
  },
  "latex_envs": {
   "LaTeX_envs_menu_present": true,
   "autoclose": false,
   "autocomplete": true,
   "bibliofile": "biblio.bib",
   "cite_by": "apalike",
   "current_citInitial": 1,
   "eqLabelWithNumbers": true,
   "eqNumInitial": 1,
   "hotkeys": {
    "equation": "Ctrl-E",
    "itemize": "Ctrl-I"
   },
   "labels_anchors": false,
   "latex_user_defs": false,
   "report_style_numbering": false,
   "user_envs_cfg": false
  }
 },
 "nbformat": 4,
 "nbformat_minor": 2
}
